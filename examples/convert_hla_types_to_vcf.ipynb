{
 "cells": [
  {
   "cell_type": "code",
   "execution_count": 1,
   "metadata": {},
   "outputs": [
    {
     "name": "stderr",
     "output_type": "stream",
     "text": [
      "\n",
      "Attaching package: ‘reshape2’\n",
      "\n",
      "\n",
      "The following objects are masked from ‘package:data.table’:\n",
      "\n",
      "    dcast, melt\n",
      "\n",
      "\n"
     ]
    }
   ],
   "source": [
    "# source(\"/frazer01/projects/CEGS/analysis/hla_type_1kgp/script/functions_hla_type.R\")\n",
    "source(\"/frazer01/home/aphodges/software/my_hla_typing/script/functions_hla_type.R\")\n",
    "\n",
    "#Note: to install reshape2 correctly, this must be done from conda as follows:\n",
    "# conda activate hla\n",
    "# R\n",
    "#install.packages(\"reshape2\", dependencies=TRUE, INSTALL_opts = c('--no-lock'))\n",
    "# conda install -c conda-forge r-reshape2\n",
    "library(reshape2)\n",
    "\n"
   ]
  },
  {
   "cell_type": "code",
   "execution_count": 2,
   "metadata": {},
   "outputs": [],
   "source": [
    "#install.packages(\"stringi\")\n",
    "#install.packages(\"stringr\")\n",
    "#install.packages(\"reshape2\")\n",
    "#install.packages(\"stringi\", dependencies=TRUE, INSTALL_opts = c('--no-lock'))\n",
    "#install.packages(\"stringr\", dependencies=TRUE, INSTALL_opts = c('--no-lock'))"
   ]
  },
  {
   "cell_type": "markdown",
   "metadata": {},
   "source": [
    "# Get MHC VCF file"
   ]
  },
  {
   "cell_type": "code",
   "execution_count": 3,
   "metadata": {},
   "outputs": [
    {
     "name": "stdout",
     "output_type": "stream",
     "text": [
      "[1] \"bcftools view -r 6:25000001-34000001 -S /frazer01/home/aphodges/software/my_hla_typing/input/ids.txt -O z -o /frazer01/home/aphodges/software/my_hla_typing/input/vcf/mhc.vcf.gz /frazer01/home/aphodges/software/my_hla_typing/input/vcf/chr6.vcf.gz\"\n",
      "[1] \"bcftools index -t /frazer01/home/aphodges/software/my_hla_typing/input/vcf/mhc.vcf.gz\"\n"
     ]
    }
   ],
   "source": [
    "command = paste(\"bcftools\", \"view\",\n",
    "                \"-r\", coord,\n",
    "                \"-S\", ids_file,\n",
    "                \"-O\", \"z\",\n",
    "                \"-o\", vcf_snps,\n",
    "                vcf_chr6\n",
    "               )\n",
    "\n",
    "system(command)\n",
    "print(command)\n",
    "command = paste(\"bcftools\", \"index\", \"-t\", vcf_snps)\n",
    "print(command)\n",
    "system(command)\n"
   ]
  },
  {
   "cell_type": "code",
   "execution_count": 4,
   "metadata": {},
   "outputs": [
    {
     "name": "stdout",
     "output_type": "stream",
     "text": [
      "function (.variables, drop = FALSE) \n",
      "{\n",
      "    lifecycle::deprecate_stop(\"0.5.0\", \"id()\", \"vctrs::vec_group_id()\")\n",
      "}\n",
      "<bytecode: 0x55f788f61688>\n",
      "<environment: namespace:dplyr>\n",
      "                                                                     cram_url\n",
      "NA12718 ftp://ftp.sra.ebi.ac.uk/vol1/run/ERR323/ERR3239480/NA12718.final.cram\n",
      "NA12748 ftp://ftp.sra.ebi.ac.uk/vol1/run/ERR323/ERR3239481/NA12748.final.cram\n",
      "NA12775 ftp://ftp.sra.ebi.ac.uk/vol1/run/ERR323/ERR3239482/NA12775.final.cram\n",
      "NA12777 ftp://ftp.sra.ebi.ac.uk/vol1/run/ERR323/ERR3239483/NA12777.final.cram\n",
      "NA12778 ftp://ftp.sra.ebi.ac.uk/vol1/run/ERR323/ERR3239484/NA12778.final.cram\n",
      "NA12827 ftp://ftp.sra.ebi.ac.uk/vol1/run/ERR323/ERR3239485/NA12827.final.cram\n",
      "NA12829 ftp://ftp.sra.ebi.ac.uk/vol1/run/ERR323/ERR3239486/NA12829.final.cram\n",
      "NA12842 ftp://ftp.sra.ebi.ac.uk/vol1/run/ERR323/ERR3239487/NA12842.final.cram\n",
      "NA12843 ftp://ftp.sra.ebi.ac.uk/vol1/run/ERR323/ERR3239488/NA12843.final.cram\n",
      "NA12889 ftp://ftp.sra.ebi.ac.uk/vol1/run/ERR323/ERR3239489/NA12889.final.cram\n",
      "NA12890 ftp://ftp.sra.ebi.ac.uk/vol1/run/ERR323/ERR3239490/NA12890.final.cram\n",
      "NA18488 ftp://ftp.sra.ebi.ac.uk/vol1/run/ERR323/ERR3239491/NA18488.final.cram\n",
      "NA18530 ftp://ftp.sra.ebi.ac.uk/vol1/run/ERR323/ERR3239492/NA18530.final.cram\n",
      "NA18534 ftp://ftp.sra.ebi.ac.uk/vol1/run/ERR323/ERR3239493/NA18534.final.cram\n",
      "NA18536 ftp://ftp.sra.ebi.ac.uk/vol1/run/ERR323/ERR3239494/NA18536.final.cram\n",
      "NA18543 ftp://ftp.sra.ebi.ac.uk/vol1/run/ERR323/ERR3239495/NA18543.final.cram\n",
      "NA18544 ftp://ftp.sra.ebi.ac.uk/vol1/run/ERR323/ERR3239496/NA18544.final.cram\n",
      "NA18546 ftp://ftp.sra.ebi.ac.uk/vol1/run/ERR323/ERR3239497/NA18546.final.cram\n",
      "NA18548 ftp://ftp.sra.ebi.ac.uk/vol1/run/ERR323/ERR3239498/NA18548.final.cram\n",
      "NA18549 ftp://ftp.sra.ebi.ac.uk/vol1/run/ERR323/ERR3239499/NA18549.final.cram\n",
      "NA18557 ftp://ftp.sra.ebi.ac.uk/vol1/run/ERR323/ERR3239500/NA18557.final.cram\n",
      "NA18559 ftp://ftp.sra.ebi.ac.uk/vol1/run/ERR323/ERR3239501/NA18559.final.cram\n",
      "NA20752 ftp://ftp.sra.ebi.ac.uk/vol1/run/ERR323/ERR3239832/NA20752.final.cram\n",
      "NA20753 ftp://ftp.sra.ebi.ac.uk/vol1/run/ERR323/ERR3239833/NA20753.final.cram\n",
      "NA20754 ftp://ftp.sra.ebi.ac.uk/vol1/run/ERR323/ERR3239834/NA20754.final.cram\n",
      "NA20755 ftp://ftp.sra.ebi.ac.uk/vol1/run/ERR323/ERR3239835/NA20755.final.cram\n",
      "NA20756 ftp://ftp.sra.ebi.ac.uk/vol1/run/ERR323/ERR3239836/NA20756.final.cram\n",
      "NA20757 ftp://ftp.sra.ebi.ac.uk/vol1/run/ERR323/ERR3239837/NA20757.final.cram\n",
      "NA20758 ftp://ftp.sra.ebi.ac.uk/vol1/run/ERR323/ERR3239838/NA20758.final.cram\n",
      "NA20759 ftp://ftp.sra.ebi.ac.uk/vol1/run/ERR323/ERR3239839/NA20759.final.cram\n",
      "NA20760 ftp://ftp.sra.ebi.ac.uk/vol1/run/ERR323/ERR3239840/NA20760.final.cram\n",
      "NA20761 ftp://ftp.sra.ebi.ac.uk/vol1/run/ERR323/ERR3239841/NA20761.final.cram\n",
      "NA20762 ftp://ftp.sra.ebi.ac.uk/vol1/run/ERR323/ERR3239842/NA20762.final.cram\n",
      "NA20763 ftp://ftp.sra.ebi.ac.uk/vol1/run/ERR323/ERR3239843/NA20763.final.cram\n",
      "NA20764 ftp://ftp.sra.ebi.ac.uk/vol1/run/ERR323/ERR3239844/NA20764.final.cram\n",
      "NA20765 ftp://ftp.sra.ebi.ac.uk/vol1/run/ERR323/ERR3239845/NA20765.final.cram\n",
      "NA20766 ftp://ftp.sra.ebi.ac.uk/vol1/run/ERR323/ERR3239846/NA20766.final.cram\n",
      "NA20767 ftp://ftp.sra.ebi.ac.uk/vol1/run/ERR323/ERR3239847/NA20767.final.cram\n",
      "NA20768 ftp://ftp.sra.ebi.ac.uk/vol1/run/ERR323/ERR3239848/NA20768.final.cram\n",
      "NA20769 ftp://ftp.sra.ebi.ac.uk/vol1/run/ERR323/ERR3239849/NA20769.final.cram\n",
      "NA20770 ftp://ftp.sra.ebi.ac.uk/vol1/run/ERR323/ERR3239850/NA20770.final.cram\n",
      "NA20771 ftp://ftp.sra.ebi.ac.uk/vol1/run/ERR323/ERR3239851/NA20771.final.cram\n",
      "NA20772 ftp://ftp.sra.ebi.ac.uk/vol1/run/ERR323/ERR3239852/NA20772.final.cram\n",
      "NA20773 ftp://ftp.sra.ebi.ac.uk/vol1/run/ERR323/ERR3239853/NA20773.final.cram\n",
      "HG00443 ftp://ftp.sra.ebi.ac.uk/vol1/run/ERR324/ERR3240184/HG00443.final.cram\n",
      "HG00445 ftp://ftp.sra.ebi.ac.uk/vol1/run/ERR324/ERR3240185/HG00445.final.cram\n",
      "HG00446 ftp://ftp.sra.ebi.ac.uk/vol1/run/ERR324/ERR3240186/HG00446.final.cram\n",
      "HG00448 ftp://ftp.sra.ebi.ac.uk/vol1/run/ERR324/ERR3240187/HG00448.final.cram\n",
      "HG00449 ftp://ftp.sra.ebi.ac.uk/vol1/run/ERR324/ERR3240188/HG00449.final.cram\n",
      "HG00451 ftp://ftp.sra.ebi.ac.uk/vol1/run/ERR324/ERR3240189/HG00451.final.cram\n",
      "            run_id      id population\n",
      "NA12718 ERR3239480 NA12718        CEU\n",
      "NA12748 ERR3239481 NA12748        CEU\n",
      "NA12775 ERR3239482 NA12775        CEU\n",
      "NA12777 ERR3239483 NA12777        CEU\n",
      "NA12778 ERR3239484 NA12778        CEU\n",
      "NA12827 ERR3239485 NA12827        CEU\n",
      "NA12829 ERR3239486 NA12829        CEU\n",
      "NA12842 ERR3239487 NA12842        CEU\n",
      "NA12843 ERR3239488 NA12843        CEU\n",
      "NA12889 ERR3239489 NA12889        CEU\n",
      "NA12890 ERR3239490 NA12890        CEU\n",
      "NA18488 ERR3239491 NA18488        YRI\n",
      "NA18530 ERR3239492 NA18530        CHB\n",
      "NA18534 ERR3239493 NA18534        CHB\n",
      "NA18536 ERR3239494 NA18536        CHB\n",
      "NA18543 ERR3239495 NA18543        CHB\n",
      "NA18544 ERR3239496 NA18544        CHB\n",
      "NA18546 ERR3239497 NA18546        CHB\n",
      "NA18548 ERR3239498 NA18548        CHB\n",
      "NA18549 ERR3239499 NA18549        CHB\n",
      "NA18557 ERR3239500 NA18557        CHB\n",
      "NA18559 ERR3239501 NA18559        CHB\n",
      "NA20752 ERR3239832 NA20752        TSI\n",
      "NA20753 ERR3239833 NA20753        TSI\n",
      "NA20754 ERR3239834 NA20754        TSI\n",
      "NA20755 ERR3239835 NA20755        TSI\n",
      "NA20756 ERR3239836 NA20756        TSI\n",
      "NA20757 ERR3239837 NA20757        TSI\n",
      "NA20758 ERR3239838 NA20758        TSI\n",
      "NA20759 ERR3239839 NA20759        TSI\n",
      "NA20760 ERR3239840 NA20760        TSI\n",
      "NA20761 ERR3239841 NA20761        TSI\n",
      "NA20762 ERR3239842 NA20762        TSI\n",
      "NA20763 ERR3239843 NA20763        TSI\n",
      "NA20764 ERR3239844 NA20764        TSI\n",
      "NA20765 ERR3239845 NA20765        TSI\n",
      "NA20766 ERR3239846 NA20766        TSI\n",
      "NA20767 ERR3239847 NA20767        TSI\n",
      "NA20768 ERR3239848 NA20768        TSI\n",
      "NA20769 ERR3239849 NA20769        TSI\n",
      "NA20770 ERR3239850 NA20770        TSI\n",
      "NA20771 ERR3239851 NA20771        TSI\n",
      "NA20772 ERR3239852 NA20772        TSI\n",
      "NA20773 ERR3239853 NA20773        TSI\n",
      "HG00443 ERR3240184 HG00443        CHS\n",
      "HG00445 ERR3240185 HG00445        CHS\n",
      "HG00446 ERR3240186 HG00446        CHS\n",
      "HG00448 ERR3240187 HG00448        CHS\n",
      "HG00449 ERR3240188 HG00449        CHS\n",
      "HG00451 ERR3240189 HG00451        CHS\n",
      "                                                      infile\n",
      "NA12718 pipeline/hla_typing/processing/NA12718.hla_types.txt\n",
      "NA12748 pipeline/hla_typing/processing/NA12748.hla_types.txt\n",
      "NA12775 pipeline/hla_typing/processing/NA12775.hla_types.txt\n",
      "NA12777 pipeline/hla_typing/processing/NA12777.hla_types.txt\n",
      "NA12778 pipeline/hla_typing/processing/NA12778.hla_types.txt\n",
      "NA12827 pipeline/hla_typing/processing/NA12827.hla_types.txt\n",
      "NA12829 pipeline/hla_typing/processing/NA12829.hla_types.txt\n",
      "NA12842 pipeline/hla_typing/processing/NA12842.hla_types.txt\n",
      "NA12843 pipeline/hla_typing/processing/NA12843.hla_types.txt\n",
      "NA12889 pipeline/hla_typing/processing/NA12889.hla_types.txt\n",
      "NA12890 pipeline/hla_typing/processing/NA12890.hla_types.txt\n",
      "NA18488 pipeline/hla_typing/processing/NA18488.hla_types.txt\n",
      "NA18530 pipeline/hla_typing/processing/NA18530.hla_types.txt\n",
      "NA18534 pipeline/hla_typing/processing/NA18534.hla_types.txt\n",
      "NA18536 pipeline/hla_typing/processing/NA18536.hla_types.txt\n",
      "NA18543 pipeline/hla_typing/processing/NA18543.hla_types.txt\n",
      "NA18544 pipeline/hla_typing/processing/NA18544.hla_types.txt\n",
      "NA18546 pipeline/hla_typing/processing/NA18546.hla_types.txt\n",
      "NA18548 pipeline/hla_typing/processing/NA18548.hla_types.txt\n",
      "NA18549 pipeline/hla_typing/processing/NA18549.hla_types.txt\n",
      "NA18557 pipeline/hla_typing/processing/NA18557.hla_types.txt\n",
      "NA18559 pipeline/hla_typing/processing/NA18559.hla_types.txt\n",
      "NA20752 pipeline/hla_typing/processing/NA20752.hla_types.txt\n",
      "NA20753 pipeline/hla_typing/processing/NA20753.hla_types.txt\n",
      "NA20754 pipeline/hla_typing/processing/NA20754.hla_types.txt\n",
      "NA20755 pipeline/hla_typing/processing/NA20755.hla_types.txt\n",
      "NA20756 pipeline/hla_typing/processing/NA20756.hla_types.txt\n",
      "NA20757 pipeline/hla_typing/processing/NA20757.hla_types.txt\n",
      "NA20758 pipeline/hla_typing/processing/NA20758.hla_types.txt\n",
      "NA20759 pipeline/hla_typing/processing/NA20759.hla_types.txt\n",
      "NA20760 pipeline/hla_typing/processing/NA20760.hla_types.txt\n",
      "NA20761 pipeline/hla_typing/processing/NA20761.hla_types.txt\n",
      "NA20762 pipeline/hla_typing/processing/NA20762.hla_types.txt\n",
      "NA20763 pipeline/hla_typing/processing/NA20763.hla_types.txt\n",
      "NA20764 pipeline/hla_typing/processing/NA20764.hla_types.txt\n",
      "NA20765 pipeline/hla_typing/processing/NA20765.hla_types.txt\n",
      "NA20766 pipeline/hla_typing/processing/NA20766.hla_types.txt\n",
      "NA20767 pipeline/hla_typing/processing/NA20767.hla_types.txt\n",
      "NA20768 pipeline/hla_typing/processing/NA20768.hla_types.txt\n",
      "NA20769 pipeline/hla_typing/processing/NA20769.hla_types.txt\n",
      "NA20770 pipeline/hla_typing/processing/NA20770.hla_types.txt\n",
      "NA20771 pipeline/hla_typing/processing/NA20771.hla_types.txt\n",
      "NA20772 pipeline/hla_typing/processing/NA20772.hla_types.txt\n",
      "NA20773 pipeline/hla_typing/processing/NA20773.hla_types.txt\n",
      "HG00443 pipeline/hla_typing/processing/HG00443.hla_types.txt\n",
      "HG00445 pipeline/hla_typing/processing/HG00445.hla_types.txt\n",
      "HG00446 pipeline/hla_typing/processing/HG00446.hla_types.txt\n",
      "HG00448 pipeline/hla_typing/processing/HG00448.hla_types.txt\n",
      "HG00449 pipeline/hla_typing/processing/HG00449.hla_types.txt\n",
      "HG00451 pipeline/hla_typing/processing/HG00451.hla_types.txt\n"
     ]
    }
   ],
   "source": [
    "print(id)\n",
    "print(id2hla)"
   ]
  },
  {
   "cell_type": "markdown",
   "metadata": {},
   "source": [
    "# Annotate all genotypes"
   ]
  },
  {
   "cell_type": "code",
   "execution_count": 5,
   "metadata": {},
   "outputs": [
    {
     "ename": "ERROR",
     "evalue": "Error in `[<-.data.frame`(`*tmp*`, indata$type == \"\", \"type\", value = c(\"NA*00:00:00:00\", : missing values are not allowed in subscripted assignments of data frames\n",
     "output_type": "error",
     "traceback": [
      "Error in `[<-.data.frame`(`*tmp*`, indata$type == \"\", \"type\", value = c(\"NA*00:00:00:00\", : missing values are not allowed in subscripted assignments of data frames\nTraceback:\n",
      "1. as.data.frame(rbindlist(lapply(id2hla$id, function(id) {\n .     read_hla_types(id, id2hla)\n . })), stringsAsFactors = FALSE)",
      "2. rbindlist(lapply(id2hla$id, function(id) {\n .     read_hla_types(id, id2hla)\n . }))",
      "3. lapply(id2hla$id, function(id) {\n .     read_hla_types(id, id2hla)\n . })",
      "4. FUN(X[[i]], ...)",
      "5. read_hla_types(id, id2hla)   # at line 18 of file <text>",
      "6. `[<-`(`*tmp*`, indata$type == \"\", \"type\", value = c(\"NA*00:00:00:00\", \n . \"NA*00:00:00:00\", \"NA*00:00:00:00\", \"NA*00:00:00:00\", \"NA*00:00:00:00\", \n . \"NA*00:00:00:00\", \"NA*00:00:00:00\", \"NA*00:00:00:00\", \"NA*00:00:00:00\", \n . \"NA*00:00:00:00\", \"NA*00:00:00:00\", \"NA*00:00:00:00\", \"NA*00:00:00:00\", \n . \"NA*00:00:00:00\", \"NA*00:00:00:00\", \"NA*00:00:00:00\", \"NA*00:00:00:00\", \n . \"NA*00:00:00:00\", \"NA*00:00:00:00\", \"NA*00:00:00:00\", \"NA*00:00:00:00\", \n . \"NA*00:00:00:00\", \"NA*00:00:00:00\", \"NA*00:00:00:00\", \"NA*00:00:00:00\", \n . \"NA*00:00:00:00\", \"NA*00:00:00:00\", \"NA*00:00:00:00\", \"NA*00:00:00:00\", \n . \"NA*00:00:00:00\", \"NA*00:00:00:00\", \"NA*00:00:00:00\", \"NA*00:00:00:00\", \n . \"NA*00:00:00:00\", \"NA*00:00:00:00\", \"NA*00:00:00:00\", \"NA*00:00:00:00\", \n . \"NA*00:00:00:00\", \"NA*00:00:00:00\", \"NA*00:00:00:00\", \"NA*00:00:00:00\", \n . \"NA*00:00:00:00\", \"NA*00:00:00:00\", \"NA*00:00:00:00\", \"NA*00:00:00:00\", \n . \"NA*00:00:00:00\", \"NA*00:00:00:00\", \"NA*00:00:00:00\", \"NA*00:00:00:00\", \n . \"NA*00:00:00:00\", \"NA*00:00:00:00\", \"NA*00:00:00:00\", \"NA*00:00:00:00\", \n . \"NA*00:00:00:00\", \"NA*00:00:00:00\", \"NA*00:00:00:00\", \"NA*00:00:00:00\", \n . \"NA*00:00:00:00\", \"NA*00:00:00:00\", \"NA*00:00:00:00\", \"NA*00:00:00:00\", \n . \"NA*00:00:00:00\", \"NA*00:00:00:00\", \"NA*00:00:00:00\", \"NA*00:00:00:00\", \n . \"NA*00:00:00:00\", \"NA*00:00:00:00\", \"NA*00:00:00:00\", \"NA*00:00:00:00\", \n . \"NA*00:00:00:00\", \"NA*00:00:00:00\", \"NA*00:00:00:00\", \"NA*00:00:00:00\", \n . \"NA*00:00:00:00\", \"NA*00:00:00:00\", \"NA*00:00:00:00\", \"NA*00:00:00:00\", \n . \"NA*00:00:00:00\"))   # at line 8 of file <text>",
      "7. `[<-.data.frame`(`*tmp*`, indata$type == \"\", \"type\", value = c(\"NA*00:00:00:00\", \n . \"NA*00:00:00:00\", \"NA*00:00:00:00\", \"NA*00:00:00:00\", \"NA*00:00:00:00\", \n . \"NA*00:00:00:00\", \"NA*00:00:00:00\", \"NA*00:00:00:00\", \"NA*00:00:00:00\", \n . \"NA*00:00:00:00\", \"NA*00:00:00:00\", \"NA*00:00:00:00\", \"NA*00:00:00:00\", \n . \"NA*00:00:00:00\", \"NA*00:00:00:00\", \"NA*00:00:00:00\", \"NA*00:00:00:00\", \n . \"NA*00:00:00:00\", \"NA*00:00:00:00\", \"NA*00:00:00:00\", \"NA*00:00:00:00\", \n . \"NA*00:00:00:00\", \"NA*00:00:00:00\", \"NA*00:00:00:00\", \"NA*00:00:00:00\", \n . \"NA*00:00:00:00\", \"NA*00:00:00:00\", \"NA*00:00:00:00\", \"NA*00:00:00:00\", \n . \"NA*00:00:00:00\", \"NA*00:00:00:00\", \"NA*00:00:00:00\", \"NA*00:00:00:00\", \n . \"NA*00:00:00:00\", \"NA*00:00:00:00\", \"NA*00:00:00:00\", \"NA*00:00:00:00\", \n . \"NA*00:00:00:00\", \"NA*00:00:00:00\", \"NA*00:00:00:00\", \"NA*00:00:00:00\", \n . \"NA*00:00:00:00\", \"NA*00:00:00:00\", \"NA*00:00:00:00\", \"NA*00:00:00:00\", \n . \"NA*00:00:00:00\", \"NA*00:00:00:00\", \"NA*00:00:00:00\", \"NA*00:00:00:00\", \n . \"NA*00:00:00:00\", \"NA*00:00:00:00\", \"NA*00:00:00:00\", \"NA*00:00:00:00\", \n . \"NA*00:00:00:00\", \"NA*00:00:00:00\", \"NA*00:00:00:00\", \"NA*00:00:00:00\", \n . \"NA*00:00:00:00\", \"NA*00:00:00:00\", \"NA*00:00:00:00\", \"NA*00:00:00:00\", \n . \"NA*00:00:00:00\", \"NA*00:00:00:00\", \"NA*00:00:00:00\", \"NA*00:00:00:00\", \n . \"NA*00:00:00:00\", \"NA*00:00:00:00\", \"NA*00:00:00:00\", \"NA*00:00:00:00\", \n . \"NA*00:00:00:00\", \"NA*00:00:00:00\", \"NA*00:00:00:00\", \"NA*00:00:00:00\", \n . \"NA*00:00:00:00\", \"NA*00:00:00:00\", \"NA*00:00:00:00\", \"NA*00:00:00:00\", \n . \"NA*00:00:00:00\"))   # at line 8 of file <text>",
      "8. stop(\"missing values are not allowed in subscripted assignments of data frames\")"
     ]
    }
   ],
   "source": [
    "read_hla_types = function(id, id2hla)\n",
    "{\n",
    "    #message(id2hla[ id, \"infile\"], appendLF = FALSE)\n",
    "    indata    = fread(id2hla[ id, \"infile\"], sep = \"\\t\", header = TRUE, data.table = FALSE)\n",
    "    indata    = rbind(data.frame(gene = indata$gene, type = indata$type1), \n",
    "                      data.frame(gene = indata$gene, type = indata$type2)) \n",
    "    \n",
    "    if(nrow(indata[ indata$type == \"\", ]) > 0){indata[ indata$type == \"\", \"type\"] = paste(indata[ indata$type == \"\", \"gene\"], \"00:00:00:00\", sep = \"*\")}\n",
    "    \n",
    "    indata$id = id\n",
    "    indata    = suppressMessages(indata %>% group_by(id, gene, type) %>% summarize(gn = length(type), gt = ifelse(length(type) == 1, yes = \"0/1\", no = \"1/1\")))\n",
    "    \n",
    "    return(indata)\n",
    "}\n",
    "\n",
    "#id  = \"HG00187\"\n",
    "#a = read_hla_types(id, id2hla)\n",
    "gts = as.data.frame(rbindlist(lapply(id2hla$id, function(id){read_hla_types(id, id2hla)})), stringsAsFactors = FALSE)\n",
    "\n",
    "fwrite(gts, \"pipeline/hla_typing/hla_types.txt\", sep = \"\\t\", col.names = TRUE, row.names = FALSE)"
   ]
  },
  {
   "cell_type": "code",
   "execution_count": 6,
   "metadata": {},
   "outputs": [],
   "source": [
    "gts = fread(\"pipeline/hla_typing/hla_types.txt\", sep = \"\\t\", header = TRUE, data.table = FALSE)"
   ]
  },
  {
   "cell_type": "code",
   "execution_count": 7,
   "metadata": {},
   "outputs": [],
   "source": [
    "#gts$vcf  = paste(gts$gt, gts$gn, sep = \":\")\n",
    "gts$vcf  = gts$gt\n",
    "vcf_data = add_rownames(reshape2::dcast(type ~ id, data = gts, value.var = \"vcf\", fun.aggregate = unique, fill = \"0/0\")) #  0/0:0\n"
   ]
  },
  {
   "cell_type": "code",
   "execution_count": 8,
   "metadata": {},
   "outputs": [],
   "source": [
    "type2af           = as.data.frame(suppressMessages(gts %>% group_by(gene, type) %>% summarize(af = sum(gn) / nrow(id2hla) /2)))\n",
    "rownames(type2af) = type2af$type"
   ]
  },
  {
   "cell_type": "code",
   "execution_count": 9,
   "metadata": {},
   "outputs": [
    {
     "name": "stdout",
     "output_type": "stream",
     "text": [
      "'data.frame':\t175 obs. of  3 variables:\n",
      " $ gene: chr  \"A\" \"A\" \"A\" \"A\" ...\n",
      " $ type: chr  \"A*02:01:01:01\" \"A*02:01:01:31\" \"A*02:1011Q\" \"A*02:1028\" ...\n",
      " $ af  : num  0.1 0.1 0.1 0.1 0.2 0.1 0.1 0.1 0.1 0.3 ...\n"
     ]
    }
   ],
   "source": [
    "str(type2af)"
   ]
  },
  {
   "cell_type": "code",
   "execution_count": 10,
   "metadata": {},
   "outputs": [],
   "source": [
    "#vcf_gt = add_rownames(reshape2::dcast(type ~ id, data = gts, value.var = \"gt\", fun.aggregate = unique, fill = \"0/0\"))[1:10, 1:10]\n",
    "#vcf_gn = add_rownames(reshape2::dcast(type ~ id, data = gts, value.var = \"gn\", fun.aggregate = unique, fill = 0    ))[1:10, 1:10]\n"
   ]
  },
  {
   "cell_type": "code",
   "execution_count": 11,
   "metadata": {},
   "outputs": [],
   "source": [
    "#vcf_data = paste(as.matrix(vcf_gt), as.matrix(vcf_gn), sep = \":\")"
   ]
  },
  {
   "cell_type": "markdown",
   "metadata": {},
   "source": [
    "# Write VCF"
   ]
  },
  {
   "cell_type": "code",
   "execution_count": 12,
   "metadata": {},
   "outputs": [],
   "source": [
    "write_vcf_header = function(ids)\n",
    "{\n",
    "    out = c(\"fileformat=VCFv4.2\",\n",
    "            'FILTER=<ID=PASS,Description=\"All filters passed\">',\n",
    "            'INFO=<ID=END,Number=1,Type=Integer,Description=\"End position of the HLA type\">',\n",
    "            'INFO=<ID=COORD,Number=1,Type=String,Description=\"HLA type coordinates\">',\n",
    "            'INFO=<ID=AF,Number=1,Type=Float,Description=\"HLa type frequency\">',\n",
    "            'INFO=<ID=GENE,Number=1,Type=String,Description=\"HLA gene\">',\n",
    "            'FORMAT=<ID=GT,Number=1,Type=String,Description=\"Genotype\">',\n",
    "            'FORMAT=<ID=GN,Number=1,Type=String,Description=\"Genotype (numeric): 0 = homozygous reference; 1 = heterozygous; 2 = homozygous alternative\">',\n",
    "            'contig=<ID=6,length=170805979>',\n",
    "            \"reference=hg19\"\n",
    "           )\n",
    "    out = c(paste0(\"##\", out), paste(c(\"#CHROM\", \"POS\", \"ID\", \"REF\", \"ALT\", \"QUAL\", \"FILTER\", \"INFO\", \"FORMAT\", ids), collapse = \"\\t\"))\n",
    "    \n",
    "    return(out)\n",
    "}\n",
    "\n",
    "write_vcf_body = function(ids, vcf_data, geneinfo, type2af)\n",
    "{\n",
    "    vcf_data      = vcf_data[,ids]\n",
    "    out           = merge(type2af, geneinfo[,c(\"gene\", \"start\", \"end\")])\n",
    "    rownames(out) = out$type\n",
    "    out$chrom     = 6\n",
    "    out$pos       = out$start\n",
    "    out$ref       = \"AA\"\n",
    "    out$alt       = \"TT\"\n",
    "    out$id        = sub(\"\\\\*\", \".\", out$type)\n",
    "    out$qual      = 1\n",
    "    out$filter    = \"PASS\"\n",
    "    out$info      = paste(paste(\"END\" , out$end , sep = \"=\"),\n",
    "                          paste(\"AF\"  , out$af  , sep = \"=\"),\n",
    "                          paste(\"GENE\", out$gene, sep = \"=\"),\n",
    "                          paste(\"END\" , out$end , sep = \"=\"),\n",
    "                          sep = \";\"\n",
    "                         )\n",
    "    out$format    = \"GT\" #:GN\"\n",
    "    out           = out[ order(out$pos, -out$af), ]\n",
    "    dups          = unique(out[ duplicated(out$pos), \"pos\"])\n",
    "    \n",
    "    for(pos in dups)\n",
    "    {\n",
    "        out[ out$pos == pos, \"pos\"] = out[ out$pos == pos, \"pos\"] - 1 + 1:nrow(out[ out$pos == pos,])\n",
    "    }\n",
    "    \n",
    "    out           = cbind(out[,c(\"chrom\", \"pos\", \"id\", \"ref\", \"alt\", \"qual\", \"filter\", \"info\", \"format\")], vcf_data[ rownames(out), ids])\n",
    "    return(out)\n",
    "}\n",
    "\n",
    "vcf_header       = write_vcf_header(ids)\n",
    "vcf_body         = write_vcf_body  (ids, vcf_data, geneinfo, type2af)\n",
    "vcf_uncompressed = sub(\"\\\\.gz\", \"\", vcf_hla_types)\n",
    "\n",
    "writeLines(vcf_header, vcf_uncompressed, sep = \"\\n\")\n",
    "fwrite    (vcf_body  , vcf_uncompressed, sep = \"\\t\", col.names = FALSE, row.names = FALSE, append = TRUE)\n"
   ]
  },
  {
   "cell_type": "code",
   "execution_count": 13,
   "metadata": {},
   "outputs": [
    {
     "data": {
      "text/html": [
       "TRUE"
      ],
      "text/latex": [
       "TRUE"
      ],
      "text/markdown": [
       "TRUE"
      ],
      "text/plain": [
       "[1] TRUE"
      ]
     },
     "metadata": {},
     "output_type": "display_data"
    }
   ],
   "source": [
    "command = paste(\"bcftools\", \"view\", \"-O\", \"z\", \"-o\", vcf_hla_types, vcf_uncompressed)\n",
    "\n",
    "system(command)\n",
    "\n",
    "command = paste(\"bcftools\", \"index\", \"-t\", vcf_hla_types)\n",
    "\n",
    "system(command)\n",
    "\n",
    "file.remove(vcf_uncompressed)"
   ]
  },
  {
   "cell_type": "markdown",
   "metadata": {},
   "source": [
    "## print list of HLA types"
   ]
  },
  {
   "cell_type": "code",
   "execution_count": 14,
   "metadata": {},
   "outputs": [],
   "source": [
    "get_hla_types_list = function(vcf)\n",
    "{\n",
    "    command = paste(\"bcftools\", \"query\", \n",
    "                    \"-f\", \"'%ID\\\\n'\",\n",
    "                    vcf\n",
    "                   )\n",
    "    \n",
    "    indata = fread(cmd = command, sep = \"\\t\", header = FALSE, data.table = FALSE)[,1]\n",
    "    \n",
    "    return(indata)\n",
    "}\n",
    "\n",
    "hla_types           = get_hla_types_list(vcf_hla_types)\n",
    "\n",
    "writeLines(hla_types, hla_types_list_file, sep = \"\\n\")"
   ]
  },
  {
   "cell_type": "markdown",
   "metadata": {},
   "source": [
    "# Combine VCFs"
   ]
  },
  {
   "cell_type": "code",
   "execution_count": 15,
   "metadata": {},
   "outputs": [
    {
     "data": {
      "text/html": [
       "'/frazer01/home/aphodges/software/my_hla_typing/input/vcf/mhc.vcf.gz'"
      ],
      "text/latex": [
       "'/frazer01/home/aphodges/software/my\\_hla\\_typing/input/vcf/mhc.vcf.gz'"
      ],
      "text/markdown": [
       "'/frazer01/home/aphodges/software/my_hla_typing/input/vcf/mhc.vcf.gz'"
      ],
      "text/plain": [
       "[1] \"/frazer01/home/aphodges/software/my_hla_typing/input/vcf/mhc.vcf.gz\""
      ]
     },
     "metadata": {},
     "output_type": "display_data"
    }
   ],
   "source": [
    "vcf_snps"
   ]
  },
  {
   "cell_type": "code",
   "execution_count": 16,
   "metadata": {},
   "outputs": [],
   "source": [
    "vcf_combined       = paste(getwd(), \"pipeline/hla_typing/vcf\", \"combined.vcf.gz\" , sep = \"/\")\n"
   ]
  },
  {
   "cell_type": "code",
   "execution_count": 17,
   "metadata": {},
   "outputs": [
    {
     "name": "stdout",
     "output_type": "stream",
     "text": [
      "[1] \"bcftools concat -a -O z -o /frazer01/home/aphodges/software/my_hla_typing/pipeline/hla_typing/vcf/combined.vcf.gz /frazer01/home/aphodges/software/my_hla_typing/input/vcf/mhc.vcf.gz /frazer01/home/aphodges/software/my_hla_typing/pipeline/hla_typing/vcf/hla_types.vcf.gz\"\n",
      "[1] 0\n",
      "[1] \"bcftools index -t /frazer01/home/aphodges/software/my_hla_typing/pipeline/hla_typing/vcf/combined.vcf.gz\"\n"
     ]
    }
   ],
   "source": [
    "command = paste(\"bcftools\", \"concat\", \"-a\",\n",
    "                \"-O\", \"z\",\n",
    "                \"-o\", vcf_combined,\n",
    "                vcf_snps, vcf_hla_types\n",
    "               )\n",
    "\n",
    "x=system(command)\n",
    "print(command)\n",
    "print(x)\n",
    "\n",
    "command = paste(\"bcftools\", \"index\", \"-t\", vcf_combined)\n",
    "\n",
    "system(command)\n",
    "print(command)\n"
   ]
  },
  {
   "cell_type": "markdown",
   "metadata": {},
   "source": [
    "# Remove indels"
   ]
  },
  {
   "cell_type": "code",
   "execution_count": 18,
   "metadata": {},
   "outputs": [],
   "source": [
    "vcf_combined_noindel = paste(getwd(), \"pipeline/hla_typing/vcf\", \"combined_noindel.vcf.gz\", sep = \"/\")\n",
    "\n",
    "command = paste(\"bcftools\", \"view\",\n",
    "                \"-i\" , \"'TYPE=\\\"snp\\\" | (REF=\\\"AA\\\" & ALT=\\\"TT\\\")'\",\n",
    "                \"-Oz\",\n",
    "                \"-o\" , vcf_combined_noindel,\n",
    "                vcf_combined\n",
    "               )\n",
    "\n",
    "system(command)\n",
    "\n",
    "command = paste(\"bcftools\", \"index\", \"-t\", vcf_combined_noindel)\n",
    "\n",
    "system(command)\n"
   ]
  },
  {
   "cell_type": "markdown",
   "metadata": {},
   "source": [
    "# phase all variants"
   ]
  },
  {
   "cell_type": "code",
   "execution_count": 19,
   "metadata": {},
   "outputs": [
    {
     "name": "stderr",
     "output_type": "stream",
     "text": [
      "Warning message in system(command):\n",
      "“error in running command”\n"
     ]
    },
    {
     "name": "stdout",
     "output_type": "stream",
     "text": [
      "[1] \"shapeit4 --input /frazer01/home/aphodges/software/my_hla_typing/pipeline/hla_typing/vcf/combined.vcf.gz --thread 16 --map /frazer01/home/aphodges/software/my_hla_typing/input/phase/chr6.b37.gmap.gz --region 6:25000001-34000001 --log /frazer01/home/aphodges/software/my_hla_typing/pipeline/hla_typing/vcf/phased.log --output /frazer01/home/aphodges/software/my_hla_typing/pipeline/hla_typing/vcf/phased.vcf.gz \"\n"
     ]
    }
   ],
   "source": [
    "file_map   = paste(getwd(), \"input/phase/chr6.b37.gmap.gz\"         , sep = \"/\")\n",
    "log_phased = paste(getwd(), \"pipeline/hla_typing/vcf/phased.log\"   , sep = \"/\")\n",
    "vcf_phased = paste(getwd(), \"pipeline/hla_typing/vcf/phased.vcf.gz\", sep = \"/\")\n",
    "command    = paste(\"shapeit4\", \n",
    "                   \"--input\" , vcf_combined, \n",
    "                   \"--thread\", 16,\n",
    "                   \"--map\"   , file_map  ,\n",
    "                   \"--region\", coord     ,\n",
    "                   \"--log\"   , log_phased,\n",
    "                   \"--output\", vcf_phased,\n",
    "                   \"\"\n",
    "                  )\n",
    "\n",
    "system(command)\n",
    "print(command)\n",
    "\n",
    "command = paste(\"bcftools\", \"index\", \"-t\", vcf_phased)\n",
    "\n",
    "system(command)\n"
   ]
  },
  {
   "cell_type": "markdown",
   "metadata": {},
   "source": [
    "# impute HLA types on 1KGP (validation)\n",
    "## 1- all IDs together"
   ]
  },
  {
   "cell_type": "code",
   "execution_count": 81,
   "metadata": {},
   "outputs": [],
   "source": [
    "outfolder = paste(getwd(), \"pipeline/beagle/1kgp_validation\", sep = \"/\")\n",
    "\n",
    "dir.create(outfolder                                , showWarnings = FALSE)\n",
    "dir.create(paste(outfolder, \"processing\", sep = \"/\"), showWarnings = FALSE)\n"
   ]
  },
  {
   "cell_type": "code",
   "execution_count": 68,
   "metadata": {},
   "outputs": [],
   "source": [
    "imputed_vcf = command_run_beagle         (vcf_phased, vcf_snps   , outfolder)\n",
    "hla_out     = command_extract_hla_convert(imputed_vcf, outfolder)\n"
   ]
  },
  {
   "cell_type": "markdown",
   "metadata": {},
   "source": [
    "## 2- 10-step cross-validation"
   ]
  },
  {
   "cell_type": "code",
   "execution_count": 161,
   "metadata": {},
   "outputs": [],
   "source": [
    "set.seed(1)\n",
    "id2cv     = data.frame(id = ids, bin = ceiling((1:length(ids) / length(ids) * 10)))\n",
    "id2cv$bin = sample(id2cv$bin)\n",
    "bins      = sort(unique(id2cv$bin))\n",
    "\n",
    "fwrite(id2cv, paste(outfolder, \"id2cv.txt\", sep = \"/\"), sep = \"\\t\", col.names = TRUE, row.names = FALSE)\n",
    "\n"
   ]
  },
  {
   "cell_type": "code",
   "execution_count": 162,
   "metadata": {},
   "outputs": [
    {
     "name": "stderr",
     "output_type": "stream",
     "text": [
      "qsub -t 1-10:1 -tc 50 -l h_vmem=16G -pe smp 4 -o /frazer01/projects/CEGS/analysis/hla_type_1kgp/pipeline/beagle/1kgp_validation/logs.out -e /frazer01/projects/CEGS/analysis/hla_type_1kgp/pipeline/beagle/1kgp_validation/logs.err /frazer01/projects/CEGS/analysis/hla_type_1kgp/pipeline/beagle/1kgp_validation/run_imputation_1kgp.sh\n",
      "\n"
     ]
    }
   ],
   "source": [
    "run_hla_typing_qsub = function(bins, qsub = FALSE)\n",
    "{\n",
    "    sh_file = paste(getwd(), \"pipeline/beagle/1kgp_validation/run_imputation_1kgp.sh\", sep = \"/\")\n",
    "    \n",
    "    writeLines(text = c(\"#!/usr/bin/sh\",\n",
    "                        \"source /frazer01/home/matteo/.bashrc\",\n",
    "                        paste(\"Rscript\", paste(paste(getwd(), \"script\", \"run_imputation_1kgp.R\", sep = \"/\"),\n",
    "                                               \"--taskid\"   , \"$SGE_TASK_ID\")\n",
    "                             )\n",
    "                       ), \n",
    "               con  = sh_file, \n",
    "               sep  = \"\\n\\n\")\n",
    "    \n",
    "    qsub_command = paste(\"qsub\",\n",
    "                         \"-t\", paste(1, \"-\", length(bins), \":1\", sep = \"\"),\n",
    "                         \"-tc\", 50, \n",
    "                         \"-l\" , \"h_vmem=16G\",\n",
    "                         \"-pe\", \"smp\", 4,\n",
    "                         \"-o\" , paste(getwd(), \"pipeline/beagle/1kgp_validation/logs.out\", sep = \"/\"),\n",
    "                         \"-e\" , paste(getwd(), \"pipeline/beagle/1kgp_validation/logs.err\", sep = \"/\"),\n",
    "                         sh_file\n",
    "                        )\n",
    "    \n",
    "    message(qsub_command)\n",
    "    if(qsub == TRUE){system(qsub_command)}\n",
    "}\n",
    "\n",
    "run_hla_typing_qsub(bins, TRUE)\n"
   ]
  },
  {
   "cell_type": "markdown",
   "metadata": {},
   "source": [
    "## 3- only using variants in the UKBB"
   ]
  },
  {
   "cell_type": "code",
   "execution_count": 163,
   "metadata": {},
   "outputs": [],
   "source": [
    "outfolder_ukbb = paste(getwd(), \"pipeline/beagle/1kgp_validation/ukbb_variants\", sep = \"/\")\n",
    "\n",
    "dir.create(outfolder_ukbb, showWarnings = FALSE)\n"
   ]
  },
  {
   "cell_type": "code",
   "execution_count": 174,
   "metadata": {},
   "outputs": [],
   "source": [
    "var_ids       = sort(unique(c(fread(paste(getwd(), \"input/ukbb/snps.pvar\", sep = \"/\"), sep = \"\\t\", header = TRUE, data.table = FALSE)[,3],\n",
    "                              readLines(hla_types_list_file)\n",
    "                             )))\n",
    "var_ids       = var_ids[ grepl(\"^rs\", var_ids) == TRUE | grepl(\"^6:\", var_ids) == TRUE]\n",
    "var_ids_file  = paste(outfolder_ukbb, \"var_ids_ukbb.txt\", sep = \"/\")\n",
    "\n",
    "writeLines(var_ids, var_ids_file, sep = \"\\n\")"
   ]
  },
  {
   "cell_type": "code",
   "execution_count": 175,
   "metadata": {},
   "outputs": [],
   "source": [
    "prefix_ukbb_vars = paste(outfolder_ukbb, \"ukbb_vars\", sep = \"/\")"
   ]
  },
  {
   "cell_type": "code",
   "execution_count": 176,
   "metadata": {},
   "outputs": [],
   "source": [
    "command = paste(\"plink2_64\", \n",
    "                \"--vcf\"    , vcf_phased,\n",
    "                \"--extract\", var_ids_file,\n",
    "                \"--memory\" , 64000,\n",
    "                \"--threads\", 8,\n",
    "                \"--export\" , \"vcf\", \"bgz\", \n",
    "                \"vcf-dosage=DS-force\",\n",
    "                \"--out\"   , prefix_ukbb_vars\n",
    "               )\n",
    "\n",
    "system(command)\n",
    "\n",
    "vcf_ukbb_vars = paste(prefix_ukbb_vars, \"vcf.gz\", sep = \".\")\n",
    "command       = paste(\"bcftools\", \"index\", \"-t\", vcf_ukbb_vars)\n",
    "\n",
    "system(command)\n",
    "\n"
   ]
  },
  {
   "cell_type": "code",
   "execution_count": 201,
   "metadata": {},
   "outputs": [
    {
     "data": {
      "text/html": [
       "'/frazer01/projects/CEGS/analysis/hla_type_1kgp/pipeline/beagle/1kgp_validation/ukbb_variants/ukbb_vars.vcf.gz'"
      ],
      "text/latex": [
       "'/frazer01/projects/CEGS/analysis/hla\\_type\\_1kgp/pipeline/beagle/1kgp\\_validation/ukbb\\_variants/ukbb\\_vars.vcf.gz'"
      ],
      "text/markdown": [
       "'/frazer01/projects/CEGS/analysis/hla_type_1kgp/pipeline/beagle/1kgp_validation/ukbb_variants/ukbb_vars.vcf.gz'"
      ],
      "text/plain": [
       "[1] \"/frazer01/projects/CEGS/analysis/hla_type_1kgp/pipeline/beagle/1kgp_validation/ukbb_variants/ukbb_vars.vcf.gz\""
      ]
     },
     "metadata": {},
     "output_type": "display_data"
    }
   ],
   "source": [
    "vcf_ukbb_vars"
   ]
  },
  {
   "cell_type": "code",
   "execution_count": 177,
   "metadata": {},
   "outputs": [],
   "source": [
    "imputed_vcf_ukbb = command_run_beagle         (vcf_ukbb_vars, vcf_snps, outfolder_ukbb)\n",
    "hla_out_ukbb     = command_extract_hla_convert(imputed_vcf_ukbb, outfolder_ukbb)\n"
   ]
  },
  {
   "cell_type": "markdown",
   "metadata": {},
   "source": [
    "## 4- 10-step cross-validation on variants in the UKBB"
   ]
  },
  {
   "cell_type": "code",
   "execution_count": 178,
   "metadata": {},
   "outputs": [],
   "source": [
    "outfolder_ukbb_vars = paste(getwd(), \"pipeline/beagle/1kgp_validation/1kgp_ukbb_vars\", sep = \"/\")\n",
    "\n",
    "dir.create(outfolder_ukbb_vars, showWarnings = FALSE)\n",
    "dir.create(paste(outfolder_ukbb_vars, \"processing\", sep = \"/\"), showWarnings = FALSE)\n"
   ]
  },
  {
   "cell_type": "code",
   "execution_count": 179,
   "metadata": {},
   "outputs": [],
   "source": [
    "set.seed(1)\n",
    "id2cv     = data.frame(id = ids, bin = ceiling((1:length(ids) / length(ids) * 10)))\n",
    "id2cv$bin = sample(id2cv$bin)\n",
    "bins      = sort(unique(id2cv$bin))\n",
    "\n",
    "fwrite(id2cv, paste(outfolder, \"id2cv.txt\", sep = \"/\"), sep = \"\\t\", col.names = TRUE, row.names = FALSE)\n",
    "\n"
   ]
  },
  {
   "cell_type": "code",
   "execution_count": 180,
   "metadata": {},
   "outputs": [
    {
     "name": "stderr",
     "output_type": "stream",
     "text": [
      "qsub -t 1-10:1 -tc 50 -l h_vmem=16G -pe smp 4 -o /frazer01/projects/CEGS/analysis/hla_type_1kgp/pipeline/beagle/1kgp_validation/1kgp_ukbb_vars/logs.out -e /frazer01/projects/CEGS/analysis/hla_type_1kgp/pipeline/beagle/1kgp_validation/1kgp_ukbb_vars/logs.err /frazer01/projects/CEGS/analysis/hla_type_1kgp/pipeline/beagle/1kgp_validation/run_imputation_1kgp_ukbb_vars.sh\n",
      "\n"
     ]
    }
   ],
   "source": [
    "run_hla_typing_qsub = function(bins, qsub = FALSE)\n",
    "{\n",
    "    sh_file = paste(getwd(), \"pipeline/beagle/1kgp_validation/run_imputation_1kgp_ukbb_vars.sh\", sep = \"/\")\n",
    "    \n",
    "    writeLines(text = c(\"#!/usr/bin/sh\",\n",
    "                        \"source /frazer01/home/matteo/.bashrc\",\n",
    "                        paste(\"Rscript\", paste(paste(getwd(), \"script\", \"run_imputation_1kgp_ukbb_vars.R\", sep = \"/\"),\n",
    "                                               \"--taskid\"   , \"$SGE_TASK_ID\")\n",
    "                             )\n",
    "                       ), \n",
    "               con  = sh_file, \n",
    "               sep  = \"\\n\\n\")\n",
    "    \n",
    "    qsub_command = paste(\"qsub\",\n",
    "                         \"-t\", paste(1, \"-\", length(bins), \":1\", sep = \"\"),\n",
    "                         \"-tc\", 50, \n",
    "                         \"-l\" , \"h_vmem=16G\",\n",
    "                         \"-pe\", \"smp\", 4,\n",
    "                         \"-o\" , paste(getwd(), \"pipeline/beagle/1kgp_validation/1kgp_ukbb_vars/logs.out\", sep = \"/\"),\n",
    "                         \"-e\" , paste(getwd(), \"pipeline/beagle/1kgp_validation/1kgp_ukbb_vars/logs.err\", sep = \"/\"),\n",
    "                         sh_file\n",
    "                        )\n",
    "    \n",
    "    message(qsub_command)\n",
    "    if(qsub == TRUE){system(qsub_command)}\n",
    "}\n",
    "\n",
    "run_hla_typing_qsub(bins, TRUE)\n"
   ]
  },
  {
   "cell_type": "markdown",
   "metadata": {},
   "source": [
    "## 5- 10-step cross-validation on variants in the UKBB removing random variants"
   ]
  },
  {
   "cell_type": "code",
   "execution_count": 185,
   "metadata": {},
   "outputs": [],
   "source": [
    "outfolder_random = paste(getwd(), \"pipeline/beagle/1kgp_validation/random\", sep = \"/\")\n",
    "\n",
    "dir.create(outfolder_random, showWarnings = FALSE)\n",
    "dir.create(paste(outfolder_random, \"processing\", sep = \"/\"), showWarnings = FALSE)\n",
    "dir.create(paste(outfolder_random, \"var_lists\" , sep = \"/\"), showWarnings = FALSE)\n"
   ]
  },
  {
   "cell_type": "code",
   "execution_count": 186,
   "metadata": {},
   "outputs": [],
   "source": [
    "#set.seed(1)\n",
    "#id2cv     = data.frame(id = ids, bin = ceiling((1:length(ids) / length(ids) * 10)))\n",
    "#id2cv$bin = sample(id2cv$bin)\n",
    "#bins      = sort(unique(id2cv$bin))\n",
    "#\n",
    "#fwrite(id2cv, paste(outfolder_random, \"id2cv.txt\", sep = \"/\"), sep = \"\\t\", col.names = TRUE, row.names = FALSE)\n",
    "#\n",
    "#"
   ]
  },
  {
   "cell_type": "code",
   "execution_count": 189,
   "metadata": {},
   "outputs": [],
   "source": [
    "cv2perm          = do.call(expand.grid, list(bin = bins, random = (1:10) * 10, perm = 1:100))\n",
    "random2perm      = unique(cv2perm[,c(\"random\", \"perm\")])\n",
    "cv2perm$folder   = paste(outfolder_random, \"processing\", paste(paste0(\"bin\", cv2perm$bin), cv2perm$random, cv2perm$perm, sep = \".\"),                 sep = \"/\")\n",
    "cv2perm$vcf      = paste(outfolder_random, \"var_lists\" , paste(\"vars\"                    , cv2perm$random, cv2perm$perm, sep = \".\"), \"vars.vcf.gz\",  sep = \"/\")\n",
    "\n",
    "fwrite(cv2perm, paste(outfolder_random, \"cv2perm.txt\", sep = \"/\"), sep = \"\\t\", col.names = TRUE, row.names = FALSE)"
   ]
  },
  {
   "cell_type": "code",
   "execution_count": 172,
   "metadata": {},
   "outputs": [],
   "source": [
    "\n",
    "ii = 1\n",
    "create_random_var_lists(random2perm[ii, \"random\"], random2perm[ii, \"perm\"], var_ids)\n",
    "\n",
    "#invisible(lapply(1:nrow(random2perm), function(ii)\n",
    "#{\n",
    "#    create_random_var_lists(random2perm[ii, \"random\"], random2perm[ii, \"perm\"], var_ids)\n",
    "#}))\n"
   ]
  },
  {
   "cell_type": "code",
   "execution_count": 190,
   "metadata": {},
   "outputs": [
    {
     "name": "stderr",
     "output_type": "stream",
     "text": [
      "qsub -t 1-1000:1 -tc 50 -l h_vmem=16G -pe smp 4 -o /frazer01/projects/CEGS/analysis/hla_type_1kgp/pipeline/beagle/1kgp_validation/random/prepare_random_vars.out -e /frazer01/projects/CEGS/analysis/hla_type_1kgp/pipeline/beagle/1kgp_validation/random/prepare_random_vars.err /frazer01/projects/CEGS/analysis/hla_type_1kgp/pipeline/beagle/1kgp_validation/random/prepare_random_vars.sh\n",
      "\n"
     ]
    }
   ],
   "source": [
    "run_prepare_random_vars_qsub = function(random2perm, qsub = FALSE)\n",
    "{\n",
    "    sh_file = paste(outfolder_random, \"prepare_random_vars.sh\", sep = \"/\")\n",
    "    \n",
    "    writeLines(text = c(\"#!/usr/bin/sh\",\n",
    "                        \"source /frazer01/home/matteo/.bashrc\",\n",
    "                        paste(\"Rscript\", paste(paste(getwd(), \"script\", \"prepare_random_vars.R\", sep = \"/\"),\n",
    "                                               \"--taskid\"   , \"$SGE_TASK_ID\")\n",
    "                             )\n",
    "                       ), \n",
    "               con  = sh_file, \n",
    "               sep  = \"\\n\\n\")\n",
    "    \n",
    "    qsub_command = paste(\"qsub\",\n",
    "                         \"-t\", paste(1, \"-\", nrow(random2perm), \":1\", sep = \"\"),\n",
    "                         \"-tc\", 50, \n",
    "                         \"-l\" , \"h_vmem=16G\",\n",
    "                         \"-pe\", \"smp\", 4,\n",
    "                         \"-o\" , paste(outfolder_random, \"prepare_random_vars.out\", sep = \"/\"),\n",
    "                         \"-e\" , paste(outfolder_random, \"prepare_random_vars.err\", sep = \"/\"),\n",
    "                         sh_file\n",
    "                        )\n",
    "    \n",
    "    message(qsub_command)\n",
    "    if(qsub == TRUE){system(qsub_command)}\n",
    "}\n",
    "\n",
    "run_prepare_random_vars_qsub(random2perm, FALSE)\n"
   ]
  },
  {
   "cell_type": "code",
   "execution_count": 192,
   "metadata": {},
   "outputs": [
    {
     "name": "stderr",
     "output_type": "stream",
     "text": [
      "qsub -t 1-10000:1 -tc 500 -l h_vmem=16G -pe smp 4 -o /frazer01/projects/CEGS/analysis/hla_type_1kgp/pipeline/beagle/1kgp_validation/random/imputation.out -e /frazer01/projects/CEGS/analysis/hla_type_1kgp/pipeline/beagle/1kgp_validation/random/imputation.err /frazer01/projects/CEGS/analysis/hla_type_1kgp/pipeline/beagle/1kgp_validation/run_imputation_random.sh\n",
      "\n"
     ]
    }
   ],
   "source": [
    "run_hla_typing_qsub = function(cv2perm, qsub = FALSE)\n",
    "{\n",
    "    sh_file = paste(getwd(), \"pipeline/beagle/1kgp_validation/run_imputation_random.sh\", sep = \"/\")\n",
    "    \n",
    "    writeLines(text = c(\"#!/usr/bin/sh\",\n",
    "                        \"source /frazer01/home/matteo/.bashrc\",\n",
    "                        paste(\"Rscript\", paste(paste(getwd(), \"script\", \"run_imputation_random.R\", sep = \"/\"),\n",
    "                                               \"--taskid\"   , \"$SGE_TASK_ID\")\n",
    "                             )\n",
    "                       ), \n",
    "               con  = sh_file, \n",
    "               sep  = \"\\n\\n\")\n",
    "    \n",
    "    qsub_command = paste(\"qsub\",\n",
    "                         \"-t\", paste(1, \"-\", nrow(cv2perm), \":1\", sep = \"\"),\n",
    "                         \"-tc\", 500, \n",
    "                         \"-l\" , \"h_vmem=16G\",\n",
    "                         \"-pe\", \"smp\", 4,\n",
    "                         \"-o\" , paste(outfolder_random, \"imputation.out\", sep = \"/\"),\n",
    "                         \"-e\" , paste(outfolder_random, \"imputation.err\", sep = \"/\"),\n",
    "                         sh_file\n",
    "                        )\n",
    "    \n",
    "    message(qsub_command)\n",
    "    if(qsub == TRUE){system(qsub_command)}\n",
    "}\n",
    "\n",
    "run_hla_typing_qsub(cv2perm, FALSE)\n"
   ]
  },
  {
   "cell_type": "markdown",
   "metadata": {},
   "source": [
    "# SCRATCH"
   ]
  },
  {
   "cell_type": "code",
   "execution_count": 195,
   "metadata": {},
   "outputs": [],
   "source": [
    "ii = 1000"
   ]
  },
  {
   "cell_type": "code",
   "execution_count": 200,
   "metadata": {},
   "outputs": [
    {
     "name": "stderr",
     "output_type": "stream",
     "text": [
      "9991 1 100 100\n",
      "9992 2 100 100\n",
      "9993 3 100 100\n",
      "9994 4 100 100\n",
      "9995 5 100 100\n",
      "9996 6 100 100\n",
      "9997 7 100 100\n",
      "9998 8 100 100\n",
      "9999 9 100 100\n",
      "10000 10 100 100\n"
     ]
    },
    {
     "data": {
      "text/html": [
       "<ol>\n",
       "\t<li>255</li>\n",
       "\t<li>2</li>\n",
       "\t<li>2</li>\n",
       "\t<li>255</li>\n",
       "\t<li>255</li>\n",
       "\t<li>255</li>\n",
       "\t<li>255</li>\n",
       "\t<li>255</li>\n",
       "\t<li>255</li>\n",
       "\t<li>1</li>\n",
       "</ol>\n"
      ],
      "text/latex": [
       "\\begin{enumerate}\n",
       "\\item 255\n",
       "\\item 2\n",
       "\\item 2\n",
       "\\item 255\n",
       "\\item 255\n",
       "\\item 255\n",
       "\\item 255\n",
       "\\item 255\n",
       "\\item 255\n",
       "\\item 1\n",
       "\\end{enumerate}\n"
      ],
      "text/markdown": [
       "1. 255\n",
       "2. 2\n",
       "3. 2\n",
       "4. 255\n",
       "5. 255\n",
       "6. 255\n",
       "7. 255\n",
       "8. 255\n",
       "9. 255\n",
       "10. 1\n",
       "\n",
       "\n"
      ],
      "text/plain": [
       "[[1]]\n",
       "[1] 255\n",
       "\n",
       "[[2]]\n",
       "[1] 2\n",
       "\n",
       "[[3]]\n",
       "[1] 2\n",
       "\n",
       "[[4]]\n",
       "[1] 255\n",
       "\n",
       "[[5]]\n",
       "[1] 255\n",
       "\n",
       "[[6]]\n",
       "[1] 255\n",
       "\n",
       "[[7]]\n",
       "[1] 255\n",
       "\n",
       "[[8]]\n",
       "[1] 255\n",
       "\n",
       "[[9]]\n",
       "[1] 255\n",
       "\n",
       "[[10]]\n",
       "[1] 1\n"
      ]
     },
     "metadata": {},
     "output_type": "display_data"
    }
   ],
   "source": [
    "impute_1kgp_random = function(ii, cv2perm, id2cv)\n",
    "{\n",
    "    bin       = cv2perm[ii, \"bin\"     ]\n",
    "    random    = cv2perm[ii, \"random\"  ]\n",
    "    perm      = cv2perm[ii, \"perm\"    ]\n",
    "    message(paste(ii, bin, random, perm), appendLF = FALSE)\n",
    "    outfolder = cv2perm[ii, \"folder\"  ]\n",
    "    vcf_gts   = cv2perm[ii, \"vcf\"     ]\n",
    "    ids_in    = id2cv[ id2cv$bin != bin, \"id\"]\n",
    "    ids_imp   = id2cv[ id2cv$bin == bin, \"id\"]\n",
    "    outfolder = paste(getwd(), \"pipeline/beagle/1kgp_validation/random/processing\", paste(paste0(\"bin\", bin), random, perm, sep = \".\"), sep = \"/\")\n",
    "    vcf_in    = paste(outfolder, \"ref.vcf.gz\", sep = \"/\")\n",
    "    vcf_imp   = paste(outfolder, \"gts.vcf.gz\", sep = \"/\")\n",
    "    \n",
    "    dir.create(outfolder, showWarnings = FALSE)\n",
    "        \n",
    "    filter_vcf_by_id(ids_in , vcf_phased, vcf_in )\n",
    "    filter_vcf_by_id(ids_imp, vcf_gts   , vcf_imp)\n",
    "    \n",
    "    imputed_vcf = command_run_beagle         (vcf_in, vcf_imp, outfolder)\n",
    "    hla_out     = command_extract_hla_convert(imputed_vcf, outfolder)\n",
    "}\n",
    "\n",
    "\n",
    "\n",
    "lapply(9991:10000, function(ii){impute_1kgp_random(ii, cv2perm, id2cv)})\n"
   ]
  },
  {
   "cell_type": "code",
   "execution_count": 199,
   "metadata": {},
   "outputs": [
    {
     "data": {
      "text/html": [
       "<table class=\"dataframe\">\n",
       "<caption>A data.frame: 10 × 5</caption>\n",
       "<thead>\n",
       "\t<tr><th></th><th scope=col>bin</th><th scope=col>random</th><th scope=col>perm</th><th scope=col>folder</th><th scope=col>vcf</th></tr>\n",
       "\t<tr><th></th><th scope=col>&lt;dbl&gt;</th><th scope=col>&lt;dbl&gt;</th><th scope=col>&lt;int&gt;</th><th scope=col>&lt;chr&gt;</th><th scope=col>&lt;chr&gt;</th></tr>\n",
       "</thead>\n",
       "<tbody>\n",
       "\t<tr><th scope=row>9991</th><td> 1</td><td>100</td><td>100</td><td>/frazer01/projects/CEGS/analysis/hla_type_1kgp/pipeline/beagle/1kgp_validation/random/processing/bin1.100.100 </td><td>/frazer01/projects/CEGS/analysis/hla_type_1kgp/pipeline/beagle/1kgp_validation/random/var_lists/vars.100.100/vars.vcf.gz</td></tr>\n",
       "\t<tr><th scope=row>9992</th><td> 2</td><td>100</td><td>100</td><td>/frazer01/projects/CEGS/analysis/hla_type_1kgp/pipeline/beagle/1kgp_validation/random/processing/bin2.100.100 </td><td>/frazer01/projects/CEGS/analysis/hla_type_1kgp/pipeline/beagle/1kgp_validation/random/var_lists/vars.100.100/vars.vcf.gz</td></tr>\n",
       "\t<tr><th scope=row>9993</th><td> 3</td><td>100</td><td>100</td><td>/frazer01/projects/CEGS/analysis/hla_type_1kgp/pipeline/beagle/1kgp_validation/random/processing/bin3.100.100 </td><td>/frazer01/projects/CEGS/analysis/hla_type_1kgp/pipeline/beagle/1kgp_validation/random/var_lists/vars.100.100/vars.vcf.gz</td></tr>\n",
       "\t<tr><th scope=row>9994</th><td> 4</td><td>100</td><td>100</td><td>/frazer01/projects/CEGS/analysis/hla_type_1kgp/pipeline/beagle/1kgp_validation/random/processing/bin4.100.100 </td><td>/frazer01/projects/CEGS/analysis/hla_type_1kgp/pipeline/beagle/1kgp_validation/random/var_lists/vars.100.100/vars.vcf.gz</td></tr>\n",
       "\t<tr><th scope=row>9995</th><td> 5</td><td>100</td><td>100</td><td>/frazer01/projects/CEGS/analysis/hla_type_1kgp/pipeline/beagle/1kgp_validation/random/processing/bin5.100.100 </td><td>/frazer01/projects/CEGS/analysis/hla_type_1kgp/pipeline/beagle/1kgp_validation/random/var_lists/vars.100.100/vars.vcf.gz</td></tr>\n",
       "\t<tr><th scope=row>9996</th><td> 6</td><td>100</td><td>100</td><td>/frazer01/projects/CEGS/analysis/hla_type_1kgp/pipeline/beagle/1kgp_validation/random/processing/bin6.100.100 </td><td>/frazer01/projects/CEGS/analysis/hla_type_1kgp/pipeline/beagle/1kgp_validation/random/var_lists/vars.100.100/vars.vcf.gz</td></tr>\n",
       "\t<tr><th scope=row>9997</th><td> 7</td><td>100</td><td>100</td><td>/frazer01/projects/CEGS/analysis/hla_type_1kgp/pipeline/beagle/1kgp_validation/random/processing/bin7.100.100 </td><td>/frazer01/projects/CEGS/analysis/hla_type_1kgp/pipeline/beagle/1kgp_validation/random/var_lists/vars.100.100/vars.vcf.gz</td></tr>\n",
       "\t<tr><th scope=row>9998</th><td> 8</td><td>100</td><td>100</td><td>/frazer01/projects/CEGS/analysis/hla_type_1kgp/pipeline/beagle/1kgp_validation/random/processing/bin8.100.100 </td><td>/frazer01/projects/CEGS/analysis/hla_type_1kgp/pipeline/beagle/1kgp_validation/random/var_lists/vars.100.100/vars.vcf.gz</td></tr>\n",
       "\t<tr><th scope=row>9999</th><td> 9</td><td>100</td><td>100</td><td>/frazer01/projects/CEGS/analysis/hla_type_1kgp/pipeline/beagle/1kgp_validation/random/processing/bin9.100.100 </td><td>/frazer01/projects/CEGS/analysis/hla_type_1kgp/pipeline/beagle/1kgp_validation/random/var_lists/vars.100.100/vars.vcf.gz</td></tr>\n",
       "\t<tr><th scope=row>10000</th><td>10</td><td>100</td><td>100</td><td>/frazer01/projects/CEGS/analysis/hla_type_1kgp/pipeline/beagle/1kgp_validation/random/processing/bin10.100.100</td><td>/frazer01/projects/CEGS/analysis/hla_type_1kgp/pipeline/beagle/1kgp_validation/random/var_lists/vars.100.100/vars.vcf.gz</td></tr>\n",
       "</tbody>\n",
       "</table>\n"
      ],
      "text/latex": [
       "A data.frame: 10 × 5\n",
       "\\begin{tabular}{r|lllll}\n",
       "  & bin & random & perm & folder & vcf\\\\\n",
       "  & <dbl> & <dbl> & <int> & <chr> & <chr>\\\\\n",
       "\\hline\n",
       "\t9991 &  1 & 100 & 100 & /frazer01/projects/CEGS/analysis/hla\\_type\\_1kgp/pipeline/beagle/1kgp\\_validation/random/processing/bin1.100.100  & /frazer01/projects/CEGS/analysis/hla\\_type\\_1kgp/pipeline/beagle/1kgp\\_validation/random/var\\_lists/vars.100.100/vars.vcf.gz\\\\\n",
       "\t9992 &  2 & 100 & 100 & /frazer01/projects/CEGS/analysis/hla\\_type\\_1kgp/pipeline/beagle/1kgp\\_validation/random/processing/bin2.100.100  & /frazer01/projects/CEGS/analysis/hla\\_type\\_1kgp/pipeline/beagle/1kgp\\_validation/random/var\\_lists/vars.100.100/vars.vcf.gz\\\\\n",
       "\t9993 &  3 & 100 & 100 & /frazer01/projects/CEGS/analysis/hla\\_type\\_1kgp/pipeline/beagle/1kgp\\_validation/random/processing/bin3.100.100  & /frazer01/projects/CEGS/analysis/hla\\_type\\_1kgp/pipeline/beagle/1kgp\\_validation/random/var\\_lists/vars.100.100/vars.vcf.gz\\\\\n",
       "\t9994 &  4 & 100 & 100 & /frazer01/projects/CEGS/analysis/hla\\_type\\_1kgp/pipeline/beagle/1kgp\\_validation/random/processing/bin4.100.100  & /frazer01/projects/CEGS/analysis/hla\\_type\\_1kgp/pipeline/beagle/1kgp\\_validation/random/var\\_lists/vars.100.100/vars.vcf.gz\\\\\n",
       "\t9995 &  5 & 100 & 100 & /frazer01/projects/CEGS/analysis/hla\\_type\\_1kgp/pipeline/beagle/1kgp\\_validation/random/processing/bin5.100.100  & /frazer01/projects/CEGS/analysis/hla\\_type\\_1kgp/pipeline/beagle/1kgp\\_validation/random/var\\_lists/vars.100.100/vars.vcf.gz\\\\\n",
       "\t9996 &  6 & 100 & 100 & /frazer01/projects/CEGS/analysis/hla\\_type\\_1kgp/pipeline/beagle/1kgp\\_validation/random/processing/bin6.100.100  & /frazer01/projects/CEGS/analysis/hla\\_type\\_1kgp/pipeline/beagle/1kgp\\_validation/random/var\\_lists/vars.100.100/vars.vcf.gz\\\\\n",
       "\t9997 &  7 & 100 & 100 & /frazer01/projects/CEGS/analysis/hla\\_type\\_1kgp/pipeline/beagle/1kgp\\_validation/random/processing/bin7.100.100  & /frazer01/projects/CEGS/analysis/hla\\_type\\_1kgp/pipeline/beagle/1kgp\\_validation/random/var\\_lists/vars.100.100/vars.vcf.gz\\\\\n",
       "\t9998 &  8 & 100 & 100 & /frazer01/projects/CEGS/analysis/hla\\_type\\_1kgp/pipeline/beagle/1kgp\\_validation/random/processing/bin8.100.100  & /frazer01/projects/CEGS/analysis/hla\\_type\\_1kgp/pipeline/beagle/1kgp\\_validation/random/var\\_lists/vars.100.100/vars.vcf.gz\\\\\n",
       "\t9999 &  9 & 100 & 100 & /frazer01/projects/CEGS/analysis/hla\\_type\\_1kgp/pipeline/beagle/1kgp\\_validation/random/processing/bin9.100.100  & /frazer01/projects/CEGS/analysis/hla\\_type\\_1kgp/pipeline/beagle/1kgp\\_validation/random/var\\_lists/vars.100.100/vars.vcf.gz\\\\\n",
       "\t10000 & 10 & 100 & 100 & /frazer01/projects/CEGS/analysis/hla\\_type\\_1kgp/pipeline/beagle/1kgp\\_validation/random/processing/bin10.100.100 & /frazer01/projects/CEGS/analysis/hla\\_type\\_1kgp/pipeline/beagle/1kgp\\_validation/random/var\\_lists/vars.100.100/vars.vcf.gz\\\\\n",
       "\\end{tabular}\n"
      ],
      "text/markdown": [
       "\n",
       "A data.frame: 10 × 5\n",
       "\n",
       "| <!--/--> | bin &lt;dbl&gt; | random &lt;dbl&gt; | perm &lt;int&gt; | folder &lt;chr&gt; | vcf &lt;chr&gt; |\n",
       "|---|---|---|---|---|---|\n",
       "| 9991 |  1 | 100 | 100 | /frazer01/projects/CEGS/analysis/hla_type_1kgp/pipeline/beagle/1kgp_validation/random/processing/bin1.100.100  | /frazer01/projects/CEGS/analysis/hla_type_1kgp/pipeline/beagle/1kgp_validation/random/var_lists/vars.100.100/vars.vcf.gz |\n",
       "| 9992 |  2 | 100 | 100 | /frazer01/projects/CEGS/analysis/hla_type_1kgp/pipeline/beagle/1kgp_validation/random/processing/bin2.100.100  | /frazer01/projects/CEGS/analysis/hla_type_1kgp/pipeline/beagle/1kgp_validation/random/var_lists/vars.100.100/vars.vcf.gz |\n",
       "| 9993 |  3 | 100 | 100 | /frazer01/projects/CEGS/analysis/hla_type_1kgp/pipeline/beagle/1kgp_validation/random/processing/bin3.100.100  | /frazer01/projects/CEGS/analysis/hla_type_1kgp/pipeline/beagle/1kgp_validation/random/var_lists/vars.100.100/vars.vcf.gz |\n",
       "| 9994 |  4 | 100 | 100 | /frazer01/projects/CEGS/analysis/hla_type_1kgp/pipeline/beagle/1kgp_validation/random/processing/bin4.100.100  | /frazer01/projects/CEGS/analysis/hla_type_1kgp/pipeline/beagle/1kgp_validation/random/var_lists/vars.100.100/vars.vcf.gz |\n",
       "| 9995 |  5 | 100 | 100 | /frazer01/projects/CEGS/analysis/hla_type_1kgp/pipeline/beagle/1kgp_validation/random/processing/bin5.100.100  | /frazer01/projects/CEGS/analysis/hla_type_1kgp/pipeline/beagle/1kgp_validation/random/var_lists/vars.100.100/vars.vcf.gz |\n",
       "| 9996 |  6 | 100 | 100 | /frazer01/projects/CEGS/analysis/hla_type_1kgp/pipeline/beagle/1kgp_validation/random/processing/bin6.100.100  | /frazer01/projects/CEGS/analysis/hla_type_1kgp/pipeline/beagle/1kgp_validation/random/var_lists/vars.100.100/vars.vcf.gz |\n",
       "| 9997 |  7 | 100 | 100 | /frazer01/projects/CEGS/analysis/hla_type_1kgp/pipeline/beagle/1kgp_validation/random/processing/bin7.100.100  | /frazer01/projects/CEGS/analysis/hla_type_1kgp/pipeline/beagle/1kgp_validation/random/var_lists/vars.100.100/vars.vcf.gz |\n",
       "| 9998 |  8 | 100 | 100 | /frazer01/projects/CEGS/analysis/hla_type_1kgp/pipeline/beagle/1kgp_validation/random/processing/bin8.100.100  | /frazer01/projects/CEGS/analysis/hla_type_1kgp/pipeline/beagle/1kgp_validation/random/var_lists/vars.100.100/vars.vcf.gz |\n",
       "| 9999 |  9 | 100 | 100 | /frazer01/projects/CEGS/analysis/hla_type_1kgp/pipeline/beagle/1kgp_validation/random/processing/bin9.100.100  | /frazer01/projects/CEGS/analysis/hla_type_1kgp/pipeline/beagle/1kgp_validation/random/var_lists/vars.100.100/vars.vcf.gz |\n",
       "| 10000 | 10 | 100 | 100 | /frazer01/projects/CEGS/analysis/hla_type_1kgp/pipeline/beagle/1kgp_validation/random/processing/bin10.100.100 | /frazer01/projects/CEGS/analysis/hla_type_1kgp/pipeline/beagle/1kgp_validation/random/var_lists/vars.100.100/vars.vcf.gz |\n",
       "\n"
      ],
      "text/plain": [
       "      bin random perm\n",
       "9991   1  100    100 \n",
       "9992   2  100    100 \n",
       "9993   3  100    100 \n",
       "9994   4  100    100 \n",
       "9995   5  100    100 \n",
       "9996   6  100    100 \n",
       "9997   7  100    100 \n",
       "9998   8  100    100 \n",
       "9999   9  100    100 \n",
       "10000 10  100    100 \n",
       "      folder                                                                                                        \n",
       "9991  /frazer01/projects/CEGS/analysis/hla_type_1kgp/pipeline/beagle/1kgp_validation/random/processing/bin1.100.100 \n",
       "9992  /frazer01/projects/CEGS/analysis/hla_type_1kgp/pipeline/beagle/1kgp_validation/random/processing/bin2.100.100 \n",
       "9993  /frazer01/projects/CEGS/analysis/hla_type_1kgp/pipeline/beagle/1kgp_validation/random/processing/bin3.100.100 \n",
       "9994  /frazer01/projects/CEGS/analysis/hla_type_1kgp/pipeline/beagle/1kgp_validation/random/processing/bin4.100.100 \n",
       "9995  /frazer01/projects/CEGS/analysis/hla_type_1kgp/pipeline/beagle/1kgp_validation/random/processing/bin5.100.100 \n",
       "9996  /frazer01/projects/CEGS/analysis/hla_type_1kgp/pipeline/beagle/1kgp_validation/random/processing/bin6.100.100 \n",
       "9997  /frazer01/projects/CEGS/analysis/hla_type_1kgp/pipeline/beagle/1kgp_validation/random/processing/bin7.100.100 \n",
       "9998  /frazer01/projects/CEGS/analysis/hla_type_1kgp/pipeline/beagle/1kgp_validation/random/processing/bin8.100.100 \n",
       "9999  /frazer01/projects/CEGS/analysis/hla_type_1kgp/pipeline/beagle/1kgp_validation/random/processing/bin9.100.100 \n",
       "10000 /frazer01/projects/CEGS/analysis/hla_type_1kgp/pipeline/beagle/1kgp_validation/random/processing/bin10.100.100\n",
       "      vcf                                                                                                                     \n",
       "9991  /frazer01/projects/CEGS/analysis/hla_type_1kgp/pipeline/beagle/1kgp_validation/random/var_lists/vars.100.100/vars.vcf.gz\n",
       "9992  /frazer01/projects/CEGS/analysis/hla_type_1kgp/pipeline/beagle/1kgp_validation/random/var_lists/vars.100.100/vars.vcf.gz\n",
       "9993  /frazer01/projects/CEGS/analysis/hla_type_1kgp/pipeline/beagle/1kgp_validation/random/var_lists/vars.100.100/vars.vcf.gz\n",
       "9994  /frazer01/projects/CEGS/analysis/hla_type_1kgp/pipeline/beagle/1kgp_validation/random/var_lists/vars.100.100/vars.vcf.gz\n",
       "9995  /frazer01/projects/CEGS/analysis/hla_type_1kgp/pipeline/beagle/1kgp_validation/random/var_lists/vars.100.100/vars.vcf.gz\n",
       "9996  /frazer01/projects/CEGS/analysis/hla_type_1kgp/pipeline/beagle/1kgp_validation/random/var_lists/vars.100.100/vars.vcf.gz\n",
       "9997  /frazer01/projects/CEGS/analysis/hla_type_1kgp/pipeline/beagle/1kgp_validation/random/var_lists/vars.100.100/vars.vcf.gz\n",
       "9998  /frazer01/projects/CEGS/analysis/hla_type_1kgp/pipeline/beagle/1kgp_validation/random/var_lists/vars.100.100/vars.vcf.gz\n",
       "9999  /frazer01/projects/CEGS/analysis/hla_type_1kgp/pipeline/beagle/1kgp_validation/random/var_lists/vars.100.100/vars.vcf.gz\n",
       "10000 /frazer01/projects/CEGS/analysis/hla_type_1kgp/pipeline/beagle/1kgp_validation/random/var_lists/vars.100.100/vars.vcf.gz"
      ]
     },
     "metadata": {},
     "output_type": "display_data"
    }
   ],
   "source": [
    "cv2perm[ 9991:10000,]"
   ]
  },
  {
   "cell_type": "code",
   "execution_count": null,
   "metadata": {},
   "outputs": [],
   "source": []
  }
 ],
 "metadata": {
  "kernelspec": {
   "display_name": "R 4.1.3",
   "language": "R",
   "name": "ir413"
  },
  "language_info": {
   "codemirror_mode": "r",
   "file_extension": ".r",
   "mimetype": "text/x-r-source",
   "name": "R",
   "pygments_lexer": "r",
   "version": "4.1.3"
  }
 },
 "nbformat": 4,
 "nbformat_minor": 2
}
