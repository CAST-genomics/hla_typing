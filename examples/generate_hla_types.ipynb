{
 "cells": [
  {
   "cell_type": "code",
   "execution_count": 1,
   "metadata": {},
   "outputs": [],
   "source": [
    "# print(\"Hello world!\")\n",
    "# install.packages(\"colorspace\")\n",
    "# install.packages(\"data.table\")\n",
    "# install.packages(\"plyr\")\n",
    "# install.packages(\"dplyr\")\n",
    "# install.packages(\"optparse\")\n",
    "# install.packages(\"bit64\")\n",
    "\n",
    "#if (!require(\"BiocManager\", quietly = TRUE))\n",
    "#    install.packages(\"BiocManager\")\n",
    "#BiocManager::install()\n",
    "# BiocManager::install(\"rhdf5\")"
   ]
  },
  {
   "cell_type": "code",
   "execution_count": 2,
   "metadata": {},
   "outputs": [],
   "source": [
    "setwd(\"/frazer01/home/aphodges/software/my_hla_typing/\")\n",
    "source(\"script/functions.R\")"
   ]
  },
  {
   "cell_type": "code",
   "execution_count": 3,
   "metadata": {},
   "outputs": [
    {
     "data": {
      "text/html": [
       "<style>\n",
       ".list-inline {list-style: none; margin:0; padding: 0}\n",
       ".list-inline>li {display: inline-block}\n",
       ".list-inline>li:not(:last-child)::after {content: \"\\00b7\"; padding: 0 .5ex}\n",
       "</style>\n",
       "<ol class=list-inline><li>'1kgp'</li><li>'gen.hla_types_all.txt'</li><li>'gen.hla_types.txt'</li><li>'gen.result.txt'</li><li>'hla_typing.sh'</li><li>'HLAVBSeq.jar'</li><li>'input'</li><li>'nohup.out'</li><li>'pipeline'</li><li>'process_hla_types.R'</li><li>'README.md'</li><li>'reference'</li><li>'script'</li><li>'TMP'</li></ol>\n"
      ],
      "text/latex": [
       "\\begin{enumerate*}\n",
       "\\item '1kgp'\n",
       "\\item 'gen.hla\\_types\\_all.txt'\n",
       "\\item 'gen.hla\\_types.txt'\n",
       "\\item 'gen.result.txt'\n",
       "\\item 'hla\\_typing.sh'\n",
       "\\item 'HLAVBSeq.jar'\n",
       "\\item 'input'\n",
       "\\item 'nohup.out'\n",
       "\\item 'pipeline'\n",
       "\\item 'process\\_hla\\_types.R'\n",
       "\\item 'README.md'\n",
       "\\item 'reference'\n",
       "\\item 'script'\n",
       "\\item 'TMP'\n",
       "\\end{enumerate*}\n"
      ],
      "text/markdown": [
       "1. '1kgp'\n",
       "2. 'gen.hla_types_all.txt'\n",
       "3. 'gen.hla_types.txt'\n",
       "4. 'gen.result.txt'\n",
       "5. 'hla_typing.sh'\n",
       "6. 'HLAVBSeq.jar'\n",
       "7. 'input'\n",
       "8. 'nohup.out'\n",
       "9. 'pipeline'\n",
       "10. 'process_hla_types.R'\n",
       "11. 'README.md'\n",
       "12. 'reference'\n",
       "13. 'script'\n",
       "14. 'TMP'\n",
       "\n",
       "\n"
      ],
      "text/plain": [
       " [1] \"1kgp\"                  \"gen.hla_types_all.txt\" \"gen.hla_types.txt\"    \n",
       " [4] \"gen.result.txt\"        \"hla_typing.sh\"         \"HLAVBSeq.jar\"         \n",
       " [7] \"input\"                 \"nohup.out\"             \"pipeline\"             \n",
       "[10] \"process_hla_types.R\"   \"README.md\"             \"reference\"            \n",
       "[13] \"script\"                \"TMP\"                  "
      ]
     },
     "metadata": {},
     "output_type": "display_data"
    }
   ],
   "source": [
    "\n",
    "dir()"
   ]
  },
  {
   "cell_type": "code",
   "execution_count": 4,
   "metadata": {},
   "outputs": [
    {
     "name": "stderr",
     "output_type": "stream",
     "text": [
      "Warning message in require_bit64_if_needed(ans):\n",
      "“Some columns are type 'integer64' but package bit64 is not installed. Those columns will print as strange looking floating point data. There is no need to reload the data. Simply install.packages('bit64') to obtain the integer64 print method and print the data again.”\n",
      "Warning message in require_bit64_if_needed(ans):\n",
      "“Some columns are type 'integer64' but package bit64 is not installed. Those columns will print as strange looking floating point data. There is no need to reload the data. Simply install.packages('bit64') to obtain the integer64 print method and print the data again.”\n"
     ]
    }
   ],
   "source": [
    "id2url_2504           = fread(\"input/1000G_2504_high_coverage.sequence.index\"        , sep = \"\\t\", header = TRUE , data.table = FALSE)[,c(\"#ENA_FILE_PATH\", \"RUN_ID\", \"LIBRARY_NAME\", \"POPULATION\")]\n",
    "id2url_698            = fread(\"input/1000G_698_related_high_coverage.sequence.index\" , sep = \"\\t\", header = FALSE, data.table = FALSE)[,c(1,3,10,11)]\n",
    "colnames(id2url_2504) = c(\"cram_url\", \"run_id\", \"id\", \"population\")\n",
    "colnames(id2url_698 ) = c(\"cram_url\", \"run_id\", \"id\", \"population\")\n",
    "id2url                = rbind(id2url_2504, id2url_698)\n",
    "\n",
    "fwrite(id2url, \"pipeline/hla_typing/id2url.txt\", sep = \"\\t\", col.names = TRUE, row.names = FALSE)\n"
   ]
  },
  {
   "cell_type": "code",
   "execution_count": 6,
   "metadata": {},
   "outputs": [
    {
     "name": "stderr",
     "output_type": "stream",
     "text": [
      "qsub -t 1-50:1 -tc 50 -l short -l h_vmem=16G -pe smp 8 -o /frazer01/home/aphodges/software/my_hla_typing/pipeline/hla_typing/logs.out -e /frazer01/home/aphodges/software/my_hla_typing/pipeline/hla_typing/logs.err /frazer01/home/aphodges/software/my_hla_typing/pipeline/hla_typing/run_hla_typing.sh\n",
      "\n"
     ]
    }
   ],
   "source": [
    "run_hla_typing_qsub = function(id2url, qsub = FALSE)\n",
    "{\n",
    "    sh_file = paste(getwd(), \"pipeline/hla_typing/run_hla_typing.sh\", sep = \"/\")\n",
    "    \n",
    "    writeLines(text = c(\"#!/usr/bin/sh\",\n",
    "                        \"source /frazer01/home/aphodges/.bashrc\",\n",
    "                        \"export REF_PATH=/frazer01/home/aphodges/software/my_hla_typing/input/cram_cache/cache/%2s/%2s/%s:http://www.ebi.ac.uk/ena/cram/md5/%s\",\"\n",
    "                        export REF_CACHE=/frazer01/home/aphodges/software/my_hla_typing/input/cram_cache/cache/%2s/%2s/%s\",\n",
    "                        #\"export REF_PATH=/frazer01/projects/CEGS/analysis/hla_type_1kgp/input/cram_cache/cache/%2s/%2s/%s:http://www.ebi.ac.uk/ena/cram/md5/%s\",\n",
    "                        #\"export REF_CACHE=/frazer01/projects/CEGS/analysis/hla_type_1kgp/input/cram_cache/cache/%2s/%2s/%s\",\n",
    "                        paste(\"Rscript\", paste(paste(getwd(), \"script\", \"run_hla_typing.R\", sep = \"/\"),\n",
    "                                               \"--taskid\"   , \"$SGE_TASK_ID\")\n",
    "                             )\n",
    "                       ), \n",
    "               con  = sh_file, \n",
    "               sep  = \"\\n\\n\")\n",
    "    \n",
    "    qsub_command = paste(\"qsub\",\n",
    "                         \"-t\", paste(1, \"-\", 50, \":1\", sep = \"\"), #5 replacing nrow(id2url)\n",
    "                         \"-tc\", 50, \n",
    "                         \"-l\" , \"short\",\n",
    "                         \"-l\" , \"h_vmem=16G\",\n",
    "                         \"-pe\", \"smp\", 8, #8 set previously\n",
    "                         \"-o\" , paste(getwd(), \"pipeline/hla_typing/logs.out\", sep = \"/\"),\n",
    "                         \"-e\" , paste(getwd(), \"pipeline/hla_typing/logs.err\", sep = \"/\"),\n",
    "                         sh_file\n",
    "                        )\n",
    "    \n",
    "    message(qsub_command)\n",
    "    if(qsub == TRUE){system(qsub_command)}\n",
    "}\n",
    "\n",
    "run_hla_typing_qsub(id2url, TRUE)\n"
   ]
  },
  {
   "cell_type": "code",
   "execution_count": 3,
   "metadata": {},
   "outputs": [
    {
     "ename": "ERROR",
     "evalue": "Error in read.table(\"pipeline/hla_typing/logs.out\"): no lines available in input\n",
     "output_type": "error",
     "traceback": [
      "Error in read.table(\"pipeline/hla_typing/logs.out\"): no lines available in input\nTraceback:\n",
      "1. read.table(\"pipeline/hla_typing/logs.out\")",
      "2. stop(\"no lines available in input\")"
     ]
    }
   ],
   "source": [
    "error_data = read.table(\"pipeline/hla_typing/logs.out\")"
   ]
  },
  {
   "cell_type": "code",
   "execution_count": 11,
   "metadata": {},
   "outputs": [
    {
     "ename": "ERROR",
     "evalue": "Error in print(error_data[1, ]): object 'error_data' not found\n",
     "output_type": "error",
     "traceback": [
      "Error in print(error_data[1, ]): object 'error_data' not found\nTraceback:\n",
      "1. print(error_data[1, ])"
     ]
    }
   ],
   "source": [
    "print(error_data[1,])"
   ]
  },
  {
   "cell_type": "code",
   "execution_count": 17,
   "metadata": {},
   "outputs": [],
   "source": [
    "system(\"qsub -t 1-5:1 -tc 50 -l short -l h_vmem=8G -pe smp 2 -o /frazer01/home/aphodges/software/my_hla_typing/pipeline/hla_typing/logs.out -e /frazer01/home/aphodges/software/my_hla_typing/pipeline/hla_typing/logs.err \\\n",
    "/frazer01/home/aphodges/software/my_hla_typing/pipeline/hla_typing/run_hla_typing.sh\")"
   ]
  },
  {
   "cell_type": "code",
   "execution_count": null,
   "metadata": {},
   "outputs": [],
   "source": []
  }
 ],
 "metadata": {
  "kernelspec": {
   "display_name": "R",
   "language": "R",
   "name": "ir"
  },
  "language_info": {
   "codemirror_mode": "r",
   "file_extension": ".r",
   "mimetype": "text/x-r-source",
   "name": "R",
   "pygments_lexer": "r",
   "version": "4.0.2"
  }
 },
 "nbformat": 4,
 "nbformat_minor": 2
}
