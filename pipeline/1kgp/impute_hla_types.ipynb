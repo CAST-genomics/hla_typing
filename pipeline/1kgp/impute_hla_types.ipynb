{
 "cells": [
  {
   "cell_type": "code",
   "execution_count": 84,
   "metadata": {},
   "outputs": [],
   "source": [
    "source(\"/frazer01/projects/CEGS/analysis/hla_type_1kgp/script/functions_hla_type.R\")\n"
   ]
  },
  {
   "cell_type": "code",
   "execution_count": 167,
   "metadata": {},
   "outputs": [],
   "source": [
    "dir.create(\"pipeline/beagle\"                  , showWarnings = FALSE)\n",
    "dir.create(\"pipeline/beagle/processing\"       , showWarnings = FALSE)\n",
    "dir.create(\"pipeline/beagle/ukbb\"             , showWarnings = FALSE)\n",
    "dir.create(\"pipeline/beagle/ukbb_vars_in_1kgp\", showWarnings = FALSE)\n"
   ]
  },
  {
   "cell_type": "code",
   "execution_count": 86,
   "metadata": {},
   "outputs": [],
   "source": [
    "ukbb_pgen_prefix = paste(getwd(), \"input/ukbb/snps\", sep = \"/\")"
   ]
  },
  {
   "cell_type": "markdown",
   "metadata": {},
   "source": [
    "# Divide UKBB individuals into bins\n",
    "- VCF would be too big otherwise"
   ]
  },
  {
   "cell_type": "code",
   "execution_count": 159,
   "metadata": {},
   "outputs": [],
   "source": [
    "ukbb_psam = fread(\"input/ukbb/snps.psam\", sep = \"\\t\", header = TRUE, data.table = FALSE)\n",
    "ukbb_ids  = ukbb_psam[,1]\n",
    "ukbb2bin  = data.frame(id = ukbb_ids, bin = ceiling((1:length(ukbb_ids)) / 10000))\n",
    "bins      = sort(unique(ukbb2bin$bin))"
   ]
  },
  {
   "cell_type": "code",
   "execution_count": 160,
   "metadata": {},
   "outputs": [],
   "source": [
    "fwrite(ukbb2bin, \"pipeline/beagle/ukbb2bin.txt\", sep = \"\\t\", col.names = TRUE, row.names = FALSE)"
   ]
  },
  {
   "cell_type": "markdown",
   "metadata": {},
   "source": [
    "# extract UKBB variants"
   ]
  },
  {
   "cell_type": "code",
   "execution_count": 165,
   "metadata": {},
   "outputs": [],
   "source": [
    "command = paste(\"bcftools\", \"query\",\n",
    "                \"-f\", \"'%ID\\\\t%AF\\\\n'\",\n",
    "                vcf_hla_types\n",
    "               )\n",
    "\n",
    "hla_real           = fread(cmd = command, sep = \"\\t\", header = FALSE, data.table = FALSE)\n",
    "colnames(hla_real) = c(\"hla_type\", \"af\")\n"
   ]
  },
  {
   "cell_type": "code",
   "execution_count": 169,
   "metadata": {},
   "outputs": [],
   "source": [
    "var_ids        = sort(unique(c(fread(paste(getwd(), \"input/ukbb/snps.pvar\", sep = \"/\"), sep = \"\\t\", header = TRUE, data.table = FALSE)[,3],\n",
    "                               readLines(hla_types_list_file)\n",
    "                              )))\n",
    "var_ids        = var_ids[ grepl(\"^rs\", var_ids) == TRUE | grepl(\"^6:\", var_ids) == TRUE]\n",
    "outfolder_ukbb = paste(getwd(), \"pipeline/beagle/ukbb_vars_in_1kgp\", sep = \"/\")\n",
    "var_ids_file   = paste(outfolder_ukbb, \"var_ids_ukbb.txt\", sep = \"/\")\n",
    "\n",
    "writeLines(c(var_ids, hla_real$hla_type), var_ids_file, sep = \"\\n\")"
   ]
  },
  {
   "cell_type": "code",
   "execution_count": 170,
   "metadata": {},
   "outputs": [],
   "source": [
    "prefix_ukbb_vars = paste(outfolder_ukbb, \"ukbb_vars\", sep = \"/\")"
   ]
  },
  {
   "cell_type": "code",
   "execution_count": 171,
   "metadata": {},
   "outputs": [],
   "source": [
    "command = paste(\"plink2_64\", \n",
    "                \"--vcf\"    , vcf_phased,\n",
    "                \"--extract\", var_ids_file,\n",
    "                \"--memory\" , 64000,\n",
    "                \"--threads\", 8,\n",
    "                \"--export\" , \"vcf\", \"bgz\", \n",
    "                \"vcf-dosage=DS-force\",\n",
    "                \"--out\"   , prefix_ukbb_vars\n",
    "               )\n",
    "\n",
    "system(command)\n",
    "\n",
    "vcf_ukbb_vars = paste(prefix_ukbb_vars, \"vcf.gz\", sep = \".\")\n",
    "command       = paste(\"bcftools\", \"index\", \"-t\", vcf_ukbb_vars)\n",
    "\n",
    "system(command)\n",
    "\n"
   ]
  },
  {
   "cell_type": "code",
   "execution_count": 172,
   "metadata": {},
   "outputs": [
    {
     "data": {
      "text/html": [
       "'/frazer01/projects/CEGS/analysis/hla_type_1kgp/pipeline/beagle/ukbb_vars_in_1kgp/ukbb_vars.vcf.gz'"
      ],
      "text/latex": [
       "'/frazer01/projects/CEGS/analysis/hla\\_type\\_1kgp/pipeline/beagle/ukbb\\_vars\\_in\\_1kgp/ukbb\\_vars.vcf.gz'"
      ],
      "text/markdown": [
       "'/frazer01/projects/CEGS/analysis/hla_type_1kgp/pipeline/beagle/ukbb_vars_in_1kgp/ukbb_vars.vcf.gz'"
      ],
      "text/plain": [
       "[1] \"/frazer01/projects/CEGS/analysis/hla_type_1kgp/pipeline/beagle/ukbb_vars_in_1kgp/ukbb_vars.vcf.gz\""
      ]
     },
     "metadata": {},
     "output_type": "display_data"
    }
   ],
   "source": [
    "vcf_ukbb_vars"
   ]
  },
  {
   "cell_type": "markdown",
   "metadata": {},
   "source": [
    "# Run imputation"
   ]
  },
  {
   "cell_type": "code",
   "execution_count": 211,
   "metadata": {},
   "outputs": [
    {
     "name": "stderr",
     "output_type": "stream",
     "text": [
      "qsub -t 1-49:1 -tc 50 -l h_vmem=16G -pe smp 4 -o /frazer01/projects/CEGS/analysis/hla_type_1kgp/pipeline/beagle/logs.out -e /frazer01/projects/CEGS/analysis/hla_type_1kgp/pipeline/beagle/logs.err /frazer01/projects/CEGS/analysis/hla_type_1kgp/pipeline/beagle/run_imputation.sh\n",
      "\n"
     ]
    }
   ],
   "source": [
    "run_hla_typing_qsub = function(bins, qsub = FALSE)\n",
    "{\n",
    "    sh_file = paste(getwd(), \"pipeline/beagle/run_imputation.sh\", sep = \"/\")\n",
    "    \n",
    "    writeLines(text = c(\"#!/usr/bin/sh\",\n",
    "                        \"source /frazer01/home/matteo/.bashrc\",\n",
    "                        paste(\"Rscript\", paste(paste(getwd(), \"script\", \"run_imputation.R\", sep = \"/\"),\n",
    "                                               \"--taskid\"   , \"$SGE_TASK_ID\")\n",
    "                             )\n",
    "                       ), \n",
    "               con  = sh_file, \n",
    "               sep  = \"\\n\\n\")\n",
    "    \n",
    "    qsub_command = paste(\"qsub\",\n",
    "                         \"-t\", paste(1, \"-\", length(bins), \":1\", sep = \"\"),\n",
    "                         \"-tc\", 50, \n",
    "                         \"-l\" , \"h_vmem=16G\",\n",
    "                         \"-pe\", \"smp\", 4,\n",
    "                         \"-o\" , paste(getwd(), \"pipeline/beagle/logs.out\", sep = \"/\"),\n",
    "                         \"-e\" , paste(getwd(), \"pipeline/beagle/logs.err\", sep = \"/\"),\n",
    "                         sh_file\n",
    "                        )\n",
    "    \n",
    "    message(qsub_command)\n",
    "    if(qsub == TRUE){system(qsub_command)}\n",
    "}\n",
    "\n",
    "run_hla_typing_qsub(bins, TRUE)\n"
   ]
  },
  {
   "cell_type": "code",
   "execution_count": 158,
   "metadata": {},
   "outputs": [
    {
     "data": {
      "text/html": [
       "'/frazer01/projects/CEGS/analysis/hla_type_1kgp/pipeline/hla_typing/vcf/phased.vcf.gz'"
      ],
      "text/latex": [
       "'/frazer01/projects/CEGS/analysis/hla\\_type\\_1kgp/pipeline/hla\\_typing/vcf/phased.vcf.gz'"
      ],
      "text/markdown": [
       "'/frazer01/projects/CEGS/analysis/hla_type_1kgp/pipeline/hla_typing/vcf/phased.vcf.gz'"
      ],
      "text/plain": [
       "[1] \"/frazer01/projects/CEGS/analysis/hla_type_1kgp/pipeline/hla_typing/vcf/phased.vcf.gz\""
      ]
     },
     "metadata": {},
     "output_type": "display_data"
    }
   ],
   "source": [
    "vcf_phased"
   ]
  },
  {
   "cell_type": "markdown",
   "metadata": {},
   "source": [
    "# Once imputation is done, combine into one single VCF file"
   ]
  },
  {
   "cell_type": "code",
   "execution_count": 223,
   "metadata": {},
   "outputs": [],
   "source": [
    "vcf_file_list = paste0(getwd(), \"/pipeline/beagle/processing/bin\", bins, \"/imputed_hla.vcf.gz\")\n",
    "vcf_file_list = vcf_file_list[ file.exists(vcf_file_list)]\n",
    "vcf_file      = paste (getwd(),  \"pipeline/beagle/ukbb/vcf_files.txt\", sep = \"/\")\n",
    "\n",
    "writeLines(vcf_file_list, vcf_file, sep = \"\\n\")"
   ]
  },
  {
   "cell_type": "code",
   "execution_count": 224,
   "metadata": {},
   "outputs": [],
   "source": [
    "merged_vcf = paste (getwd(),  \"pipeline/beagle/ukbb/imputed.vcf.gz\", sep = \"/\")\n",
    "command    = paste(\"bcftools\", \"merge\",\n",
    "                   \"-l\" , vcf_file,\n",
    "                   \"-Oz\",\n",
    "                   \"-o\" , merged_vcf\n",
    "                  )\n",
    "\n",
    "system(command)\n",
    "\n",
    "command = paste(\"bcftools\", \"index\", \"-t\", merged_vcf)\n",
    "\n",
    "system(command)\n"
   ]
  },
  {
   "cell_type": "markdown",
   "metadata": {},
   "source": [
    "## then create pgen"
   ]
  },
  {
   "cell_type": "code",
   "execution_count": 225,
   "metadata": {},
   "outputs": [],
   "source": [
    "prefix  = paste(getwd(), \"pipeline/beagle/ukbb/imputed\", sep = \"/\")\n",
    "command = paste(\"plink2_64\",\n",
    "                \"--vcf\", merged_vcf,\n",
    "                \"--make-pgen\",\n",
    "                \"--sort-vars\",\n",
    "                \"--out\", prefix\n",
    "               )\n",
    "\n",
    "#system(command)"
   ]
  },
  {
   "cell_type": "code",
   "execution_count": 226,
   "metadata": {},
   "outputs": [
    {
     "name": "stderr",
     "output_type": "stream",
     "text": [
      "plink2_64 --vcf /frazer01/projects/CEGS/analysis/hla_type_1kgp/pipeline/beagle/ukbb/imputed.vcf.gz --make-bed --out /frazer01/projects/CEGS/analysis/hla_type_1kgp/pipeline/beagle/ukbb/imputed\n",
      "\n"
     ]
    }
   ],
   "source": [
    "prefix  = paste(getwd(), \"pipeline/beagle/ukbb/imputed\", sep = \"/\")\n",
    "command = paste(\"plink2_64\",\n",
    "                \"--vcf\", merged_vcf,\n",
    "                \"--make-bed\",\n",
    "                \"--out\", prefix\n",
    "               )\n",
    "\n",
    "message(command)"
   ]
  },
  {
   "cell_type": "markdown",
   "metadata": {},
   "source": [
    "# Do some tests on HLA typing"
   ]
  },
  {
   "cell_type": "code",
   "execution_count": 227,
   "metadata": {},
   "outputs": [],
   "source": [
    "ids_test        = ukbb2bin[ ukbb2bin$bin == 1, \"id\"]\n",
    "ids_test        = paste(ids_test, ids_test, sep = \"_\")\n",
    "vcf_imputed_hla = vcf_file_list[[1]]\n",
    "command         = paste(\"bcftools\", \"query\",\n",
    "                        \"-H\",\n",
    "                        #\"-s\", paste(ids_test, collapse = \",\"),\n",
    "                        \"-f\", \"'%ID\\\\t%AF[\\\\t%DS]\\\\n'\",\n",
    "                        vcf_imputed_hla\n",
    "                       )\n",
    "\n",
    "hla_imputed           = fread(cmd = command, sep = \"\\t\", header = TRUE, data.table = FALSE)\n",
    "colnames(hla_imputed) = sub(\":DS\", \"\", unlist(lapply(colnames(hla_imputed), function(x){unlist(strsplit(x, \"]\"))[[2]]})))\n",
    "hla_imputed           = hla_imputed[,c(\"ID\", \"AF\", ids_test)]\n",
    "colnames(hla_imputed) = c(\"hla_type\", \"af\", ids_test)\n",
    "rownames(hla_imputed) = hla_imputed$hla_type\n"
   ]
  },
  {
   "cell_type": "code",
   "execution_count": 228,
   "metadata": {},
   "outputs": [],
   "source": [
    "gene2hla = data.frame(hla_type = hla_imputed$hla_type, gene = unlist(lapply(hla_imputed$hla_type, function(x){unlist(strsplit(x, \"\\\\.\"))[[1]]})))"
   ]
  },
  {
   "cell_type": "code",
   "execution_count": 229,
   "metadata": {},
   "outputs": [],
   "source": [
    "gene2gt = as.data.frame(rbindlist(lapply(geneinfo$gene, function(gene)\n",
    "{\n",
    "    indata = colSums(hla_imputed[ hla_imputed$hla_type %in% gene2hla[ gene2hla$gene == gene, \"hla_type\"], ids_test])\n",
    "    out    = data.frame(gene = gene, \n",
    "                        gt0  = length(indata[ indata == 0]) / length(ids_test),\n",
    "                        gt1  = length(indata[ indata == 1]) / length(ids_test),\n",
    "                        gt2  = length(indata[ indata == 2]) / length(ids_test),\n",
    "                        gt3  = length(indata[ indata >= 3]) / length(ids_test)\n",
    "                       )\n",
    "    \n",
    "    return(out)\n",
    "})), stringsAsFactors = FALSE)\n"
   ]
  },
  {
   "cell_type": "code",
   "execution_count": 230,
   "metadata": {},
   "outputs": [
    {
     "data": {
      "image/png": "[encoded data removed]",
      "text/plain": [
       "plot without title"
      ]
     },
     "metadata": {
      "image/png": {
       "height": 540,
       "width": 360
      },
      "text/plain": {
       "height": 540,
       "width": 360
      }
     },
     "output_type": "display_data"
    }
   ],
   "source": [
    "psize(6, 9)\n",
    "barplot(gene2gt$gt2 * 100, names.arg = gene2gt$gene, horiz = TRUE, las = 1)\n",
    "abline(v = 80, lty = \"dashed\", col = \"#0000ff\", lwd = 2)"
   ]
  },
  {
   "cell_type": "code",
   "execution_count": 231,
   "metadata": {},
   "outputs": [
    {
     "data": {
      "text/html": [
       "<style>\n",
       ".list-inline {list-style: none; margin:0; padding: 0}\n",
       ".list-inline>li {display: inline-block}\n",
       ".list-inline>li:not(:last-child)::after {content: \"\\00b7\"; padding: 0 .5ex}\n",
       "</style>\n",
       "<ol class=list-inline><li>'A'</li><li>'C'</li><li>'B'</li><li>'DRB3'</li><li>'DRB5'</li><li>'DRB1'</li><li>'DPB1'</li></ol>\n"
      ],
      "text/latex": [
       "\\begin{enumerate*}\n",
       "\\item 'A'\n",
       "\\item 'C'\n",
       "\\item 'B'\n",
       "\\item 'DRB3'\n",
       "\\item 'DRB5'\n",
       "\\item 'DRB1'\n",
       "\\item 'DPB1'\n",
       "\\end{enumerate*}\n"
      ],
      "text/markdown": [
       "1. 'A'\n",
       "2. 'C'\n",
       "3. 'B'\n",
       "4. 'DRB3'\n",
       "5. 'DRB5'\n",
       "6. 'DRB1'\n",
       "7. 'DPB1'\n",
       "\n",
       "\n"
      ],
      "text/plain": [
       "[1] \"A\"    \"C\"    \"B\"    \"DRB3\" \"DRB5\" \"DRB1\" \"DPB1\""
      ]
     },
     "metadata": {},
     "output_type": "display_data"
    },
    {
     "data": {
      "text/html": [
       "<style>\n",
       ".list-inline {list-style: none; margin:0; padding: 0}\n",
       ".list-inline>li {display: inline-block}\n",
       ".list-inline>li:not(:last-child)::after {content: \"\\00b7\"; padding: 0 .5ex}\n",
       "</style>\n",
       "<ol class=list-inline><li>'MICB'</li><li>'DQB1'</li><li>'TAP2'</li></ol>\n"
      ],
      "text/latex": [
       "\\begin{enumerate*}\n",
       "\\item 'MICB'\n",
       "\\item 'DQB1'\n",
       "\\item 'TAP2'\n",
       "\\end{enumerate*}\n"
      ],
      "text/markdown": [
       "1. 'MICB'\n",
       "2. 'DQB1'\n",
       "3. 'TAP2'\n",
       "\n",
       "\n"
      ],
      "text/plain": [
       "[1] \"MICB\" \"DQB1\" \"TAP2\""
      ]
     },
     "metadata": {},
     "output_type": "display_data"
    }
   ],
   "source": [
    "gene2gt[ gene2gt$gt2 < 0.8, \"gene\"]\n",
    "gene2gt[ gene2gt$gt2 < 0.9 & gene2gt$gt2 > 0.8, \"gene\"]\n"
   ]
  },
  {
   "cell_type": "code",
   "execution_count": 232,
   "metadata": {},
   "outputs": [
    {
     "data": {
      "text/html": [
       "<table class=\"dataframe\">\n",
       "<caption>A data.frame: 39 × 5</caption>\n",
       "<thead>\n",
       "\t<tr><th scope=col>gene</th><th scope=col>gt0</th><th scope=col>gt1</th><th scope=col>gt2</th><th scope=col>gt3</th></tr>\n",
       "\t<tr><th scope=col>&lt;chr&gt;</th><th scope=col>&lt;dbl&gt;</th><th scope=col>&lt;dbl&gt;</th><th scope=col>&lt;dbl&gt;</th><th scope=col>&lt;dbl&gt;</th></tr>\n",
       "</thead>\n",
       "<tbody>\n",
       "\t<tr><td>HFE </td><td>0.0000</td><td>0.0049</td><td>0.9940</td><td>0.0011</td></tr>\n",
       "\t<tr><td>F   </td><td>0.0000</td><td>0.0045</td><td>0.9946</td><td>0.0009</td></tr>\n",
       "\t<tr><td>V   </td><td>0.0000</td><td>0.0000</td><td>1.0000</td><td>0.0000</td></tr>\n",
       "\t<tr><td>P   </td><td>0.0001</td><td>0.0078</td><td>0.9921</td><td>0.0000</td></tr>\n",
       "\t<tr><td>G   </td><td>0.0006</td><td>0.0591</td><td>0.9401</td><td>0.0002</td></tr>\n",
       "\t<tr><td>H   </td><td>0.0005</td><td>0.0284</td><td>0.9703</td><td>0.0008</td></tr>\n",
       "\t<tr><td>T   </td><td>0.0003</td><td>0.0208</td><td>0.9789</td><td>0.0000</td></tr>\n",
       "\t<tr><td>K   </td><td>0.0001</td><td>0.0240</td><td>0.9756</td><td>0.0003</td></tr>\n",
       "\t<tr><td>U   </td><td>0.0001</td><td>0.0157</td><td>0.9841</td><td>0.0001</td></tr>\n",
       "\t<tr><td>A   </td><td>0.0740</td><td>0.3010</td><td>0.3936</td><td>0.2314</td></tr>\n",
       "\t<tr><td>Y   </td><td>0.0000</td><td>0.0002</td><td>0.9998</td><td>0.0000</td></tr>\n",
       "\t<tr><td>W   </td><td>0.0002</td><td>0.0372</td><td>0.9626</td><td>0.0000</td></tr>\n",
       "\t<tr><td>J   </td><td>0.0000</td><td>0.0019</td><td>0.9980</td><td>0.0001</td></tr>\n",
       "\t<tr><td>L   </td><td>0.0000</td><td>0.0007</td><td>0.9993</td><td>0.0000</td></tr>\n",
       "\t<tr><td>N   </td><td>0.0001</td><td>0.0063</td><td>0.9925</td><td>0.0011</td></tr>\n",
       "\t<tr><td>E   </td><td>0.0000</td><td>0.0244</td><td>0.9735</td><td>0.0021</td></tr>\n",
       "\t<tr><td>C   </td><td>0.0882</td><td>0.3602</td><td>0.4233</td><td>0.1283</td></tr>\n",
       "\t<tr><td>B   </td><td>0.0157</td><td>0.2060</td><td>0.6918</td><td>0.0865</td></tr>\n",
       "\t<tr><td>S   </td><td>0.0000</td><td>0.0172</td><td>0.9827</td><td>0.0001</td></tr>\n",
       "\t<tr><td>MICA</td><td>0.0005</td><td>0.0343</td><td>0.9602</td><td>0.0050</td></tr>\n",
       "\t<tr><td>MICB</td><td>0.0025</td><td>0.0731</td><td>0.8809</td><td>0.0435</td></tr>\n",
       "\t<tr><td>DRA </td><td>0.0000</td><td>0.0122</td><td>0.9877</td><td>0.0001</td></tr>\n",
       "\t<tr><td>DRB3</td><td>0.0147</td><td>0.2261</td><td>0.7491</td><td>0.0101</td></tr>\n",
       "\t<tr><td>DRB5</td><td>0.0119</td><td>0.1832</td><td>0.7717</td><td>0.0332</td></tr>\n",
       "\t<tr><td>DRB1</td><td>0.0941</td><td>0.2768</td><td>0.3460</td><td>0.2831</td></tr>\n",
       "\t<tr><td>DRB4</td><td>0.0016</td><td>0.0727</td><td>0.9214</td><td>0.0043</td></tr>\n",
       "\t<tr><td>DQA1</td><td>0.0000</td><td>0.0235</td><td>0.9623</td><td>0.0142</td></tr>\n",
       "\t<tr><td>DQB1</td><td>0.0090</td><td>0.1597</td><td>0.8154</td><td>0.0159</td></tr>\n",
       "\t<tr><td>DQA2</td><td>0.0003</td><td>0.0344</td><td>0.9626</td><td>0.0027</td></tr>\n",
       "\t<tr><td>DOB </td><td>0.0000</td><td>0.0110</td><td>0.9890</td><td>0.0000</td></tr>\n",
       "\t<tr><td>TAP2</td><td>0.0062</td><td>0.1382</td><td>0.8536</td><td>0.0020</td></tr>\n",
       "\t<tr><td>TAP1</td><td>0.0005</td><td>0.0395</td><td>0.9596</td><td>0.0004</td></tr>\n",
       "\t<tr><td>DMB </td><td>0.0008</td><td>0.0584</td><td>0.9408</td><td>0.0000</td></tr>\n",
       "\t<tr><td>DMA </td><td>0.0009</td><td>0.0435</td><td>0.9512</td><td>0.0044</td></tr>\n",
       "\t<tr><td>DOA </td><td>0.0028</td><td>0.0947</td><td>0.9025</td><td>0.0000</td></tr>\n",
       "\t<tr><td>DPA1</td><td>0.0002</td><td>0.0101</td><td>0.9892</td><td>0.0005</td></tr>\n",
       "\t<tr><td>DPB1</td><td>0.0258</td><td>0.2536</td><td>0.6699</td><td>0.0507</td></tr>\n",
       "\t<tr><td>DPA2</td><td>0.0000</td><td>0.0004</td><td>0.9996</td><td>0.0000</td></tr>\n",
       "\t<tr><td>DPB2</td><td>0.0001</td><td>0.0244</td><td>0.9752</td><td>0.0003</td></tr>\n",
       "</tbody>\n",
       "</table>\n"
      ],
      "text/latex": [
       "A data.frame: 39 × 5\n",
       "\\begin{tabular}{lllll}\n",
       " gene & gt0 & gt1 & gt2 & gt3\\\\\n",
       " <chr> & <dbl> & <dbl> & <dbl> & <dbl>\\\\\n",
       "\\hline\n",
       "\t HFE  & 0.0000 & 0.0049 & 0.9940 & 0.0011\\\\\n",
       "\t F    & 0.0000 & 0.0045 & 0.9946 & 0.0009\\\\\n",
       "\t V    & 0.0000 & 0.0000 & 1.0000 & 0.0000\\\\\n",
       "\t P    & 0.0001 & 0.0078 & 0.9921 & 0.0000\\\\\n",
       "\t G    & 0.0006 & 0.0591 & 0.9401 & 0.0002\\\\\n",
       "\t H    & 0.0005 & 0.0284 & 0.9703 & 0.0008\\\\\n",
       "\t T    & 0.0003 & 0.0208 & 0.9789 & 0.0000\\\\\n",
       "\t K    & 0.0001 & 0.0240 & 0.9756 & 0.0003\\\\\n",
       "\t U    & 0.0001 & 0.0157 & 0.9841 & 0.0001\\\\\n",
       "\t A    & 0.0740 & 0.3010 & 0.3936 & 0.2314\\\\\n",
       "\t Y    & 0.0000 & 0.0002 & 0.9998 & 0.0000\\\\\n",
       "\t W    & 0.0002 & 0.0372 & 0.9626 & 0.0000\\\\\n",
       "\t J    & 0.0000 & 0.0019 & 0.9980 & 0.0001\\\\\n",
       "\t L    & 0.0000 & 0.0007 & 0.9993 & 0.0000\\\\\n",
       "\t N    & 0.0001 & 0.0063 & 0.9925 & 0.0011\\\\\n",
       "\t E    & 0.0000 & 0.0244 & 0.9735 & 0.0021\\\\\n",
       "\t C    & 0.0882 & 0.3602 & 0.4233 & 0.1283\\\\\n",
       "\t B    & 0.0157 & 0.2060 & 0.6918 & 0.0865\\\\\n",
       "\t S    & 0.0000 & 0.0172 & 0.9827 & 0.0001\\\\\n",
       "\t MICA & 0.0005 & 0.0343 & 0.9602 & 0.0050\\\\\n",
       "\t MICB & 0.0025 & 0.0731 & 0.8809 & 0.0435\\\\\n",
       "\t DRA  & 0.0000 & 0.0122 & 0.9877 & 0.0001\\\\\n",
       "\t DRB3 & 0.0147 & 0.2261 & 0.7491 & 0.0101\\\\\n",
       "\t DRB5 & 0.0119 & 0.1832 & 0.7717 & 0.0332\\\\\n",
       "\t DRB1 & 0.0941 & 0.2768 & 0.3460 & 0.2831\\\\\n",
       "\t DRB4 & 0.0016 & 0.0727 & 0.9214 & 0.0043\\\\\n",
       "\t DQA1 & 0.0000 & 0.0235 & 0.9623 & 0.0142\\\\\n",
       "\t DQB1 & 0.0090 & 0.1597 & 0.8154 & 0.0159\\\\\n",
       "\t DQA2 & 0.0003 & 0.0344 & 0.9626 & 0.0027\\\\\n",
       "\t DOB  & 0.0000 & 0.0110 & 0.9890 & 0.0000\\\\\n",
       "\t TAP2 & 0.0062 & 0.1382 & 0.8536 & 0.0020\\\\\n",
       "\t TAP1 & 0.0005 & 0.0395 & 0.9596 & 0.0004\\\\\n",
       "\t DMB  & 0.0008 & 0.0584 & 0.9408 & 0.0000\\\\\n",
       "\t DMA  & 0.0009 & 0.0435 & 0.9512 & 0.0044\\\\\n",
       "\t DOA  & 0.0028 & 0.0947 & 0.9025 & 0.0000\\\\\n",
       "\t DPA1 & 0.0002 & 0.0101 & 0.9892 & 0.0005\\\\\n",
       "\t DPB1 & 0.0258 & 0.2536 & 0.6699 & 0.0507\\\\\n",
       "\t DPA2 & 0.0000 & 0.0004 & 0.9996 & 0.0000\\\\\n",
       "\t DPB2 & 0.0001 & 0.0244 & 0.9752 & 0.0003\\\\\n",
       "\\end{tabular}\n"
      ],
      "text/markdown": [
       "\n",
       "A data.frame: 39 × 5\n",
       "\n",
       "| gene &lt;chr&gt; | gt0 &lt;dbl&gt; | gt1 &lt;dbl&gt; | gt2 &lt;dbl&gt; | gt3 &lt;dbl&gt; |\n",
       "|---|---|---|---|---|\n",
       "| HFE  | 0.0000 | 0.0049 | 0.9940 | 0.0011 |\n",
       "| F    | 0.0000 | 0.0045 | 0.9946 | 0.0009 |\n",
       "| V    | 0.0000 | 0.0000 | 1.0000 | 0.0000 |\n",
       "| P    | 0.0001 | 0.0078 | 0.9921 | 0.0000 |\n",
       "| G    | 0.0006 | 0.0591 | 0.9401 | 0.0002 |\n",
       "| H    | 0.0005 | 0.0284 | 0.9703 | 0.0008 |\n",
       "| T    | 0.0003 | 0.0208 | 0.9789 | 0.0000 |\n",
       "| K    | 0.0001 | 0.0240 | 0.9756 | 0.0003 |\n",
       "| U    | 0.0001 | 0.0157 | 0.9841 | 0.0001 |\n",
       "| A    | 0.0740 | 0.3010 | 0.3936 | 0.2314 |\n",
       "| Y    | 0.0000 | 0.0002 | 0.9998 | 0.0000 |\n",
       "| W    | 0.0002 | 0.0372 | 0.9626 | 0.0000 |\n",
       "| J    | 0.0000 | 0.0019 | 0.9980 | 0.0001 |\n",
       "| L    | 0.0000 | 0.0007 | 0.9993 | 0.0000 |\n",
       "| N    | 0.0001 | 0.0063 | 0.9925 | 0.0011 |\n",
       "| E    | 0.0000 | 0.0244 | 0.9735 | 0.0021 |\n",
       "| C    | 0.0882 | 0.3602 | 0.4233 | 0.1283 |\n",
       "| B    | 0.0157 | 0.2060 | 0.6918 | 0.0865 |\n",
       "| S    | 0.0000 | 0.0172 | 0.9827 | 0.0001 |\n",
       "| MICA | 0.0005 | 0.0343 | 0.9602 | 0.0050 |\n",
       "| MICB | 0.0025 | 0.0731 | 0.8809 | 0.0435 |\n",
       "| DRA  | 0.0000 | 0.0122 | 0.9877 | 0.0001 |\n",
       "| DRB3 | 0.0147 | 0.2261 | 0.7491 | 0.0101 |\n",
       "| DRB5 | 0.0119 | 0.1832 | 0.7717 | 0.0332 |\n",
       "| DRB1 | 0.0941 | 0.2768 | 0.3460 | 0.2831 |\n",
       "| DRB4 | 0.0016 | 0.0727 | 0.9214 | 0.0043 |\n",
       "| DQA1 | 0.0000 | 0.0235 | 0.9623 | 0.0142 |\n",
       "| DQB1 | 0.0090 | 0.1597 | 0.8154 | 0.0159 |\n",
       "| DQA2 | 0.0003 | 0.0344 | 0.9626 | 0.0027 |\n",
       "| DOB  | 0.0000 | 0.0110 | 0.9890 | 0.0000 |\n",
       "| TAP2 | 0.0062 | 0.1382 | 0.8536 | 0.0020 |\n",
       "| TAP1 | 0.0005 | 0.0395 | 0.9596 | 0.0004 |\n",
       "| DMB  | 0.0008 | 0.0584 | 0.9408 | 0.0000 |\n",
       "| DMA  | 0.0009 | 0.0435 | 0.9512 | 0.0044 |\n",
       "| DOA  | 0.0028 | 0.0947 | 0.9025 | 0.0000 |\n",
       "| DPA1 | 0.0002 | 0.0101 | 0.9892 | 0.0005 |\n",
       "| DPB1 | 0.0258 | 0.2536 | 0.6699 | 0.0507 |\n",
       "| DPA2 | 0.0000 | 0.0004 | 0.9996 | 0.0000 |\n",
       "| DPB2 | 0.0001 | 0.0244 | 0.9752 | 0.0003 |\n",
       "\n"
      ],
      "text/plain": [
       "   gene gt0    gt1    gt2    gt3   \n",
       "1  HFE  0.0000 0.0049 0.9940 0.0011\n",
       "2  F    0.0000 0.0045 0.9946 0.0009\n",
       "3  V    0.0000 0.0000 1.0000 0.0000\n",
       "4  P    0.0001 0.0078 0.9921 0.0000\n",
       "5  G    0.0006 0.0591 0.9401 0.0002\n",
       "6  H    0.0005 0.0284 0.9703 0.0008\n",
       "7  T    0.0003 0.0208 0.9789 0.0000\n",
       "8  K    0.0001 0.0240 0.9756 0.0003\n",
       "9  U    0.0001 0.0157 0.9841 0.0001\n",
       "10 A    0.0740 0.3010 0.3936 0.2314\n",
       "11 Y    0.0000 0.0002 0.9998 0.0000\n",
       "12 W    0.0002 0.0372 0.9626 0.0000\n",
       "13 J    0.0000 0.0019 0.9980 0.0001\n",
       "14 L    0.0000 0.0007 0.9993 0.0000\n",
       "15 N    0.0001 0.0063 0.9925 0.0011\n",
       "16 E    0.0000 0.0244 0.9735 0.0021\n",
       "17 C    0.0882 0.3602 0.4233 0.1283\n",
       "18 B    0.0157 0.2060 0.6918 0.0865\n",
       "19 S    0.0000 0.0172 0.9827 0.0001\n",
       "20 MICA 0.0005 0.0343 0.9602 0.0050\n",
       "21 MICB 0.0025 0.0731 0.8809 0.0435\n",
       "22 DRA  0.0000 0.0122 0.9877 0.0001\n",
       "23 DRB3 0.0147 0.2261 0.7491 0.0101\n",
       "24 DRB5 0.0119 0.1832 0.7717 0.0332\n",
       "25 DRB1 0.0941 0.2768 0.3460 0.2831\n",
       "26 DRB4 0.0016 0.0727 0.9214 0.0043\n",
       "27 DQA1 0.0000 0.0235 0.9623 0.0142\n",
       "28 DQB1 0.0090 0.1597 0.8154 0.0159\n",
       "29 DQA2 0.0003 0.0344 0.9626 0.0027\n",
       "30 DOB  0.0000 0.0110 0.9890 0.0000\n",
       "31 TAP2 0.0062 0.1382 0.8536 0.0020\n",
       "32 TAP1 0.0005 0.0395 0.9596 0.0004\n",
       "33 DMB  0.0008 0.0584 0.9408 0.0000\n",
       "34 DMA  0.0009 0.0435 0.9512 0.0044\n",
       "35 DOA  0.0028 0.0947 0.9025 0.0000\n",
       "36 DPA1 0.0002 0.0101 0.9892 0.0005\n",
       "37 DPB1 0.0258 0.2536 0.6699 0.0507\n",
       "38 DPA2 0.0000 0.0004 0.9996 0.0000\n",
       "39 DPB2 0.0001 0.0244 0.9752 0.0003"
      ]
     },
     "metadata": {},
     "output_type": "display_data"
    }
   ],
   "source": [
    "gene2gt"
   ]
  },
  {
   "cell_type": "code",
   "execution_count": 233,
   "metadata": {},
   "outputs": [
    {
     "data": {
      "image/png": "[encoded data removed]",
      "text/plain": [
       "Plot with title “Histogram of colSums(hla_imputed[, ids_test])”"
      ]
     },
     "metadata": {
      "image/png": {
       "height": 540,
       "width": 360
      },
      "text/plain": {
       "height": 540,
       "width": 360
      }
     },
     "output_type": "display_data"
    }
   ],
   "source": [
    "hist(colSums(hla_imputed[, ids_test]))"
   ]
  },
  {
   "cell_type": "code",
   "execution_count": 143,
   "metadata": {},
   "outputs": [
    {
     "name": "stdout",
     "output_type": "stream",
     "text": [
      "'data.frame':\t2650 obs. of  10002 variables:\n",
      " $ ID             : chr  \"HFE.001:01:02\" \"HFE.001:01:01\" \"HFE.001:01:03\" \"F.01:01:01:09\" ...\n",
      " $ AF             : num  0.6105 0.3377 0.0564 0.1789 0.0609 ...\n",
      " $ 2497795_2497795: int  2 0 0 0 0 0 0 0 0 0 ...\n",
      " $ 2143467_2143467: int  2 0 0 0 0 0 0 0 0 0 ...\n",
      " $ 1288463_1288463: int  2 0 0 0 0 0 0 0 0 0 ...\n",
      " $ 2632032_2632032: int  2 0 0 0 0 0 0 0 0 0 ...\n",
      " $ 3667876_3667876: int  2 0 0 0 0 0 0 0 0 0 ...\n",
      " $ 3834788_3834788: int  2 0 0 0 0 0 0 0 0 0 ...\n",
      " $ 5659070_5659070: int  2 0 0 0 0 0 0 0 0 0 ...\n",
      " $ 3154457_3154457: int  2 0 0 0 0 0 0 0 0 0 ...\n",
      " $ 5713647_5713647: int  1 0 0 0 0 0 0 0 0 0 ...\n",
      " $ 2548437_2548437: int  2 0 0 0 0 0 0 0 0 0 ...\n",
      " $ 1218644_1218644: int  2 0 0 0 0 0 0 0 0 0 ...\n",
      " $ 3505384_3505384: int  2 0 0 0 0 0 0 0 0 0 ...\n",
      " $ 1228265_1228265: int  2 0 0 0 0 0 0 0 0 0 ...\n",
      " $ 3576974_3576974: int  2 0 0 0 0 0 0 0 0 0 ...\n",
      " $ 1028083_1028083: int  2 0 0 0 0 0 0 0 0 0 ...\n",
      " $ 5469668_5469668: int  2 0 0 0 0 0 0 0 0 0 ...\n",
      " $ 5619499_5619499: int  2 0 0 0 0 0 0 0 0 0 ...\n",
      " $ 4086019_4086019: int  2 0 0 0 0 0 0 0 0 0 ...\n",
      " $ 2324555_2324555: int  2 0 0 0 0 0 0 0 0 0 ...\n",
      " $ 4842484_4842484: int  2 0 0 0 0 0 0 0 0 0 ...\n",
      " $ 3494746_3494746: int  2 0 0 0 0 0 0 0 0 0 ...\n",
      " $ 2489181_2489181: int  2 0 0 0 0 0 0 0 0 0 ...\n",
      " $ 5394577_5394577: int  2 0 0 0 0 0 0 0 0 0 ...\n",
      " $ 3154588_3154588: int  2 0 0 0 0 0 0 0 0 0 ...\n",
      " $ 5400768_5400768: int  2 0 0 1 0 0 0 0 0 0 ...\n",
      " $ 2264598_2264598: int  2 0 0 0 0 0 0 0 0 0 ...\n",
      " $ 4146429_4146429: int  2 0 0 0 0 0 0 0 0 0 ...\n",
      " $ 4961028_4961028: int  2 0 0 0 0 0 0 0 0 0 ...\n",
      " $ 3733785_3733785: int  2 0 0 0 0 0 0 0 0 0 ...\n",
      " $ 3058191_3058191: int  2 0 0 0 0 0 0 0 0 0 ...\n",
      " $ 4880219_4880219: int  2 0 0 0 0 0 0 0 0 0 ...\n",
      " $ 1526047_1526047: int  2 0 0 0 0 0 0 0 0 0 ...\n",
      " $ 5796279_5796279: int  2 0 0 0 0 0 0 0 0 0 ...\n",
      " $ 4985420_4985420: int  2 0 0 0 0 0 0 0 0 0 ...\n",
      " $ 4674995_4674995: int  2 0 0 0 0 0 0 0 0 0 ...\n",
      " $ 1945975_1945975: int  1 0 0 0 0 0 0 0 0 0 ...\n",
      " $ 3201199_3201199: int  2 0 0 0 0 0 0 0 0 0 ...\n",
      " $ 5573574_5573574: int  2 0 0 0 0 0 0 0 0 0 ...\n",
      " $ 5473674_5473674: int  2 0 0 0 0 0 0 0 0 0 ...\n",
      " $ 3757549_3757549: int  2 0 0 0 0 0 0 0 0 0 ...\n",
      " $ 3770300_3770300: int  2 0 0 0 0 0 0 0 0 0 ...\n",
      " $ 1745882_1745882: int  2 0 0 0 0 0 0 0 0 0 ...\n",
      " $ 5861790_5861790: int  2 0 0 0 0 0 0 0 0 0 ...\n",
      " $ 2106726_2106726: int  2 0 0 0 0 0 0 0 0 0 ...\n",
      " $ 3260077_3260077: int  2 0 0 0 0 0 0 0 0 0 ...\n",
      " $ 5082218_5082218: int  2 0 0 0 0 0 0 0 0 0 ...\n",
      " $ 1392458_1392458: int  2 0 0 0 0 0 0 0 0 0 ...\n",
      " $ 5211834_5211834: int  2 0 0 0 0 0 0 0 0 0 ...\n",
      " $ 5961894_5961894: int  2 0 0 0 0 0 0 0 0 0 ...\n",
      " $ 5573098_5573098: int  2 0 0 0 0 0 0 0 0 0 ...\n",
      " $ 2038707_2038707: int  2 0 0 0 0 0 0 0 0 0 ...\n",
      " $ 5498684_5498684: int  2 0 0 0 0 0 0 0 0 0 ...\n",
      " $ 4158834_4158834: int  1 0 0 0 0 0 0 0 0 0 ...\n",
      " $ 3682198_3682198: int  1 0 0 0 0 0 0 0 0 0 ...\n",
      " $ 3178231_3178231: int  2 0 0 0 0 0 0 0 0 0 ...\n",
      " $ 1311410_1311410: int  2 0 0 0 0 0 0 0 0 0 ...\n",
      " $ 2694889_2694889: int  2 0 0 0 0 0 0 0 0 0 ...\n",
      " $ 4463844_4463844: int  2 0 0 0 0 0 0 0 0 0 ...\n",
      " $ 4821710_4821710: int  2 0 0 0 0 0 0 0 0 0 ...\n",
      " $ 5253691_5253691: int  2 0 0 0 0 0 0 0 0 0 ...\n",
      " $ 2675492_2675492: int  2 0 0 0 0 0 0 0 0 0 ...\n",
      " $ 4514200_4514200: int  2 0 0 0 0 0 0 0 0 0 ...\n",
      " $ 1331979_1331979: int  2 0 0 0 0 0 0 0 0 0 ...\n",
      " $ 2299130_2299130: int  2 0 0 0 0 0 0 0 0 0 ...\n",
      " $ 4660034_4660034: int  2 0 0 0 0 0 0 0 0 0 ...\n",
      " $ 1292041_1292041: int  2 0 0 0 0 0 0 0 0 0 ...\n",
      " $ 5424335_5424335: int  2 0 0 0 0 0 0 0 0 0 ...\n",
      " $ 2731574_2731574: int  2 0 0 0 0 0 0 0 0 0 ...\n",
      " $ 1567221_1567221: int  2 0 0 0 0 0 0 0 0 0 ...\n",
      " $ 2894031_2894031: int  2 0 0 0 0 0 0 0 0 0 ...\n",
      " $ 3715785_3715785: int  2 0 0 0 0 0 0 0 0 0 ...\n",
      " $ 1778058_1778058: int  2 0 0 0 0 0 0 0 0 0 ...\n",
      " $ 3612779_3612779: int  1 0 0 0 0 0 0 0 0 0 ...\n",
      " $ 2736736_2736736: int  2 0 0 0 0 0 0 0 0 0 ...\n",
      " $ 2244357_2244357: int  1 0 0 0 0 0 0 0 0 0 ...\n",
      " $ 2234082_2234082: int  2 0 0 0 0 0 0 0 0 0 ...\n",
      " $ 1733816_1733816: int  2 0 0 0 0 0 0 0 0 0 ...\n",
      " $ 2939413_2939413: int  1 0 0 0 0 0 0 0 0 0 ...\n",
      " $ 3525785_3525785: int  2 0 0 0 0 0 0 0 0 0 ...\n",
      " $ 2013162_2013162: int  2 0 0 0 0 0 0 0 0 0 ...\n",
      " $ 1209434_1209434: int  2 0 0 0 0 0 0 0 0 0 ...\n",
      " $ 4948764_4948764: int  1 0 0 0 0 0 0 0 0 0 ...\n",
      " $ 2130396_2130396: int  2 0 0 0 0 0 0 0 0 0 ...\n",
      " $ 4249332_4249332: int  2 0 0 0 0 0 0 0 0 0 ...\n",
      " $ 2638655_2638655: int  2 0 0 0 0 0 0 0 0 0 ...\n",
      " $ 1298285_1298285: int  1 0 0 0 0 0 0 0 0 0 ...\n",
      " $ 5451491_5451491: int  2 0 0 0 0 0 0 0 0 0 ...\n",
      " $ 2490900_2490900: int  2 0 0 0 0 0 0 0 0 0 ...\n",
      " $ 4478769_4478769: int  2 0 0 0 0 0 0 0 0 0 ...\n",
      " $ 4813686_4813686: int  2 0 0 0 0 0 0 0 0 0 ...\n",
      " $ 5041467_5041467: int  2 0 0 0 0 0 0 0 0 0 ...\n",
      " $ 2951568_2951568: int  2 0 0 0 0 0 0 0 0 0 ...\n",
      " $ 2861251_2861251: int  1 0 0 0 0 0 0 0 0 0 ...\n",
      " $ 3425058_3425058: int  2 0 0 0 0 0 0 0 0 0 ...\n",
      " $ 2030122_2030122: int  2 0 0 0 0 0 0 0 0 0 ...\n",
      " $ 2617505_2617505: int  2 0 0 0 0 0 0 0 0 0 ...\n",
      " $ 5759682_5759682: int  2 0 0 0 0 0 0 0 0 0 ...\n",
      "  [list output truncated]\n"
     ]
    }
   ],
   "source": [
    "str(hla_imputed)"
   ]
  },
  {
   "cell_type": "markdown",
   "metadata": {},
   "source": [
    "# SCRATCH"
   ]
  },
  {
   "cell_type": "code",
   "execution_count": 202,
   "metadata": {},
   "outputs": [],
   "source": [
    "bin=1"
   ]
  },
  {
   "cell_type": "code",
   "execution_count": 208,
   "metadata": {},
   "outputs": [
    {
     "name": "stderr",
     "output_type": "stream",
     "text": [
      "plink2_64 --pgen /frazer01/projects/CEGS/analysis/hla_type_1kgp/input/ukbb/snps.pgen --psam /frazer01/projects/CEGS/analysis/hla_type_1kgp/input/ukbb/snps.psam --pvar /frazer01/projects/CEGS/analysis/hla_type_1kgp/input/ukbb/snps.pvar --keep /frazer01/projects/CEGS/analysis/hla_type_1kgp/pipeline/beagle/processing/bin1/ids.txt --memory 16000 --threads 4 --export vcf bgz vcf-dosage=DS-force --maj-ref force --out /frazer01/projects/CEGS/analysis/hla_type_1kgp/pipeline/beagle/processing/bin1/snps_unphased\n",
      "\n",
      "AAAAAAAAAAAAAAAAAAAAAAAAA\n",
      "\n"
     ]
    },
    {
     "data": {
      "text/html": [
       "255"
      ],
      "text/latex": [
       "255"
      ],
      "text/markdown": [
       "255"
      ],
      "text/plain": [
       "[1] 255"
      ]
     },
     "metadata": {},
     "output_type": "display_data"
    }
   ],
   "source": [
    "filter_vcf_by_id = function(ids, vcf_in, vcf_out)\n",
    "{\n",
    "    command = paste(\"bcftools\", \"view\",\n",
    "                    \"-s\" , paste(ids, collapse = \",\"),\n",
    "                    \"-Oz\",\n",
    "                    \"-o\" , vcf_out,\n",
    "                    vcf_in)\n",
    "    \n",
    "    system(command)\n",
    "\n",
    "    command = paste(\"bcftools\", \"index\", \"-t\", vcf_out)\n",
    "\n",
    "    system(command)\n",
    "}\n",
    "\n",
    "command_convert_to_vcf = function(bin_file, outfolder, ukbb_pgen_prefix)\n",
    "{\n",
    "    vcf_unphased = paste(outfolder, \"snps_unphased\", sep = \"/\")\n",
    "    \n",
    "    command = paste(\"plink2_64\", \n",
    "                    \"--pgen\"      , paste(ukbb_pgen_prefix, \"pgen\", sep = \".\"),\n",
    "                    \"--psam\"      , paste(ukbb_pgen_prefix, \"psam\", sep = \".\"),\n",
    "                    \"--pvar\"      , paste(ukbb_pgen_prefix, \"pvar\", sep = \".\"),\n",
    "                    \"--keep\"      , bin_file ,\n",
    "                    \"--memory\"    , 16000,\n",
    "                    \"--threads\"   , 4,\n",
    "                    \"--export\"    , \"vcf\", \"bgz\", \"vcf-dosage=DS-force\",\n",
    "\t\t\t\t\t\"--maj-ref\"   , \"force\", \n",
    "\t\t\t\t\t#\"--ref-allele\", \"force\", vcf_snps, 4, 3, \"'#'\",\n",
    "                    \"--out\"   , vcf_unphased\n",
    "                   )\n",
    "    message(command)\n",
    "    system(command)\n",
    "    \n",
    "    vcf_unphased_gz = paste(vcf_unphased, \"vcf\", \"gz\", sep = \".\")\n",
    "    command         = paste(\"bcftools\", \"index\", \"-t\", vcf_unphased_gz)\n",
    "\n",
    "    system(command)\n",
    "\t\n",
    "\tvcf_phased = paste(outfolder, \"snps.vcf.gz\"                 , sep = \"/\")\n",
    "\tlog_phased = paste(outfolder, \"phased.log\"                  , sep = \"/\")\n",
    "\tfile_map   = paste(getwd()  , \"input/phase/chr6.b37.gmap.gz\", sep = \"/\")\n",
    "\tcommand    = paste(\"shapeit4\", \n",
    "\t\t\t\t\t   \"--input\" , vcf_unphased_gz, \n",
    "\t\t\t\t\t   \"--thread\", 16,\n",
    "\t\t\t\t\t   \"--map\"   , file_map  ,\n",
    "\t\t\t\t\t   \"--region\", coord     ,\n",
    "\t\t\t\t\t   \"--log\"   , log_phased,\n",
    "\t\t\t\t\t   \"--output\", vcf_phased,\n",
    "\t\t\t\t\t   \"\"\n",
    "\t\t\t\t\t  )\n",
    "\n",
    "\tsystem(command)\n",
    "\n",
    "\tcommand = paste(\"bcftools\", \"index\", \"-t\", vcf_phased)\n",
    "\n",
    "\tsystem(command)\n",
    "    \n",
    "    return(vcf_phased)\n",
    "}\n",
    "\n",
    "command_run_beagle = function(vcf_in, vcf_out, outfolder)\n",
    "{\n",
    "    map_file = \"/frazer01/software/beagle-5.4/plink.GRCh37.map/plink.chr6.GRCh37.map\"\n",
    "    out_file = paste(outfolder, \"imputed\", sep = \"/\")\n",
    "    command  = paste(\"/frazer01/software/jdk-16.0.1/bin/java\", \n",
    "                     #\"-Xss5m\", \n",
    "                     \"-Xmx32g\", \n",
    "                     \"-jar\", \"/frazer01/software/beagle-5.4/beagle.19Apr22.7c0.jar\", \n",
    "                     paste(\"gt\" , vcf_out   , sep = \"=\"),\n",
    "                     paste(\"ref\", vcf_in    , sep = \"=\"),\n",
    "                     paste(\"map\", map_file  , sep = \"=\"),\n",
    "                     paste(\"out\", out_file  , sep = \"=\"),\n",
    "                     \"nthreads=4\",\n",
    "                     \"ne=500000\",\n",
    "                     \"impute=true\",\n",
    "                     \"seed=-99999\",\n",
    "                     \"\")\n",
    "\n",
    "    system(command)\n",
    "\t\n",
    "\treturn(out_file)\n",
    "}\n",
    "\n",
    "command_extract_hla_convert = function(imputed_vcf, outfolder)\n",
    "{\n",
    "    out_file = paste(outfolder, \"imputed_hla\", sep = \"/\")\n",
    "    command  = paste(\"plink2_64\", \n",
    "                     \"--vcf\"    , paste(imputed_vcf, \"vcf.gz\", sep = \".\"),\n",
    "                     \"--extract\", hla_types_list_file,\n",
    "                     \"--memory\" , 16000,\n",
    "                     \"--threads\", 4,\n",
    "                     \"--export\" , \"vcf\", \"bgz\", \"--vcf-dosage=DS-force\",\n",
    "                     \"--out\"   , out_file\n",
    "                    )\n",
    "    \n",
    "    system(command)\n",
    "\t\n",
    "    command = paste(\"bcftools\", \"index\", \"-t\", paste(out_file, \"vcf\", \"gz\", sep = \".\"))\n",
    "\n",
    "    system(command)\n",
    "\n",
    "}\n",
    "\n",
    "impute = function(bin, ukbb2bin, ukbb_psam, ukbb_pgen_prefix)\n",
    "{\n",
    "    ids       = as.character(ukbb2bin[ ukbb2bin$bin == bin, \"id\"])\n",
    "    outfolder = paste(getwd(), \"pipeline/beagle/processing\", paste0(\"bin\", bin), sep = \"/\")\n",
    "    bin_file  = paste(outfolder, \"ids.txt\", sep = \"/\")\n",
    "    \n",
    "    dir.create(outfolder, showWarnings = FALSE)\n",
    "    \n",
    "    fwrite(ukbb_psam[ ukbb_psam[,1] %in% ids,], bin_file, sep = \"\\t\", col.names = TRUE, row.names = FALSE)\n",
    "    \n",
    "\tvcf_ukbb_vars = paste(getwd(), \"pipeline/beagle/ukbb_vars_in_1kgp\", \"ukbb_vars.vcf.gz\", sep = \"/\")\n",
    "    vcf           = command_convert_to_vcf     (bin_file     , outfolder, ukbb_pgen_prefix)\n",
    "    message(\"AAAAAAAAAAAAAAAAAAAAAAAAA\")\n",
    "    imputed_vcf   = command_run_beagle         (vcf_ukbb_vars, vcf, outfolder)\n",
    "    hla_out       = command_extract_hla_convert(imputed_vcf  , outfolder)\n",
    "    \n",
    "    return(hla_out)\n",
    "}\n",
    "\n",
    "ukbb2bin           = fread(\"pipeline/beagle/ukbb2bin.txt\", sep = \"\\t\", header = TRUE, data.table = FALSE)\n",
    "rownames(ukbb2bin) = ukbb2bin$id\n",
    "ukbb_psam          = fread(\"input/ukbb/snps.psam\", sep = \"\\t\", header = TRUE, data.table = FALSE)\n",
    "ukbb_pgen_prefix   = paste(getwd(), \"input/ukbb/snps\", sep = \"/\")\n",
    "\n",
    "impute(bin, ukbb2bin, ukbb_psam, ukbb_pgen_prefix)\n",
    "\n"
   ]
  },
  {
   "cell_type": "code",
   "execution_count": 77,
   "metadata": {},
   "outputs": [
    {
     "data": {
      "text/html": [
       "<table class=\"dataframe\">\n",
       "<caption>A data.frame: 487409 × 2</caption>\n",
       "<thead>\n",
       "\t<tr><th scope=col>id</th><th scope=col>bin</th></tr>\n",
       "\t<tr><th scope=col>&lt;int&gt;</th><th scope=col>&lt;dbl&gt;</th></tr>\n",
       "</thead>\n",
       "<tbody>\n",
       "\t<tr><td>2497795</td><td>1</td></tr>\n",
       "\t<tr><td>2143467</td><td>1</td></tr>\n",
       "\t<tr><td>1288463</td><td>1</td></tr>\n",
       "\t<tr><td>2632032</td><td>1</td></tr>\n",
       "\t<tr><td>3667876</td><td>1</td></tr>\n",
       "\t<tr><td>3834788</td><td>1</td></tr>\n",
       "\t<tr><td>5659070</td><td>1</td></tr>\n",
       "\t<tr><td>3154457</td><td>1</td></tr>\n",
       "\t<tr><td>5713647</td><td>1</td></tr>\n",
       "\t<tr><td>2548437</td><td>1</td></tr>\n",
       "\t<tr><td>1218644</td><td>1</td></tr>\n",
       "\t<tr><td>3505384</td><td>1</td></tr>\n",
       "\t<tr><td>1228265</td><td>1</td></tr>\n",
       "\t<tr><td>3576974</td><td>1</td></tr>\n",
       "\t<tr><td>1028083</td><td>1</td></tr>\n",
       "\t<tr><td>5469668</td><td>1</td></tr>\n",
       "\t<tr><td>5619499</td><td>1</td></tr>\n",
       "\t<tr><td>4086019</td><td>1</td></tr>\n",
       "\t<tr><td>2324555</td><td>1</td></tr>\n",
       "\t<tr><td>4842484</td><td>1</td></tr>\n",
       "\t<tr><td>3494746</td><td>1</td></tr>\n",
       "\t<tr><td>2489181</td><td>1</td></tr>\n",
       "\t<tr><td>5394577</td><td>1</td></tr>\n",
       "\t<tr><td>3154588</td><td>1</td></tr>\n",
       "\t<tr><td>5400768</td><td>1</td></tr>\n",
       "\t<tr><td>2264598</td><td>1</td></tr>\n",
       "\t<tr><td>4146429</td><td>1</td></tr>\n",
       "\t<tr><td>4961028</td><td>1</td></tr>\n",
       "\t<tr><td>3733785</td><td>1</td></tr>\n",
       "\t<tr><td>3058191</td><td>1</td></tr>\n",
       "\t<tr><td>⋮</td><td>⋮</td></tr>\n",
       "\t<tr><td>3119016</td><td>49</td></tr>\n",
       "\t<tr><td>3285762</td><td>49</td></tr>\n",
       "\t<tr><td>3995430</td><td>49</td></tr>\n",
       "\t<tr><td>5836817</td><td>49</td></tr>\n",
       "\t<tr><td>2529462</td><td>49</td></tr>\n",
       "\t<tr><td>3661314</td><td>49</td></tr>\n",
       "\t<tr><td>2361015</td><td>49</td></tr>\n",
       "\t<tr><td>5945968</td><td>49</td></tr>\n",
       "\t<tr><td>4257345</td><td>49</td></tr>\n",
       "\t<tr><td>2175974</td><td>49</td></tr>\n",
       "\t<tr><td>3184591</td><td>49</td></tr>\n",
       "\t<tr><td>3269963</td><td>49</td></tr>\n",
       "\t<tr><td>5266344</td><td>49</td></tr>\n",
       "\t<tr><td>5079408</td><td>49</td></tr>\n",
       "\t<tr><td>5447981</td><td>49</td></tr>\n",
       "\t<tr><td>4140325</td><td>49</td></tr>\n",
       "\t<tr><td>3096930</td><td>49</td></tr>\n",
       "\t<tr><td>2782402</td><td>49</td></tr>\n",
       "\t<tr><td>2739111</td><td>49</td></tr>\n",
       "\t<tr><td>2213111</td><td>49</td></tr>\n",
       "\t<tr><td>5736737</td><td>49</td></tr>\n",
       "\t<tr><td>3737435</td><td>49</td></tr>\n",
       "\t<tr><td>1040157</td><td>49</td></tr>\n",
       "\t<tr><td>1874409</td><td>49</td></tr>\n",
       "\t<tr><td>5177739</td><td>49</td></tr>\n",
       "\t<tr><td>4236029</td><td>49</td></tr>\n",
       "\t<tr><td>4841136</td><td>49</td></tr>\n",
       "\t<tr><td>2960592</td><td>49</td></tr>\n",
       "\t<tr><td>2719540</td><td>49</td></tr>\n",
       "\t<tr><td>3952802</td><td>49</td></tr>\n",
       "</tbody>\n",
       "</table>\n"
      ],
      "text/latex": [
       "A data.frame: 487409 × 2\n",
       "\\begin{tabular}{ll}\n",
       " id & bin\\\\\n",
       " <int> & <dbl>\\\\\n",
       "\\hline\n",
       "\t 2497795 & 1\\\\\n",
       "\t 2143467 & 1\\\\\n",
       "\t 1288463 & 1\\\\\n",
       "\t 2632032 & 1\\\\\n",
       "\t 3667876 & 1\\\\\n",
       "\t 3834788 & 1\\\\\n",
       "\t 5659070 & 1\\\\\n",
       "\t 3154457 & 1\\\\\n",
       "\t 5713647 & 1\\\\\n",
       "\t 2548437 & 1\\\\\n",
       "\t 1218644 & 1\\\\\n",
       "\t 3505384 & 1\\\\\n",
       "\t 1228265 & 1\\\\\n",
       "\t 3576974 & 1\\\\\n",
       "\t 1028083 & 1\\\\\n",
       "\t 5469668 & 1\\\\\n",
       "\t 5619499 & 1\\\\\n",
       "\t 4086019 & 1\\\\\n",
       "\t 2324555 & 1\\\\\n",
       "\t 4842484 & 1\\\\\n",
       "\t 3494746 & 1\\\\\n",
       "\t 2489181 & 1\\\\\n",
       "\t 5394577 & 1\\\\\n",
       "\t 3154588 & 1\\\\\n",
       "\t 5400768 & 1\\\\\n",
       "\t 2264598 & 1\\\\\n",
       "\t 4146429 & 1\\\\\n",
       "\t 4961028 & 1\\\\\n",
       "\t 3733785 & 1\\\\\n",
       "\t 3058191 & 1\\\\\n",
       "\t ⋮ & ⋮\\\\\n",
       "\t 3119016 & 49\\\\\n",
       "\t 3285762 & 49\\\\\n",
       "\t 3995430 & 49\\\\\n",
       "\t 5836817 & 49\\\\\n",
       "\t 2529462 & 49\\\\\n",
       "\t 3661314 & 49\\\\\n",
       "\t 2361015 & 49\\\\\n",
       "\t 5945968 & 49\\\\\n",
       "\t 4257345 & 49\\\\\n",
       "\t 2175974 & 49\\\\\n",
       "\t 3184591 & 49\\\\\n",
       "\t 3269963 & 49\\\\\n",
       "\t 5266344 & 49\\\\\n",
       "\t 5079408 & 49\\\\\n",
       "\t 5447981 & 49\\\\\n",
       "\t 4140325 & 49\\\\\n",
       "\t 3096930 & 49\\\\\n",
       "\t 2782402 & 49\\\\\n",
       "\t 2739111 & 49\\\\\n",
       "\t 2213111 & 49\\\\\n",
       "\t 5736737 & 49\\\\\n",
       "\t 3737435 & 49\\\\\n",
       "\t 1040157 & 49\\\\\n",
       "\t 1874409 & 49\\\\\n",
       "\t 5177739 & 49\\\\\n",
       "\t 4236029 & 49\\\\\n",
       "\t 4841136 & 49\\\\\n",
       "\t 2960592 & 49\\\\\n",
       "\t 2719540 & 49\\\\\n",
       "\t 3952802 & 49\\\\\n",
       "\\end{tabular}\n"
      ],
      "text/markdown": [
       "\n",
       "A data.frame: 487409 × 2\n",
       "\n",
       "| id &lt;int&gt; | bin &lt;dbl&gt; |\n",
       "|---|---|\n",
       "| 2497795 | 1 |\n",
       "| 2143467 | 1 |\n",
       "| 1288463 | 1 |\n",
       "| 2632032 | 1 |\n",
       "| 3667876 | 1 |\n",
       "| 3834788 | 1 |\n",
       "| 5659070 | 1 |\n",
       "| 3154457 | 1 |\n",
       "| 5713647 | 1 |\n",
       "| 2548437 | 1 |\n",
       "| 1218644 | 1 |\n",
       "| 3505384 | 1 |\n",
       "| 1228265 | 1 |\n",
       "| 3576974 | 1 |\n",
       "| 1028083 | 1 |\n",
       "| 5469668 | 1 |\n",
       "| 5619499 | 1 |\n",
       "| 4086019 | 1 |\n",
       "| 2324555 | 1 |\n",
       "| 4842484 | 1 |\n",
       "| 3494746 | 1 |\n",
       "| 2489181 | 1 |\n",
       "| 5394577 | 1 |\n",
       "| 3154588 | 1 |\n",
       "| 5400768 | 1 |\n",
       "| 2264598 | 1 |\n",
       "| 4146429 | 1 |\n",
       "| 4961028 | 1 |\n",
       "| 3733785 | 1 |\n",
       "| 3058191 | 1 |\n",
       "| ⋮ | ⋮ |\n",
       "| 3119016 | 49 |\n",
       "| 3285762 | 49 |\n",
       "| 3995430 | 49 |\n",
       "| 5836817 | 49 |\n",
       "| 2529462 | 49 |\n",
       "| 3661314 | 49 |\n",
       "| 2361015 | 49 |\n",
       "| 5945968 | 49 |\n",
       "| 4257345 | 49 |\n",
       "| 2175974 | 49 |\n",
       "| 3184591 | 49 |\n",
       "| 3269963 | 49 |\n",
       "| 5266344 | 49 |\n",
       "| 5079408 | 49 |\n",
       "| 5447981 | 49 |\n",
       "| 4140325 | 49 |\n",
       "| 3096930 | 49 |\n",
       "| 2782402 | 49 |\n",
       "| 2739111 | 49 |\n",
       "| 2213111 | 49 |\n",
       "| 5736737 | 49 |\n",
       "| 3737435 | 49 |\n",
       "| 1040157 | 49 |\n",
       "| 1874409 | 49 |\n",
       "| 5177739 | 49 |\n",
       "| 4236029 | 49 |\n",
       "| 4841136 | 49 |\n",
       "| 2960592 | 49 |\n",
       "| 2719540 | 49 |\n",
       "| 3952802 | 49 |\n",
       "\n"
      ],
      "text/plain": [
       "       id      bin\n",
       "1      2497795 1  \n",
       "2      2143467 1  \n",
       "3      1288463 1  \n",
       "4      2632032 1  \n",
       "5      3667876 1  \n",
       "6      3834788 1  \n",
       "7      5659070 1  \n",
       "8      3154457 1  \n",
       "9      5713647 1  \n",
       "10     2548437 1  \n",
       "11     1218644 1  \n",
       "12     3505384 1  \n",
       "13     1228265 1  \n",
       "14     3576974 1  \n",
       "15     1028083 1  \n",
       "16     5469668 1  \n",
       "17     5619499 1  \n",
       "18     4086019 1  \n",
       "19     2324555 1  \n",
       "20     4842484 1  \n",
       "21     3494746 1  \n",
       "22     2489181 1  \n",
       "23     5394577 1  \n",
       "24     3154588 1  \n",
       "25     5400768 1  \n",
       "26     2264598 1  \n",
       "27     4146429 1  \n",
       "28     4961028 1  \n",
       "29     3733785 1  \n",
       "30     3058191 1  \n",
       "⋮      ⋮       ⋮  \n",
       "487380 3119016 49 \n",
       "487381 3285762 49 \n",
       "487382 3995430 49 \n",
       "487383 5836817 49 \n",
       "487384 2529462 49 \n",
       "487385 3661314 49 \n",
       "487386 2361015 49 \n",
       "487387 5945968 49 \n",
       "487388 4257345 49 \n",
       "487389 2175974 49 \n",
       "487390 3184591 49 \n",
       "487391 3269963 49 \n",
       "487392 5266344 49 \n",
       "487393 5079408 49 \n",
       "487394 5447981 49 \n",
       "487395 4140325 49 \n",
       "487396 3096930 49 \n",
       "487397 2782402 49 \n",
       "487398 2739111 49 \n",
       "487399 2213111 49 \n",
       "487400 5736737 49 \n",
       "487401 3737435 49 \n",
       "487402 1040157 49 \n",
       "487403 1874409 49 \n",
       "487404 5177739 49 \n",
       "487405 4236029 49 \n",
       "487406 4841136 49 \n",
       "487407 2960592 49 \n",
       "487408 2719540 49 \n",
       "487409 3952802 49 "
      ]
     },
     "metadata": {},
     "output_type": "display_data"
    }
   ],
   "source": [
    "ukbb2bin"
   ]
  },
  {
   "cell_type": "code",
   "execution_count": 43,
   "metadata": {},
   "outputs": [
    {
     "name": "stderr",
     "output_type": "stream",
     "text": [
      "/frazer01/projects/CEGS/analysis/hla_type_1kgp/pipeline/beagle/processing/bin1/snps.vcf.gz\n",
      "\n",
      "/frazer01/projects/CEGS/analysis/hla_type_1kgp/pipeline/hla_typing/vcf/phased.vcf.gz\n",
      "\n"
     ]
    }
   ],
   "source": [
    "message(a)\n",
    "message(vcf_phased)"
   ]
  },
  {
   "cell_type": "markdown",
   "metadata": {},
   "source": [
    "# impute with beagle"
   ]
  }
 ],
 "metadata": {
  "kernelspec": {
   "display_name": "R 4.0.1",
   "language": "R",
   "name": "ir401"
  },
  "language_info": {
   "codemirror_mode": "r",
   "file_extension": ".r",
   "mimetype": "text/x-r-source",
   "name": "R",
   "pygments_lexer": "r",
   "version": "4.0.1"
  }
 },
 "nbformat": 4,
 "nbformat_minor": 2
}
