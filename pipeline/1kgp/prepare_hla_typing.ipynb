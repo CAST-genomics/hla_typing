{
 "cells": [
  {
   "cell_type": "markdown",
   "metadata": {},
   "source": [
    "# Set up HLA typing"
   ]
  },
  {
   "cell_type": "code",
   "execution_count": 1,
   "metadata": {},
   "outputs": [],
   "source": [
    "#setwd(\"/frazer01/projects/CEGS/analysis/hla_type_1kgp/\")\n",
    "setwd(\"/frazer01/home/aphodges/software/my_hla_typing/\")\n",
    "source(\"1kgp/functions.R\")"
   ]
  },
  {
   "cell_type": "code",
   "execution_count": 5,
   "metadata": {},
   "outputs": [
    {
     "data": {
      "text/html": [
       "<style>\n",
       ".list-inline {list-style: none; margin:0; padding: 0}\n",
       ".list-inline>li {display: inline-block}\n",
       ".list-inline>li:not(:last-child)::after {content: \"\\00b7\"; padding: 0 .5ex}\n",
       "</style>\n",
       "<ol class=list-inline><li>'1kgp'</li><li>'hla_typing.sh'</li><li>'HLAVBSeq.jar'</li><li>'input'</li><li>'nohup.out'</li><li>'pipeline'</li><li>'process_hla_types.R'</li><li>'README.md'</li><li>'reference'</li><li>'TMP'</li></ol>\n"
      ],
      "text/latex": [
       "\\begin{enumerate*}\n",
       "\\item '1kgp'\n",
       "\\item 'hla\\_typing.sh'\n",
       "\\item 'HLAVBSeq.jar'\n",
       "\\item 'input'\n",
       "\\item 'nohup.out'\n",
       "\\item 'pipeline'\n",
       "\\item 'process\\_hla\\_types.R'\n",
       "\\item 'README.md'\n",
       "\\item 'reference'\n",
       "\\item 'TMP'\n",
       "\\end{enumerate*}\n"
      ],
      "text/markdown": [
       "1. '1kgp'\n",
       "2. 'hla_typing.sh'\n",
       "3. 'HLAVBSeq.jar'\n",
       "4. 'input'\n",
       "5. 'nohup.out'\n",
       "6. 'pipeline'\n",
       "7. 'process_hla_types.R'\n",
       "8. 'README.md'\n",
       "9. 'reference'\n",
       "10. 'TMP'\n",
       "\n",
       "\n"
      ],
      "text/plain": [
       " [1] \"1kgp\"                \"hla_typing.sh\"       \"HLAVBSeq.jar\"       \n",
       " [4] \"input\"               \"nohup.out\"           \"pipeline\"           \n",
       " [7] \"process_hla_types.R\" \"README.md\"           \"reference\"          \n",
       "[10] \"TMP\"                "
      ]
     },
     "metadata": {},
     "output_type": "display_data"
    }
   ],
   "source": [
    "dir()"
   ]
  },
  {
   "cell_type": "code",
   "execution_count": 4,
   "metadata": {},
   "outputs": [],
   "source": [
    "dir.create(\"pipeline/hla_typing\"                , showWarnings = FALSE)\n",
    "dir.create(\"pipeline/hla_typing/logs\"           , showWarnings = FALSE)\n",
    "dir.create(\"pipeline/hla_typing/processing\"     , showWarnings = FALSE)\n",
    "#dir.create(\"pipeline/hla_typing/hlavbseq_output\", showWarnings = FALSE)\n"
   ]
  },
  {
   "cell_type": "code",
   "execution_count": 6,
   "metadata": {},
   "outputs": [
    {
     "ename": "ERROR",
     "evalue": "Error in fread(\"input/1000G_2504_high_coverage.sequence.index\", sep = \"\\t\", : File 'input/1000G_2504_high_coverage.sequence.index' does not exist or is non-readable. getwd()=='/frazer01/home/aphodges/software/my_hla_typing'\n",
     "output_type": "error",
     "traceback": [
      "Error in fread(\"input/1000G_2504_high_coverage.sequence.index\", sep = \"\\t\", : File 'input/1000G_2504_high_coverage.sequence.index' does not exist or is non-readable. getwd()=='/frazer01/home/aphodges/software/my_hla_typing'\nTraceback:\n",
      "1. fread(\"input/1000G_2504_high_coverage.sequence.index\", sep = \"\\t\", \n .     header = TRUE, data.table = FALSE)",
      "2. stop(\"File '\", file, \"' does not exist or is non-readable. getwd()=='\", \n .     getwd(), \"'\")"
     ]
    }
   ],
   "source": [
    "id2url_2504           = fread(\"input/1000G_2504_high_coverage.sequence.index\"        , sep = \"\\t\", header = TRUE , data.table = FALSE)[,c(\"#ENA_FILE_PATH\", \"RUN_ID\", \"LIBRARY_NAME\", \"POPULATION\")]\n",
    "id2url_698            = fread(\"input/1000G_698_related_high_coverage.sequence.index\" , sep = \"\\t\", header = FALSE, data.table = FALSE)[,c(1,3,10,11)]\n",
    "colnames(id2url_2504) = c(\"cram_url\", \"run_id\", \"id\", \"population\")\n",
    "colnames(id2url_698 ) = c(\"cram_url\", \"run_id\", \"id\", \"population\")\n",
    "id2url                = rbind(id2url_2504, id2url_698)\n",
    "\n",
    "fwrite(id2url, \"pipeline/hla_typing/id2url.txt\", sep = \"\\t\", col.names = TRUE, row.names = FALSE)"
   ]
  },
  {
   "cell_type": "markdown",
   "metadata": {},
   "source": [
    "# Genome BED file for filtering:\n",
    "- chr6:25000000-34000000\n",
    "- chr6_GL000250v2_alt\n",
    "- chr6_GL000251v2_alt\n",
    "- chr6_GL000252v2_alt\n",
    "- chr6_GL000253v2_alt\n",
    "- chr6_GL000254v2_alt\n",
    "- chr6_GL000255v2_alt\n",
    "- chr6_GL000256v2_alt\n",
    "- chr6_KI270758v1_alt\n",
    "- chr6_GL000256v2_alt\n",
    "- chr6_GL000256v2_alt\n",
    "- chr6_GL000256v2_alt\n",
    "- chr6_GL000256v2_alt\n",
    "- EVerything HLA"
   ]
  },
  {
   "cell_type": "markdown",
   "metadata": {},
   "source": [
    "# Run HLA typing"
   ]
  },
  {
   "cell_type": "code",
   "execution_count": 4,
   "metadata": {},
   "outputs": [
    {
     "name": "stderr",
     "output_type": "stream",
     "text": [
      "qsub -t 1-3202:1 -tc 50 -l short -l h_vmem=8G -pe smp 2 -o /frazer01/projects/CEGS/analysis/hla_type_1kgp/pipeline/hla_typing/logs.out -e /frazer01/projects/CEGS/analysis/hla_type_1kgp/pipeline/hla_typing/logs.err /frazer01/projects/CEGS/analysis/hla_type_1kgp/pipeline/hla_typing/run_hla_typing.sh\n",
      "\n"
     ]
    }
   ],
   "source": [
    "run_hla_typing_qsub = function(id2url, qsub = FALSE)\n",
    "{\n",
    "    sh_file = paste(getwd(), \"pipeline/hla_typing/run_hla_typing.sh\", sep = \"/\")\n",
    "    \n",
    "    writeLines(text = c(\"#!/usr/bin/sh\",\n",
    "                        \"source /frazer01/home/matteo/.bashrc\",\n",
    "                        \"export REF_PATH=/frazer01/projects/CEGS/analysis/hla_type_1kgp/input/cram_cache/cache/%2s/%2s/%s:http://www.ebi.ac.uk/ena/cram/md5/%s\",\n",
    "                        \"export REF_CACHE=/frazer01/projects/CEGS/analysis/hla_type_1kgp/input/cram_cache/cache/%2s/%2s/%s\",\n",
    "                        paste(\"Rscript\", paste(paste(getwd(), \"script\", \"run_hla_typing.R\", sep = \"/\"),\n",
    "                                               \"--taskid\"   , \"$SGE_TASK_ID\")\n",
    "                             )\n",
    "                       ), \n",
    "               con  = sh_file, \n",
    "               sep  = \"\\n\\n\")\n",
    "    \n",
    "    qsub_command = paste(\"qsub\",\n",
    "                         \"-t\", paste(1, \"-\", nrow(id2url), \":1\", sep = \"\"),\n",
    "                         \"-tc\", 50, \n",
    "                         \"-l\" , \"short\",\n",
    "                         \"-l\" , \"h_vmem=8G\",\n",
    "                         \"-pe\", \"smp\", 2,\n",
    "                         \"-o\" , paste(getwd(), \"pipeline/hla_typing/logs.out\", sep = \"/\"),\n",
    "                         \"-e\" , paste(getwd(), \"pipeline/hla_typing/logs.err\", sep = \"/\"),\n",
    "                         sh_file\n",
    "                        )\n",
    "    \n",
    "    message(qsub_command)\n",
    "    if(qsub == TRUE){system(qsub_command)}\n",
    "}\n",
    "\n",
    "run_hla_typing_qsub(id2url, FALSE)\n"
   ]
  },
  {
   "cell_type": "markdown",
   "metadata": {},
   "source": [
    "# Progress"
   ]
  },
  {
   "cell_type": "code",
   "execution_count": 5,
   "metadata": {},
   "outputs": [],
   "source": [
    "infiles           = list.files(\"pipeline/hla_typing/processing\", pattern = \"hla_types.txt\", full.names = FALSE)\n"
   ]
  },
  {
   "cell_type": "code",
   "execution_count": 6,
   "metadata": {},
   "outputs": [
    {
     "name": "stderr",
     "output_type": "stream",
     "text": [
      "HLA typed individuals = 3187\n",
      "Processed = 99.5%\n"
     ]
    }
   ],
   "source": [
    "message(paste(paste (\"HLA typed individuals\", length(infiles), sep = \" = \"), \n",
    "              paste0(\"Processed = \"         , signif(length(infiles) / nrow(id2url) * 100, digits = 3), \"%\"), \n",
    "              sep = \"\\n\"), appendLF = FALSE)"
   ]
  },
  {
   "cell_type": "markdown",
   "metadata": {},
   "source": [
    "# Gene info"
   ]
  },
  {
   "cell_type": "code",
   "execution_count": 21,
   "metadata": {},
   "outputs": [],
   "source": [
    "geneinfo = fread(\"/frazer01/reference/private/Gencode.v34lift37/gene_info.txt\", sep = \"\\t\", header = TRUE, data.table = FALSE)\n",
    "genes    = fread(\"pipeline/hla_typing/processing/HG00096.hla_types.txt\", sep = \"\\t\", header = TRUE, data.table = FALSE)[,1]\n",
    "genes    = ifelse(genes %in% c(\"HFE\", \"MICA\", \"MICB\", \"TAP1\", \"TAP2\"), yes = genes, no = paste(\"HLA\", genes, sep = \"-\"))\n",
    "geneinfo = geneinfo[ geneinfo$gene_name %in% genes, c(\"gene_id\", \"gene_name\", \"chrom\", \"start\", \"end\", \"strand\")]\n",
    "geneinfo = rbind(geneinfo, data.frame(gene_id   = c(\"uc011fni.2\", \"uc011hzq.2\", \"100127173\"),\n",
    "                                      gene_name = c(\"HLA-DRB3\", \"HLA-DRB4\", \"HLA-Y\"),\n",
    "                                      chrom     = \"chr6\", \n",
    "                                      start     = c(28477797 + 3934127, 28696604 + 3882324, 29910341),\n",
    "                                      end       = c(28477797 + 3947195, 28696604 + 3897292, 29913232),\n",
    "                                      strand    = c(\"-\", \"-\", \"+\")\n",
    "                                     ))\n",
    "geneinfo$gene = sub(\"HLA-\", \"\", geneinfo$gene_name)\n",
    "\n",
    "fwrite(geneinfo, \"pipeline/hla_typing/gene_info.txt\", sep = \"\\t\", col.names = TRUE, row.names = FALSE)"
   ]
  },
  {
   "cell_type": "code",
   "execution_count": 18,
   "metadata": {},
   "outputs": [
    {
     "data": {
      "text/html": [
       "<style>\n",
       ".list-inline {list-style: none; margin:0; padding: 0}\n",
       ".list-inline>li {display: inline-block}\n",
       ".list-inline>li:not(:last-child)::after {content: \"\\00b7\"; padding: 0 .5ex}\n",
       "</style>\n",
       "<ol class=list-inline><li>'HLA-DRB3'</li><li>'HLA-DRB4'</li><li>'HLA-Y'</li></ol>\n"
      ],
      "text/latex": [
       "\\begin{enumerate*}\n",
       "\\item 'HLA-DRB3'\n",
       "\\item 'HLA-DRB4'\n",
       "\\item 'HLA-Y'\n",
       "\\end{enumerate*}\n"
      ],
      "text/markdown": [
       "1. 'HLA-DRB3'\n",
       "2. 'HLA-DRB4'\n",
       "3. 'HLA-Y'\n",
       "\n",
       "\n"
      ],
      "text/plain": [
       "[1] \"HLA-DRB3\" \"HLA-DRB4\" \"HLA-Y\"   "
      ]
     },
     "metadata": {},
     "output_type": "display_data"
    }
   ],
   "source": [
    "setdiff(genes, geneinfo$gene_name)"
   ]
  },
  {
   "cell_type": "markdown",
   "metadata": {},
   "source": [
    "# SCRATCH"
   ]
  },
  {
   "cell_type": "code",
   "execution_count": 20,
   "metadata": {},
   "outputs": [
    {
     "name": "stderr",
     "output_type": "stream",
     "text": [
      "bash /frazer01/home/matteo/software/my_hla_typing/hla_typing.sh /sdsc/cast/ukbb/exome/fe_crams/2053937.cram hg38_v02 pipeline/hla_typing/processing/2053937 nuc_red /frazer01/home/matteo/software/my_hla_typing/reference/nuc_red/alleles.nuc_red.txt 40 76\n",
      "\n"
     ]
    }
   ],
   "source": [
    "run_hla_typing = function(taskid, ids)\n",
    "{\n",
    "    id      = ids[[taskid]]\n",
    "    prefix  = paste(\"pipeline/hla_typing/processing\", id, sep = \"/\")\n",
    "    cram    = paste(cram_folder, paste(id, \"cram\", sep = \".\"), sep = \"/\")\n",
    "    command = paste(\"bash\", \n",
    "                    \"/frazer01/home/matteo/software/my_hla_typing/hla_typing.sh\",\n",
    "                    cram,\n",
    "                    \"hg38_v02\",\n",
    "                    prefix,\n",
    "                    \"nuc_red\",\n",
    "                    \"/frazer01/home/matteo/software/my_hla_typing/reference/nuc_red/alleles.nuc_red.txt\",\n",
    "                    5,\n",
    "                    76\n",
    "                   )\n",
    "    \n",
    "    message(command)\n",
    "}\n",
    "\n",
    "\n",
    "taskid = 1\n",
    "\n",
    "run_hla_typing(taskid, ids)\n"
   ]
  },
  {
   "cell_type": "code",
   "execution_count": null,
   "metadata": {},
   "outputs": [],
   "source": [
    "bash /frazer01/home/matteo/software/my_hla_typing/hla_typing.sh CRAM hg38 /frazer01/projects/CEGS/analysis/hla_vbseq_pipeline/pipeline/hla_vbseq/out/VTE.070.nuc_red nuc_red /frazer01/home/matteo/software/my_hla_typing/reference/nuc_red/alleles.nuc_red.txt 25 76\n"
   ]
  },
  {
   "cell_type": "code",
   "execution_count": 22,
   "metadata": {},
   "outputs": [
    {
     "ename": "ERROR",
     "evalue": "Error in eval(expr, envir, enclos): object 'ukbb_pgen_prefix' not found\n",
     "output_type": "error",
     "traceback": [
      "Error in eval(expr, envir, enclos): object 'ukbb_pgen_prefix' not found\nTraceback:\n"
     ]
    }
   ],
   "source": [
    "ukbb_pgen_prefix"
   ]
  },
  {
   "cell_type": "code",
   "execution_count": null,
   "metadata": {},
   "outputs": [],
   "source": []
  }
 ],
 "metadata": {
  "kernelspec": {
   "display_name": "R",
   "language": "R",
   "name": "ir"
  },
  "language_info": {
   "codemirror_mode": "r",
   "file_extension": ".r",
   "mimetype": "text/x-r-source",
   "name": "R",
   "pygments_lexer": "r",
   "version": "4.0.2"
  }
 },
 "nbformat": 4,
 "nbformat_minor": 2
}
