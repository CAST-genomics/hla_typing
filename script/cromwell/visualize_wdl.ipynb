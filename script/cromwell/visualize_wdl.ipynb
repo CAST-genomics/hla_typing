{
 "cells": [
  {
   "cell_type": "code",
   "execution_count": 1,
   "metadata": {},
   "outputs": [
    {
     "name": "stdout",
     "output_type": "stream",
     "text": [
      "Python 3.9.13 | packaged by conda-forge | (main, May 27 2022, 16:56:21) \n",
      "Type 'copyright', 'credits' or 'license' for more information\n",
      "IPython 8.5.0 -- An enhanced Interactive Python. Type '?' for help.\n",
      "\n",
      "Out[1]: 1\n",
      "\n",
      "\n",
      "\n",
      "Out[2]: 2\n",
      "\n",
      "\n",
      "\n",
      "\n",
      "\n",
      "\n",
      "\n",
      "\n",
      "\n",
      "\n",
      "\n",
      "\n",
      "\n",
      "\n",
      "\n",
      "\n",
      "\n",
      "\n",
      "\n",
      "\n",
      "\n",
      "\n",
      "\n",
      "\n",
      "\n",
      "\n",
      "\n",
      "\n",
      "\n"
     ]
    }
   ],
   "source": [
    "import nest_asyncio\n",
    "nest_asyncio.apply()\n",
    "__import__('IPython').embed()\n",
    "!python ./visualize_wdl.py hla_basic.wdl"
   ]
  },
  {
   "cell_type": "code",
   "execution_count": 3,
   "metadata": {},
   "outputs": [
    {
     "ename": "RuntimeError",
     "evalue": "This event loop is already running",
     "output_type": "error",
     "traceback": [
      "\u001b[0;31m---------------------------------------------------------------------------\u001b[0m",
      "\u001b[0;31mRuntimeError\u001b[0m                              Traceback (most recent call last)",
      "Cell \u001b[0;32mIn [3], line 1\u001b[0m\n\u001b[0;32m----> 1\u001b[0m main(\u001b[39m\"\u001b[39;49m\u001b[39m./hla_basic.wdl\u001b[39;49m\u001b[39m\"\u001b[39;49m)\n",
      "Cell \u001b[0;32mIn [1], line 14\u001b[0m, in \u001b[0;36mmain\u001b[0;34m(args)\u001b[0m\n\u001b[1;32m     12\u001b[0m \u001b[39mdef\u001b[39;00m \u001b[39mmain\u001b[39m(args):\n\u001b[1;32m     13\u001b[0m     \u001b[39m# load WDL document given local filename\u001b[39;00m\n\u001b[0;32m---> 14\u001b[0m     doc \u001b[39m=\u001b[39m WDL\u001b[39m.\u001b[39;49mload(args[\u001b[39m0\u001b[39;49m] \u001b[39mif\u001b[39;49;00m args \u001b[39melse\u001b[39;49;00m \u001b[39m\"\u001b[39;49m\u001b[39m/dev/stdin\u001b[39;49m\u001b[39m\"\u001b[39;49m)\n\u001b[1;32m     15\u001b[0m     \u001b[39massert\u001b[39;00m doc\u001b[39m.\u001b[39mworkflow, \u001b[39m\"\u001b[39m\u001b[39mNo workflow in WDL document\u001b[39m\u001b[39m\"\u001b[39m\n\u001b[1;32m     17\u001b[0m     \u001b[39m# visualize workflow\u001b[39;00m\n",
      "File \u001b[0;32m~/.local/lib/python3.9/site-packages/WDL/__init__.py:69\u001b[0m, in \u001b[0;36mload\u001b[0;34m(uri, path, check_quant, read_source, import_max_depth)\u001b[0m\n\u001b[1;32m     35\u001b[0m \u001b[39mdef\u001b[39;00m \u001b[39mload\u001b[39m(\n\u001b[1;32m     36\u001b[0m     uri: \u001b[39mstr\u001b[39m,\n\u001b[1;32m     37\u001b[0m     path: Optional[List[\u001b[39mstr\u001b[39m]] \u001b[39m=\u001b[39m \u001b[39mNone\u001b[39;00m,\n\u001b[0;32m   (...)\u001b[0m\n\u001b[1;32m     42\u001b[0m     import_max_depth: \u001b[39mint\u001b[39m \u001b[39m=\u001b[39m \u001b[39m10\u001b[39m,\n\u001b[1;32m     43\u001b[0m ) \u001b[39m-\u001b[39m\u001b[39m>\u001b[39m Document:\n\u001b[1;32m     44\u001b[0m     \u001b[39m\"\"\"\u001b[39;00m\n\u001b[1;32m     45\u001b[0m \u001b[39m    Parse a WDL document given filename/URI, recursively descend into imported documents, then typecheck the tasks and\u001b[39;00m\n\u001b[1;32m     46\u001b[0m \u001b[39m    workflow.\u001b[39;00m\n\u001b[0;32m   (...)\u001b[0m\n\u001b[1;32m     67\u001b[0m \u001b[39m        when an imported sub-document can't be loaded; the ``__cause__`` attribute has the specific error\u001b[39;00m\n\u001b[1;32m     68\u001b[0m \u001b[39m    \"\"\"\u001b[39;00m\n\u001b[0;32m---> 69\u001b[0m     doc \u001b[39m=\u001b[39m Tree\u001b[39m.\u001b[39;49m_load(\n\u001b[1;32m     70\u001b[0m         uri,\n\u001b[1;32m     71\u001b[0m         path\u001b[39m=\u001b[39;49mpath,\n\u001b[1;32m     72\u001b[0m         check_quant\u001b[39m=\u001b[39;49mcheck_quant,\n\u001b[1;32m     73\u001b[0m         read_source\u001b[39m=\u001b[39;49mread_source,\n\u001b[1;32m     74\u001b[0m         import_max_depth\u001b[39m=\u001b[39;49mimport_max_depth,\n\u001b[1;32m     75\u001b[0m     )\n\u001b[1;32m     76\u001b[0m     Walker\u001b[39m.\u001b[39mSetParents()(doc)\n\u001b[1;32m     77\u001b[0m     \u001b[39mreturn\u001b[39;00m doc\n",
      "File \u001b[0;32m~/.local/lib/python3.9/site-packages/WDL/Tree.py:1581\u001b[0m, in \u001b[0;36m_load\u001b[0;34m(uri, path, check_quant, read_source, import_max_depth, importer)\u001b[0m\n\u001b[1;32m   1571\u001b[0m \u001b[39mdef\u001b[39;00m \u001b[39m_load\u001b[39m(\n\u001b[1;32m   1572\u001b[0m     uri: \u001b[39mstr\u001b[39m,\n\u001b[1;32m   1573\u001b[0m     path: Optional[List[\u001b[39mstr\u001b[39m]] \u001b[39m=\u001b[39m \u001b[39mNone\u001b[39;00m,\n\u001b[0;32m   (...)\u001b[0m\n\u001b[1;32m   1579\u001b[0m     importer: Optional[Document] \u001b[39m=\u001b[39m \u001b[39mNone\u001b[39;00m,\n\u001b[1;32m   1580\u001b[0m ) \u001b[39m-\u001b[39m\u001b[39m>\u001b[39m Document:\n\u001b[0;32m-> 1581\u001b[0m     \u001b[39mreturn\u001b[39;00m asyncio\u001b[39m.\u001b[39;49mget_event_loop()\u001b[39m.\u001b[39;49mrun_until_complete(\n\u001b[1;32m   1582\u001b[0m         _load_async(\n\u001b[1;32m   1583\u001b[0m             uri,\n\u001b[1;32m   1584\u001b[0m             path\u001b[39m=\u001b[39;49mpath,\n\u001b[1;32m   1585\u001b[0m             importer\u001b[39m=\u001b[39;49mimporter,\n\u001b[1;32m   1586\u001b[0m             check_quant\u001b[39m=\u001b[39;49mcheck_quant,\n\u001b[1;32m   1587\u001b[0m             read_source\u001b[39m=\u001b[39;49mread_source,\n\u001b[1;32m   1588\u001b[0m             import_max_depth\u001b[39m=\u001b[39;49mimport_max_depth,\n\u001b[1;32m   1589\u001b[0m         )\n\u001b[1;32m   1590\u001b[0m     )\n",
      "File \u001b[0;32m~/anaconda3/lib/python3.9/asyncio/base_events.py:623\u001b[0m, in \u001b[0;36mBaseEventLoop.run_until_complete\u001b[0;34m(self, future)\u001b[0m\n\u001b[1;32m    612\u001b[0m \u001b[39m\"\"\"Run until the Future is done.\u001b[39;00m\n\u001b[1;32m    613\u001b[0m \n\u001b[1;32m    614\u001b[0m \u001b[39mIf the argument is a coroutine, it is wrapped in a Task.\u001b[39;00m\n\u001b[0;32m   (...)\u001b[0m\n\u001b[1;32m    620\u001b[0m \u001b[39mReturn the Future's result, or raise its exception.\u001b[39;00m\n\u001b[1;32m    621\u001b[0m \u001b[39m\"\"\"\u001b[39;00m\n\u001b[1;32m    622\u001b[0m \u001b[39mself\u001b[39m\u001b[39m.\u001b[39m_check_closed()\n\u001b[0;32m--> 623\u001b[0m \u001b[39mself\u001b[39;49m\u001b[39m.\u001b[39;49m_check_running()\n\u001b[1;32m    625\u001b[0m new_task \u001b[39m=\u001b[39m \u001b[39mnot\u001b[39;00m futures\u001b[39m.\u001b[39misfuture(future)\n\u001b[1;32m    626\u001b[0m future \u001b[39m=\u001b[39m tasks\u001b[39m.\u001b[39mensure_future(future, loop\u001b[39m=\u001b[39m\u001b[39mself\u001b[39m)\n",
      "File \u001b[0;32m~/anaconda3/lib/python3.9/asyncio/base_events.py:583\u001b[0m, in \u001b[0;36mBaseEventLoop._check_running\u001b[0;34m(self)\u001b[0m\n\u001b[1;32m    581\u001b[0m \u001b[39mdef\u001b[39;00m \u001b[39m_check_running\u001b[39m(\u001b[39mself\u001b[39m):\n\u001b[1;32m    582\u001b[0m     \u001b[39mif\u001b[39;00m \u001b[39mself\u001b[39m\u001b[39m.\u001b[39mis_running():\n\u001b[0;32m--> 583\u001b[0m         \u001b[39mraise\u001b[39;00m \u001b[39mRuntimeError\u001b[39;00m(\u001b[39m'\u001b[39m\u001b[39mThis event loop is already running\u001b[39m\u001b[39m'\u001b[39m)\n\u001b[1;32m    584\u001b[0m     \u001b[39mif\u001b[39;00m events\u001b[39m.\u001b[39m_get_running_loop() \u001b[39mis\u001b[39;00m \u001b[39mnot\u001b[39;00m \u001b[39mNone\u001b[39;00m:\n\u001b[1;32m    585\u001b[0m         \u001b[39mraise\u001b[39;00m \u001b[39mRuntimeError\u001b[39;00m(\n\u001b[1;32m    586\u001b[0m             \u001b[39m'\u001b[39m\u001b[39mCannot run the event loop while another loop is running\u001b[39m\u001b[39m'\u001b[39m)\n",
      "\u001b[0;31mRuntimeError\u001b[0m: This event loop is already running"
     ]
    }
   ],
   "source": []
  },
  {
   "cell_type": "code",
   "execution_count": null,
   "metadata": {},
   "outputs": [],
   "source": []
  }
 ],
 "metadata": {
  "kernelspec": {
   "display_name": "base",
   "language": "python",
   "name": "python3"
  },
  "language_info": {
   "codemirror_mode": {
    "name": "ipython",
    "version": 3
   },
   "file_extension": ".py",
   "mimetype": "text/x-python",
   "name": "python",
   "nbconvert_exporter": "python",
   "pygments_lexer": "ipython3",
   "version": "3.9.13"
  },
  "orig_nbformat": 4,
  "vscode": {
   "interpreter": {
    "hash": "5ac9863bc5bd95520e53a629854590cedd4b6a5f80a8b8008382c9feecae2edc"
   }
  }
 },
 "nbformat": 4,
 "nbformat_minor": 2
}
