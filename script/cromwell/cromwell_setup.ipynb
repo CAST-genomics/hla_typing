{
 "cells": [
  {
   "cell_type": "code",
   "execution_count": null,
   "metadata": {},
   "outputs": [],
   "source": [
    "# Code modified from AllOfUs workbench notebooks inc. https://workbench.researchallofus.org/workspaces/aou-rw-ec29d5cc/howtorunwdlsusingcromwellintheresearcherworkbench/notebooks/preview/Validate%20VCFs%20with%20Cromwell.ipynb\n",
    "!curl https://github.com/broadinstitute/cromwell/releases/download/77/cromwell-77.jar -o cromwell-77.jar -L\n",
    "!curl https://github.com/broadinstitute/cromwell/releases/download/77/womtool-77.jar -o womtool-77.jar -L\n",
    "!curl -s \"https://get.sdkman.io\" -o install_sdkman.sh\n",
    "!bash install_sdkman.sh"
   ]
  },
  {
   "cell_type": "code",
   "execution_count": null,
   "metadata": {},
   "outputs": [],
   "source": [
    "import os \n",
    "bucket = os.getenv(\"WORKSPACE_BUCKET\")\n",
    "project = os.getenv(\"GOOGLE_PROJECT\")\n",
    " \n",
    "cromwell_test_workdir = bucket + \"/\"  # Later, \"cromwell-executions\" will be appended to this for cromwell-workflow storage.\n",
    "output_bucket = bucket + \"/test_cromwell_runs\"  # This is where the output of the WDL will be.\n",
    " \n",
    "print(f'Workspace bucket: {bucket}')\n",
    "print(f'Workspace project: {project}')\n",
    "print(f'Workspace cromwell working bucket: {cromwell_test_workdir}')\n",
    "print(f'Workspace output bucket: {output_bucket}')"
   ]
  },
  {
   "cell_type": "code",
   "execution_count": null,
   "metadata": {},
   "outputs": [],
   "source": [
    "service_account = !gcloud auth list --format json | jq -r .[0].account\n",
    "sa = service_account[0]\n",
    "print(f'Pet service account Email: {sa}')"
   ]
  },
  {
   "cell_type": "code",
   "execution_count": null,
   "metadata": {},
   "outputs": [],
   "source": [
    "json_filename = \"validate_vcf.json\"\n",
    "\n",
    "#fill in or leave empty as needed for the json creation here\n",
    "json_content = \"\"\"{\n",
    "  \n",
    "}\n",
    "\n",
    "\"\"\"\n",
    "\n",
    "# \"validate_vcf.ordered_vcf_shards_idx_list\": \"vcf_tbi_file_list.txt\",\n",
    "#   \"validate_vcf.ref_fasta\": \"gs://genomics-public-data/references/hg38/v0/Homo_sapiens_assembly38.fasta\",\n",
    "#   \"validate_vcf.ref_fai\": \"gs://genomics-public-data/references/hg38/v0/Homo_sapiens_assembly38.fasta.fai\",\n",
    "#   \"validate_vcf.ref_dict\": \"gs://genomics-public-data/references/hg38/v0/Homo_sapiens_assembly38.dict\",\n",
    "#   \"validate_vcf.ordered_vcf_shards_list\": \"vcf_file_list.txt\"\n",
    "\n",
    "fp = open(json_filename, 'w')\n",
    "fp.write(json_content)\n",
    "fp.close()\n",
    "#print(json_content)"
   ]
  },
  {
   "cell_type": "code",
   "execution_count": null,
   "metadata": {},
   "outputs": [],
   "source": [
    "# options - need to specify the bucket path for cromwell - don't change\n",
    "\n",
    "options_filename = \"options.json\"\n",
    "\n",
    "options_content = f'{{\\n  \"jes_gcs_root\": \"{output_bucket}\"\\n}}'\n",
    "\n",
    "fp = open(options_filename, 'w')\n",
    "fp.write(options_content)\n",
    "fp.close()"
   ]
  },
  {
   "cell_type": "code",
   "execution_count": null,
   "metadata": {},
   "outputs": [],
   "source": [
    "#!source \"/home/jupyter/.sdkman/bin/sdkman-init.sh\"\n",
    "#!sdk install java 11.0.14-tem\n",
    "#validate wdl\n",
    "#!java -jar womtool-77.jar validate _WDL_FILE_\n",
    "cromwell_run_cmd = 'source \"/home/jupyter/.sdkman/bin/sdkman-init.sh\" &&  sdk install java 11.0.14-tem && echo \"Validating WDL...\" && java -jar womtool-77.jar validate _WDL_FILE_ && java -jar -Dconfig.file=/home/jupyter/cromwell.conf cromwell-77.jar run _WDL_FILE_ -i _JSON_FILE_ -o _OPTIONS_FILE_'\n",
    "\n",
    "#run wdl\n",
    "#!java -jar -Dconfig.file=test_PAPIv2.conf cromwell-77.jar run _WDL_FILE_ -i _JSON_FILE_ -o _OPTIONS_FILE_\n",
    "\n",
    "cromwell_run_cmd_final = cromwell_run_cmd.replace(\"_WDL_FILE_\", wdl_filename)\n",
    "cromwell_run_cmd_final = cromwell_run_cmd_final.replace(\"_JSON_FILE_\", json_filename)\n",
    "cromwell_run_cmd_final = cromwell_run_cmd_final.replace(\"_OPTIONS_FILE_\", options_filename)\n",
    "print(cromwell_run_cmd_final)\n",
    "\n",
    "\n"
   ]
  },
  {
   "cell_type": "code",
   "execution_count": null,
   "metadata": {},
   "outputs": [],
   "source": [
    "## output example from workflow at end of cromwell log msg\n",
    "# \"outputs\": {\n",
    "#     \"wf_hello.hello.message\": \"gs://fc-secure-2e7bdd78-3d9f-4cf7-b5e7-9d4ea20c743e/test_cromwell_runs/wf_hello/f890c19e-ef96-445c-8a9d-8542a323fa1b/call-hello/message.txt\"\n",
    "#   },\n",
    "\n",
    "\n",
    "##validate task output examples:\n",
    "# workflow_name = \"validate_vcf\"  # found in the wdl and cromwell log message\n",
    "# workflow_id = \"f890c19e-ef96-445c-8a9d-8542a323fa1b\" # found in the cromwell logs, listed as \"id\"\n",
    "# task_name = \"validate\"\n",
    "# shard = \"shard-0\" \n",
    "\n",
    "# task_call = \"call-\" + task_name\n",
    "# ! gsutil ls {output_bucket}/{workflow_name}/{workflow_id}/{task_call}/{shard}/"
   ]
  }
 ],
 "metadata": {
  "language_info": {
   "name": "python"
  },
  "orig_nbformat": 4
 },
 "nbformat": 4,
 "nbformat_minor": 2
}
