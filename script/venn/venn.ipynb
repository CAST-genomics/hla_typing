{
 "cells": [
  {
   "cell_type": "code",
   "execution_count": 2,
   "metadata": {},
   "outputs": [
    {
     "name": "stdout",
     "output_type": "stream",
     "text": [
      "Please 'pip install matplotlib-venn' first.\n"
     ]
    },
    {
     "ename": "TypeError",
     "evalue": "bad operand type for abs(): 'set'",
     "output_type": "error",
     "traceback": [
      "\u001b[0;31m---------------------------------------------------------------------------\u001b[0m",
      "\u001b[0;31mTypeError\u001b[0m                                 Traceback (most recent call last)",
      "\u001b[1;32m/home/drew/builds/cast/hla_typing/script/venn/venn.ipynb Cell 1\u001b[0m in \u001b[0;36m1\n\u001b[1;32m     <a href='vscode-notebook-cell://wsl%2Bubuntu/home/drew/builds/cast/hla_typing/script/venn/venn.ipynb#W0sdnNjb2RlLXJlbW90ZQ%3D%3D?line=16'>17</a>\u001b[0m s3 \u001b[39m=\u001b[39m \u001b[39mset\u001b[39m([\u001b[39m123\u001b[39m,\u001b[39m245\u001b[39m,\u001b[39m127\u001b[39m,\u001b[39m1200\u001b[39m,\u001b[39m1300\u001b[39m])\n\u001b[1;32m     <a href='vscode-notebook-cell://wsl%2Bubuntu/home/drew/builds/cast/hla_typing/script/venn/venn.ipynb#W0sdnNjb2RlLXJlbW90ZQ%3D%3D?line=17'>18</a>\u001b[0m s4 \u001b[39m=\u001b[39m \u001b[39mset\u001b[39m([\u001b[39m'\u001b[39m\u001b[39m1001\u001b[39m\u001b[39m'\u001b[39m,\u001b[39m'\u001b[39m\u001b[39m1200\u001b[39m\u001b[39m'\u001b[39m,\u001b[39m'\u001b[39m\u001b[39m1300\u001b[39m\u001b[39m'\u001b[39m])\n\u001b[0;32m---> <a href='vscode-notebook-cell://wsl%2Bubuntu/home/drew/builds/cast/hla_typing/script/venn/venn.ipynb#W0sdnNjb2RlLXJlbW90ZQ%3D%3D?line=18'>19</a>\u001b[0m gen_venns([s1,s2,s3,s4],[\u001b[39m\"\u001b[39;49m\u001b[39mSet1\u001b[39;49m\u001b[39m\"\u001b[39;49m,\u001b[39m\"\u001b[39;49m\u001b[39mset2\u001b[39;49m\u001b[39m\"\u001b[39;49m,\u001b[39m\"\u001b[39;49m\u001b[39mset3\u001b[39;49m\u001b[39m\"\u001b[39;49m,\u001b[39m\"\u001b[39;49m\u001b[39mset4\u001b[39;49m\u001b[39m\"\u001b[39;49m])\n",
      "\u001b[1;32m/home/drew/builds/cast/hla_typing/script/venn/venn.ipynb Cell 1\u001b[0m in \u001b[0;36m1\n\u001b[1;32m      <a href='vscode-notebook-cell://wsl%2Bubuntu/home/drew/builds/cast/hla_typing/script/venn/venn.ipynb#W0sdnNjb2RlLXJlbW90ZQ%3D%3D?line=7'>8</a>\u001b[0m \u001b[39m\"\"\"given inputs generate venn diagram.\"\"\"\u001b[39;00m\n\u001b[1;32m      <a href='vscode-notebook-cell://wsl%2Bubuntu/home/drew/builds/cast/hla_typing/script/venn/venn.ipynb#W0sdnNjb2RlLXJlbW90ZQ%3D%3D?line=8'>9</a>\u001b[0m plt\u001b[39m.\u001b[39mfigure(figsize\u001b[39m=\u001b[39m(\u001b[39m4\u001b[39m,\u001b[39m4\u001b[39m))\n\u001b[0;32m---> <a href='vscode-notebook-cell://wsl%2Bubuntu/home/drew/builds/cast/hla_typing/script/venn/venn.ipynb#W0sdnNjb2RlLXJlbW90ZQ%3D%3D?line=9'>10</a>\u001b[0m venn3(sets, names)\n\u001b[1;32m     <a href='vscode-notebook-cell://wsl%2Bubuntu/home/drew/builds/cast/hla_typing/script/venn/venn.ipynb#W0sdnNjb2RlLXJlbW90ZQ%3D%3D?line=10'>11</a>\u001b[0m plt\u001b[39m.\u001b[39mshow()\n",
      "File \u001b[0;32m~/anaconda3/lib/python3.9/site-packages/matplotlib_venn/_venn3.py:350\u001b[0m, in \u001b[0;36mvenn3\u001b[0;34m(subsets, set_labels, set_colors, alpha, normalize_to, ax, subset_label_formatter)\u001b[0m\n\u001b[1;32m    347\u001b[0m \u001b[39mif\u001b[39;00m subset_label_formatter \u001b[39mis\u001b[39;00m \u001b[39mNone\u001b[39;00m:\n\u001b[1;32m    348\u001b[0m     subset_label_formatter \u001b[39m=\u001b[39m \u001b[39mstr\u001b[39m\n\u001b[0;32m--> 350\u001b[0m areas \u001b[39m=\u001b[39m compute_venn3_areas(subsets, normalize_to)\n\u001b[1;32m    351\u001b[0m centers, radii \u001b[39m=\u001b[39m solve_venn3_circles(areas)\n\u001b[1;32m    352\u001b[0m regions \u001b[39m=\u001b[39m compute_venn3_regions(centers, radii)\n",
      "File \u001b[0;32m~/anaconda3/lib/python3.9/site-packages/matplotlib_venn/_venn3.py:44\u001b[0m, in \u001b[0;36mcompute_venn3_areas\u001b[0;34m(diagram_areas, normalize_to, _minimal_area)\u001b[0m\n\u001b[1;32m     25\u001b[0m \u001b[39m'''\u001b[39;00m\n\u001b[1;32m     26\u001b[0m \u001b[39mThe list of venn areas is given as 7 values, corresponding to venn diagram areas in the following order:\u001b[39;00m\n\u001b[1;32m     27\u001b[0m \u001b[39m (Abc, aBc, ABc, abC, AbC, aBC, ABC)\u001b[39;00m\n\u001b[0;32m   (...)\u001b[0m\n\u001b[1;32m     41\u001b[0m \u001b[39m(16.0, 18.0, 22.0, 10.0, 13.0, 12.0, 7.0)\u001b[39;00m\n\u001b[1;32m     42\u001b[0m \u001b[39m'''\u001b[39;00m\n\u001b[1;32m     43\u001b[0m \u001b[39m# Normalize input values to sum to 1\u001b[39;00m\n\u001b[0;32m---> 44\u001b[0m areas \u001b[39m=\u001b[39m np\u001b[39m.\u001b[39marray(np\u001b[39m.\u001b[39;49mabs(diagram_areas), \u001b[39mfloat\u001b[39m)\n\u001b[1;32m     45\u001b[0m total_area \u001b[39m=\u001b[39m np\u001b[39m.\u001b[39msum(areas)\n\u001b[1;32m     46\u001b[0m \u001b[39mif\u001b[39;00m np\u001b[39m.\u001b[39mabs(total_area) \u001b[39m<\u001b[39m _minimal_area:\n",
      "\u001b[0;31mTypeError\u001b[0m: bad operand type for abs(): 'set'"
     ]
    },
    {
     "data": {
      "text/plain": [
       "<Figure size 400x400 with 0 Axes>"
      ]
     },
     "metadata": {},
     "output_type": "display_data"
    }
   ],
   "source": [
    "\"\"\"Quick functions to view venn diagram overlaps for 2+ lists\"\"\"\n",
    "from matplotlib import pyplot as plt\n",
    "import numpy as np\n",
    "from matplotlib_venn import venn3, venn3_circles\n",
    "from typing import List, Dict, Any\n",
    "from supervenn import supervenn\n",
    "\n",
    "def gen_venns(sets:List[set], names:List[str]):\n",
    "    \"\"\"given inputs generate venn diagram.\"\"\"\n",
    "    plt.figure(figsize=(4,4))\n",
    "    venn3(sets, names)\n",
    "    plt.show()\n",
    "\n",
    "if __name__ == \"__main__\":\n",
    "    print(\"Please 'pip install matplotlib-venn' first.\")\n",
    "    s1 = set([1,2,3,4,5])\n",
    "    s2 = set([1001,1200,1300])\n",
    "    s3 = set([123,245,127,1200,1300])\n",
    "    s4 = set(['1001','1200','1300'])\n",
    "    gen_venns([s1,s2,s3,s4],[\"Set1\",\"set2\",\"set3\",\"set4\"])"
   ]
  },
  {
   "cell_type": "code",
   "execution_count": null,
   "metadata": {},
   "outputs": [],
   "source": []
  }
 ],
 "metadata": {
  "kernelspec": {
   "display_name": "base",
   "language": "python",
   "name": "python3"
  },
  "language_info": {
   "codemirror_mode": {
    "name": "ipython",
    "version": 3
   },
   "file_extension": ".py",
   "mimetype": "text/x-python",
   "name": "python",
   "nbconvert_exporter": "python",
   "pygments_lexer": "ipython3",
   "version": "3.9.13"
  },
  "orig_nbformat": 4
 },
 "nbformat": 4,
 "nbformat_minor": 2
}
