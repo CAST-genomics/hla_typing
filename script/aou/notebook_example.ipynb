{
 "cells": [
  {
   "cell_type": "code",
   "execution_count": null,
   "metadata": {},
   "outputs": [],
   "source": [
    "project = %env GOOGLE_PROJECT\n",
    "bucket = %env WORKSPACE_BUCKET\n",
    "genomic_location = %env CDR_STORAGE_PATH\n",
    "mt_wgs_path = %env WGS_HAIL_STORAGE_PATH\n",
    "CURRENT_DATASET = %env WORKSPACE_CDR\n",
    "OAUTH_TOKEN=!gcloud auth application-default print-access-token\n",
    "OAUTH_TOKEN=OAUTH_TOKEN[0]\n",
    "project, bucket, genomic_location, mt_wgs_path, CURRENT_DATASET"
   ]
  },
  {
   "cell_type": "code",
   "execution_count": null,
   "metadata": {},
   "outputs": [],
   "source": [
    "%%capture\n",
    "%env HTSLIB_CONFIGURE_OPTIONS \"--enable-gs\"\n",
    "%env GCS_OAUTH_TOKEN=$OAUTH_TOKEN\n",
    "%env GCS_REQUESTER_PAYS_PROJECT=$project\n",
    "\n",
    "!pip3 install pysam -v --force-reinstall\n",
    "import pysam"
   ]
  },
  {
   "cell_type": "code",
   "execution_count": null,
   "metadata": {},
   "outputs": [],
   "source": [
    "# # Please download HLAVBSeq for usage\n",
    "!wget http://nagasakilab.csml.org/hla/HLAVBSeq.jar"
   ]
  },
  {
   "cell_type": "code",
   "execution_count": null,
   "metadata": {},
   "outputs": [],
   "source": [
    "# # Older fetch code for chr6 region in selected sample\n",
    "# samfile = pysam.AlignmentFile(aou_path + cramfile, \"rc\")\n",
    "# #Example for fetching via pysam\n",
    "# for x in samfile.fetch(\"chr6\", 0, 100000):\n",
    "#     print(str(x))\n",
    "\n",
    "# # commands below are generalized and more specifically listed in AoU workbench\n",
    "wgs_path = \"/some/path\"\n",
    "sample = \"some_sample.cram\""
   ]
  },
  {
   "cell_type": "code",
   "execution_count": null,
   "metadata": {},
   "outputs": [],
   "source": [
    "\"\"\"Major step to load selected file and pre-select region during wkspc import.\"\"\"\n",
    "cramfile = pysam.AlignmentFile(wgs_path + sample, \"rc\")\n",
    "localcram = pysam.AlignmentFile(sample,\"wb\",template=cramfile)\n",
    "for x in cramfile.fetch(\"chr6\"):\n",
    "    localcram.write(x)\n",
    "localcram.close()\n",
    "cramfile.close()\n",
    "!ls\n",
    "#Note: 3gb"
   ]
  },
  {
   "cell_type": "code",
   "execution_count": null,
   "metadata": {},
   "outputs": [],
   "source": [
    "\"\"\"Subsequent steps are automated in hla_aou_v*.py scripts.\"\"\"\n",
    "!samtools view -bo mapped.bam -L /project_path/hg38.bed sample"
   ]
  },
  {
   "cell_type": "code",
   "execution_count": 1,
   "metadata": {},
   "outputs": [
    {
     "name": "stdout",
     "output_type": "stream",
     "text": [
      "[E::hts_open_format] Failed to open file \"mapped.bam\" : No such file or directory\n",
      "samtools sort: can't open \"mapped.bam\": No such file or directory\n"
     ]
    }
   ],
   "source": [
    "!samtools sort -n -o sort.bam mapped.bam"
   ]
  },
  {
   "cell_type": "code",
   "execution_count": null,
   "metadata": {},
   "outputs": [],
   "source": [
    "!samtools fixmate -O bam sort.bam fixmate.bam"
   ]
  },
  {
   "cell_type": "code",
   "execution_count": null,
   "metadata": {},
   "outputs": [],
   "source": [
    "!samtools fastq -n -0 mapped.0.fastq -s mapped.s.fastq -1 mapped.1.fastq -2 mapped.2.fastq fixmate.bam"
   ]
  },
  {
   "cell_type": "code",
   "execution_count": null,
   "metadata": {},
   "outputs": [],
   "source": [
    "!samtools view -bh -f 12 -o unmapped.bam sample"
   ]
  },
  {
   "cell_type": "code",
   "execution_count": null,
   "metadata": {},
   "outputs": [],
   "source": [
    "!samtools fastq -n -0 unmapped.0.fastq -s unmapped.s.fastq -1 unmapped.1.fastq -2 unmapped.2.fastq unmapped.bam"
   ]
  },
  {
   "cell_type": "code",
   "execution_count": null,
   "metadata": {},
   "outputs": [],
   "source": [
    "#!../../bwa/bwa index alleles.gen.fasta\n",
    "!../../bwa/bwa mem -t -8 -P -L 10000 -a alleles.gen.fasta mapped.1.fastq mapped.2.fastq > totest.sam"
   ]
  },
  {
   "cell_type": "code",
   "execution_count": null,
   "metadata": {},
   "outputs": [],
   "source": [
    "# HLAVBSeq run\n",
    "!java -Xmx12G -jar ./HLAVBSeq.jar alleles.gen.fasta totest.sam result.txt --alpha_zero 0.01 --is_paired"
   ]
  },
  {
   "cell_type": "code",
   "execution_count": null,
   "metadata": {},
   "outputs": [],
   "source": [
    "!head result.txt"
   ]
  }
 ],
 "metadata": {
  "kernelspec": {
   "display_name": "Python 3",
   "language": "python",
   "name": "python3"
  },
  "language_info": {
   "codemirror_mode": {
    "name": "ipython",
    "version": 3
   },
   "file_extension": ".py",
   "mimetype": "text/x-python",
   "name": "python",
   "nbconvert_exporter": "python",
   "pygments_lexer": "ipython3",
   "version": "3.8.10 (default, Jun 22 2022, 20:18:18) \n[GCC 9.4.0]"
  },
  "orig_nbformat": 4,
  "vscode": {
   "interpreter": {
    "hash": "916dbcbb3f70747c44a77c7bcd40155683ae19c65e1c03b4aa3499c5328201f1"
   }
  }
 },
 "nbformat": 4,
 "nbformat_minor": 2
}
